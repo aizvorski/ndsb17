{
 "cells": [
  {
   "cell_type": "code",
   "execution_count": 4,
   "metadata": {
    "collapsed": false
   },
   "outputs": [],
   "source": [
    "import numpy as np\n",
    "from keras.models import Model\n",
    "from keras.layers import Input, merge, Convolution3D, MaxPooling3D, UpSampling3D, GlobalAveragePooling3D, Dense, Flatten, Dropout, Activation\n",
    "from keras.layers.normalization import BatchNormalization\n",
    "from keras.layers.advanced_activations import ELU\n",
    "from keras.optimizers import SGD, Adam, Nadam\n",
    "\n",
    "from keras_tqdm import TQDMNotebookCallback"
   ]
  },
  {
   "cell_type": "code",
   "execution_count": 2,
   "metadata": {
    "collapsed": true
   },
   "outputs": [],
   "source": [
    "X = np.load(\"/mnt/data/luna16/sets/toy_set_v1_20k.npy\")\n",
    "y = np.zeros((20000,2))\n",
    "y[:10000,0] = 1\n",
    "y[10000:,1] = 1\n",
    "\n",
    "idx = np.random.permutation(X.shape[0])\n",
    "X, y = X[idx], y[idx]"
   ]
  },
  {
   "cell_type": "code",
   "execution_count": 3,
   "metadata": {
    "collapsed": true
   },
   "outputs": [],
   "source": [
    "X = (X + 693.0) / 343.0"
   ]
  },
  {
   "cell_type": "code",
   "execution_count": 22,
   "metadata": {
    "collapsed": false
   },
   "outputs": [],
   "source": [
    "vsize = (32, 32, 32)\n",
    "\n",
    "alpha = 2\n",
    "\n",
    "def model3d(vsize, do_features=False):\n",
    "    inputs = Input(vsize + (1,))\n",
    "    sz = 32\n",
    "\n",
    "    def conv3dparams():\n",
    "        return { 'activation':ELU(), 'border_mode':'valid', 'init': 'he_normal' }\n",
    "\n",
    "    x = Convolution3D(sz, 3, 3, 3, **conv3dparams())(inputs)\n",
    "    x = BatchNormalization()(x)\n",
    "    x = Convolution3D(sz, 3, 3, 3, **conv3dparams())(x)\n",
    "    x = BatchNormalization()(x)\n",
    "    x = MaxPooling3D(pool_size=(2, 2, 2))(x)\n",
    "\n",
    "    sz = int(sz * alpha)\n",
    "    x = Convolution3D(sz, 3, 3, 3, **conv3dparams())(x)\n",
    "    x = BatchNormalization()(x)\n",
    "    x = Convolution3D(sz, 3, 3, 3, **conv3dparams())(x)\n",
    "    x = BatchNormalization()(x)\n",
    "    # x = MaxPooling3D(pool_size=(2, 2, 2))(x)\n",
    "\n",
    "    sz = int(sz * alpha)\n",
    "    x = Convolution3D(sz, 3, 3, 3, **conv3dparams())(x)\n",
    "    x = BatchNormalization()(x)\n",
    "    x = Convolution3D(sz, 3, 3, 3, **conv3dparams())(x)\n",
    "    x = BatchNormalization()(x)\n",
    "    # x = MaxPooling3D(pool_size=(2, 2, 2))(x)\n",
    "\n",
    "    sz = int(sz * alpha)\n",
    "    x = Convolution3D(sz, 3, 3, 3, **conv3dparams())(x)\n",
    "    x = BatchNormalization()(x)\n",
    "    x = Convolution3D(sz, 3, 3, 3, **conv3dparams())(x)\n",
    "    x = BatchNormalization()(x)\n",
    "    # x = MaxPooling3D(pool_size=(2, 2, 2))(x)\n",
    "\n",
    "    sz = int(sz * alpha)\n",
    "    # x = Convolution3D(sz, 3, 3, 3, **conv3dparams)(x)\n",
    "    # x = Convolution3D(sz, 3, 3, 3, **conv3dparams)(x)\n",
    "    # x = BatchNormalization()(x)\n",
    "\n",
    "    x = Convolution3D(sz, 2, 2, 2, activation=ELU(), border_mode='valid')(x)\n",
    "    x = BatchNormalization()(x)\n",
    "    x = Convolution3D(2, 1, 1, 1, activation='linear', border_mode='same')(x)\n",
    "    if not do_features:\n",
    "        x = Flatten()(x)\n",
    "        x = Activation('softmax')(x)\n",
    "\n",
    "    model = Model(input=inputs, output=x)\n",
    "\n",
    "    return model\n",
    "\n"
   ]
  },
  {
   "cell_type": "code",
   "execution_count": null,
   "metadata": {
    "collapsed": false
   },
   "outputs": [],
   "source": [
    "model = model_3d()\n",
    "print(model.summary())\n",
    "\n",
    "#sgd = SGD(lr=0.001, decay=1e-6, momentum=0.9, nesterov=True)\n",
    "model.compile(loss='categorical_crossentropy', metrics=['accuracy'], optimizer=Adam())\n",
    "\n",
    "batch_size=32\n",
    "\n",
    "model.fit(\n",
    "    X, \n",
    "    y, \n",
    "    batch_size=batch_size,\n",
    "    nb_epoch=10,\n",
    "    validation_split=0.1,\n",
    "    verbose=0, callbacks=[TQDMNotebookCallback(leave_inner=True)])"
   ]
  },
  {
   "cell_type": "code",
   "execution_count": null,
   "metadata": {
    "collapsed": false
   },
   "outputs": [],
   "source": [
    "sgd.lr = 0.00001\n",
    "\n",
    "model.fit(\n",
    "    X, \n",
    "    y, \n",
    "    batch_size=batch_size,\n",
    "    nb_epoch=3,\n",
    "    validation_split=0.1,\n",
    "    verbose=0, callbacks=[TQDMNotebookCallback(leave_inner=True)])"
   ]
  },
  {
   "cell_type": "code",
   "execution_count": null,
   "metadata": {
    "collapsed": false
   },
   "outputs": [],
   "source": [
    "np.mean(X)"
   ]
  },
  {
   "cell_type": "code",
   "execution_count": null,
   "metadata": {
    "collapsed": false
   },
   "outputs": [],
   "source": [
    "np.std(X)"
   ]
  },
  {
   "cell_type": "code",
   "execution_count": null,
   "metadata": {
    "collapsed": false
   },
   "outputs": [],
   "source": [
    "y_pred = model.predict(X[18000:], batch_size)"
   ]
  },
  {
   "cell_type": "code",
   "execution_count": null,
   "metadata": {
    "collapsed": false
   },
   "outputs": [],
   "source": [
    "y_true = y[18000:]\n",
    "idxs = (y_true[:,1] - y_pred[:,1]).argsort()[-30:][::-1]"
   ]
  },
  {
   "cell_type": "code",
   "execution_count": null,
   "metadata": {
    "collapsed": false
   },
   "outputs": [],
   "source": [
    "for i in idxs:\n",
    "    print(y_true[i], y_pred[i], i)"
   ]
  },
  {
   "cell_type": "code",
   "execution_count": null,
   "metadata": {
    "collapsed": true
   },
   "outputs": [],
   "source": [
    "from pylab import *\n",
    "%matplotlib inline"
   ]
  },
  {
   "cell_type": "code",
   "execution_count": null,
   "metadata": {
    "collapsed": false,
    "scrolled": false
   },
   "outputs": [],
   "source": [
    "for i in idxs[:10]:\n",
    "    imshow(X[i+18000,16,:,:,0])\n",
    "    show()"
   ]
  },
  {
   "cell_type": "code",
   "execution_count": 40,
   "metadata": {
    "collapsed": false
   },
   "outputs": [
    {
     "name": "stderr",
     "output_type": "stream",
     "text": [
      "/home/alex/anaconda3/lib/python3.6/site-packages/dicom/__init__.py:53: UserWarning: \n",
      "This code is using an older version of pydicom, which is no longer \n",
      "maintained as of Jan 2017.  You can access the new pydicom features and API \n",
      "by installing `pydicom` from PyPI.\n",
      "See 'Transitioning to pydicom 1.x' section at pydicom.readthedocs.org \n",
      "for more information.\n",
      "\n",
      "  warnings.warn(msg)\n"
     ]
    }
   ],
   "source": [
    "import data"
   ]
  },
  {
   "cell_type": "code",
   "execution_count": 41,
   "metadata": {
    "collapsed": true
   },
   "outputs": [],
   "source": [
    "pid = data.luna16_get_patient_ids()[0]"
   ]
  },
  {
   "cell_type": "code",
   "execution_count": 139,
   "metadata": {
    "collapsed": true
   },
   "outputs": [],
   "source": [
    "image = data.luna16_get_image(pid)\n",
    "image = preprocess(image)"
   ]
  },
  {
   "cell_type": "code",
   "execution_count": 141,
   "metadata": {
    "collapsed": false
   },
   "outputs": [],
   "source": [
    "cubes = []\n",
    "for i in range(0, image.shape[0], 16):\n",
    "    for j in range(0, image.shape[1], 8):\n",
    "        for k in range(0, image.shape[2], 8):\n",
    "            cube = image[i:i+32,j:j+32,k:k+32]\n",
    "            if (cube.shape != (32,32,32)):\n",
    "                continue\n",
    "            cubes.append(cube)\n",
    "cubes = np.stack(cubes)\n",
    "cubes = cubes[...,None]"
   ]
  },
  {
   "cell_type": "code",
   "execution_count": 142,
   "metadata": {
    "collapsed": false
   },
   "outputs": [
    {
     "data": {
      "text/plain": [
       "(22932, 32, 32, 32, 1)"
      ]
     },
     "execution_count": 142,
     "metadata": {},
     "output_type": "execute_result"
    }
   ],
   "source": [
    "cubes.shape"
   ]
  },
  {
   "cell_type": "code",
   "execution_count": 143,
   "metadata": {
    "collapsed": false
   },
   "outputs": [],
   "source": [
    "cps = model.predict(cubes, batch_size)"
   ]
  },
  {
   "cell_type": "code",
   "execution_count": null,
   "metadata": {
    "collapsed": false
   },
   "outputs": [],
   "source": [
    "np.count_nonzero(cps[:,1] > 0.5)"
   ]
  },
  {
   "cell_type": "code",
   "execution_count": null,
   "metadata": {
    "collapsed": false
   },
   "outputs": [],
   "source": [
    "image.shape[0] / 32, image.shape[1] / 32, image.shape[2] / 32"
   ]
  },
  {
   "cell_type": "code",
   "execution_count": null,
   "metadata": {
    "collapsed": false
   },
   "outputs": [],
   "source": [
    "cps = cps[:,1].reshape((7,11,11))"
   ]
  },
  {
   "cell_type": "code",
   "execution_count": null,
   "metadata": {
    "collapsed": false
   },
   "outputs": [],
   "source": [
    "imshow(cps[3])\n",
    "colorbar()"
   ]
  },
  {
   "cell_type": "code",
   "execution_count": 10,
   "metadata": {
    "collapsed": false
   },
   "outputs": [
    {
     "data": {
      "text/plain": [
       "'convolution3d_10'"
      ]
     },
     "execution_count": 10,
     "metadata": {},
     "output_type": "execute_result"
    }
   ],
   "source": [
    "model.layers[-3]"
   ]
  },
  {
   "cell_type": "code",
   "execution_count": 14,
   "metadata": {
    "collapsed": false
   },
   "outputs": [],
   "source": [
    "input_ = model.input\n",
    "features = model.layers[-3].output\n",
    "model2 = Model(input_, features)\n"
   ]
  },
  {
   "cell_type": "code",
   "execution_count": 16,
   "metadata": {
    "collapsed": true
   },
   "outputs": [],
   "source": [
    "model.save_weights('/mnt/data/snap/tmp.h5')"
   ]
  },
  {
   "cell_type": "code",
   "execution_count": 51,
   "metadata": {
    "collapsed": false
   },
   "outputs": [],
   "source": [
    "model2 = model3d((128,128,128), do_features=True)"
   ]
  },
  {
   "cell_type": "code",
   "execution_count": 52,
   "metadata": {
    "collapsed": false
   },
   "outputs": [
    {
     "name": "stdout",
     "output_type": "stream",
     "text": [
      "____________________________________________________________________________________________________\n",
      "Layer (type)                     Output Shape          Param #     Connected to                     \n",
      "====================================================================================================\n",
      "input_10 (InputLayer)            (None, 128, 128, 128, 0                                            \n",
      "____________________________________________________________________________________________________\n",
      "convolution3d_91 (Convolution3D) (None, 126, 126, 126, 896         input_10[0][0]                   \n",
      "____________________________________________________________________________________________________\n",
      "batchnormalization_82 (BatchNorm (None, 126, 126, 126, 128         convolution3d_91[0][0]           \n",
      "____________________________________________________________________________________________________\n",
      "convolution3d_92 (Convolution3D) (None, 124, 124, 124, 27680       batchnormalization_82[0][0]      \n",
      "____________________________________________________________________________________________________\n",
      "batchnormalization_83 (BatchNorm (None, 124, 124, 124, 128         convolution3d_92[0][0]           \n",
      "____________________________________________________________________________________________________\n",
      "maxpooling3d_10 (MaxPooling3D)   (None, 62, 62, 62, 32 0           batchnormalization_83[0][0]      \n",
      "____________________________________________________________________________________________________\n",
      "convolution3d_93 (Convolution3D) (None, 60, 60, 60, 64 55360       maxpooling3d_10[0][0]            \n",
      "____________________________________________________________________________________________________\n",
      "batchnormalization_84 (BatchNorm (None, 60, 60, 60, 64 256         convolution3d_93[0][0]           \n",
      "____________________________________________________________________________________________________\n",
      "convolution3d_94 (Convolution3D) (None, 58, 58, 58, 64 110656      batchnormalization_84[0][0]      \n",
      "____________________________________________________________________________________________________\n",
      "batchnormalization_85 (BatchNorm (None, 58, 58, 58, 64 256         convolution3d_94[0][0]           \n",
      "____________________________________________________________________________________________________\n",
      "convolution3d_95 (Convolution3D) (None, 56, 56, 56, 12 221312      batchnormalization_85[0][0]      \n",
      "____________________________________________________________________________________________________\n",
      "batchnormalization_86 (BatchNorm (None, 56, 56, 56, 12 512         convolution3d_95[0][0]           \n",
      "____________________________________________________________________________________________________\n",
      "convolution3d_96 (Convolution3D) (None, 54, 54, 54, 12 442496      batchnormalization_86[0][0]      \n",
      "____________________________________________________________________________________________________\n",
      "batchnormalization_87 (BatchNorm (None, 54, 54, 54, 12 512         convolution3d_96[0][0]           \n",
      "____________________________________________________________________________________________________\n",
      "convolution3d_97 (Convolution3D) (None, 52, 52, 52, 25 884992      batchnormalization_87[0][0]      \n",
      "____________________________________________________________________________________________________\n",
      "batchnormalization_88 (BatchNorm (None, 52, 52, 52, 25 1024        convolution3d_97[0][0]           \n",
      "____________________________________________________________________________________________________\n",
      "convolution3d_98 (Convolution3D) (None, 50, 50, 50, 25 1769728     batchnormalization_88[0][0]      \n",
      "____________________________________________________________________________________________________\n",
      "batchnormalization_89 (BatchNorm (None, 50, 50, 50, 25 1024        convolution3d_98[0][0]           \n",
      "____________________________________________________________________________________________________\n",
      "convolution3d_99 (Convolution3D) (None, 49, 49, 49, 51 1049088     batchnormalization_89[0][0]      \n",
      "____________________________________________________________________________________________________\n",
      "batchnormalization_90 (BatchNorm (None, 49, 49, 49, 51 2048        convolution3d_99[0][0]           \n",
      "____________________________________________________________________________________________________\n",
      "convolution3d_100 (Convolution3D (None, 49, 49, 49, 2) 1026        batchnormalization_90[0][0]      \n",
      "====================================================================================================\n",
      "Total params: 4,569,122\n",
      "Trainable params: 4,566,178\n",
      "Non-trainable params: 2,944\n",
      "____________________________________________________________________________________________________\n"
     ]
    }
   ],
   "source": [
    "model2.summary()"
   ]
  },
  {
   "cell_type": "code",
   "execution_count": 53,
   "metadata": {
    "collapsed": true
   },
   "outputs": [],
   "source": [
    "model2.load_weights('/mnt/data/snap/tmp.h5', by_name=True)"
   ]
  },
  {
   "cell_type": "code",
   "execution_count": 90,
   "metadata": {
    "collapsed": true
   },
   "outputs": [],
   "source": [
    "def preprocess(image):\n",
    "    return (image + 693.0) / 343.0"
   ]
  },
  {
   "cell_type": "code",
   "execution_count": 126,
   "metadata": {
    "collapsed": true
   },
   "outputs": [],
   "source": [
    "image = preprocess(image)"
   ]
  },
  {
   "cell_type": "code",
   "execution_count": 130,
   "metadata": {
    "collapsed": false
   },
   "outputs": [],
   "source": [
    "result = model2.predict(image[115-64:115+64,130-64:130+64,130-64:130+64].reshape((1,128,128,128,1)), batch_size=1)"
   ]
  },
  {
   "cell_type": "code",
   "execution_count": 94,
   "metadata": {
    "collapsed": false
   },
   "outputs": [
    {
     "data": {
      "text/plain": [
       "(231, 360, 360)"
      ]
     },
     "execution_count": 94,
     "metadata": {},
     "output_type": "execute_result"
    }
   ],
   "source": [
    "image.shape"
   ]
  },
  {
   "cell_type": "code",
   "execution_count": 95,
   "metadata": {
    "collapsed": false
   },
   "outputs": [
    {
     "data": {
      "text/plain": [
       "(1, 49, 49, 49, 2)"
      ]
     },
     "execution_count": 95,
     "metadata": {},
     "output_type": "execute_result"
    }
   ],
   "source": [
    "result.shape"
   ]
  },
  {
   "cell_type": "code",
   "execution_count": 80,
   "metadata": {
    "collapsed": true
   },
   "outputs": [],
   "source": [
    "def softmax(x):\n",
    "    return np.exp(x - np.max(x)) / np.sum(np.exp(x - np.max(x)))"
   ]
  },
  {
   "cell_type": "code",
   "execution_count": 75,
   "metadata": {
    "collapsed": false
   },
   "outputs": [
    {
     "name": "stderr",
     "output_type": "stream",
     "text": [
      "/home/alex/anaconda3/lib/python3.6/site-packages/ipykernel/__main__.py:1: RuntimeWarning: invalid value encountered in true_divide\n",
      "  if __name__ == '__main__':\n"
     ]
    }
   ],
   "source": [
    "p = np.exp(result[...,1] - np.max(result)) / np.sum(np.exp(result - np.max(result)), -1)"
   ]
  },
  {
   "cell_type": "code",
   "execution_count": 131,
   "metadata": {
    "collapsed": false
   },
   "outputs": [],
   "source": [
    "p = np.zeros(result.shape).reshape((-1,2))\n",
    "r = result.reshape((-1,2))\n",
    "for i in range(r.shape[0]):\n",
    "    p[i] = softmax(r[i])\n",
    "p = p.reshape(result.shape)"
   ]
  },
  {
   "cell_type": "code",
   "execution_count": 133,
   "metadata": {
    "collapsed": false
   },
   "outputs": [
    {
     "data": {
      "text/plain": [
       "<matplotlib.colorbar.Colorbar at 0x7f27a202b0b8>"
      ]
     },
     "execution_count": 133,
     "metadata": {},
     "output_type": "execute_result"
    },
    {
     "data": {
      "image/png": "[encoded data removed]",
      "text/plain": [
       "<matplotlib.figure.Figure at 0x7f27a23a9940>"
      ]
     },
     "metadata": {},
     "output_type": "display_data"
    }
   ],
   "source": [
    "imshow(result[0,25,:,:,0])\n",
    "colorbar()"
   ]
  },
  {
   "cell_type": "code",
   "execution_count": 60,
   "metadata": {
    "collapsed": false
   },
   "outputs": [],
   "source": [
    "from pylab import *\n",
    "%matplotlib inline"
   ]
  },
  {
   "cell_type": "code",
   "execution_count": 134,
   "metadata": {
    "collapsed": false
   },
   "outputs": [
    {
     "data": {
      "text/plain": [
       "<matplotlib.colorbar.Colorbar at 0x7f27a1f382b0>"
      ]
     },
     "execution_count": 134,
     "metadata": {},
     "output_type": "execute_result"
    },
    {
     "data": {
      "image/png": "[encoded data removed]",
      "text/plain": [
       "<matplotlib.figure.Figure at 0x7f27a235fdd8>"
      ]
     },
     "metadata": {},
     "output_type": "display_data"
    }
   ],
   "source": [
    "imshow(image[115,130-64:130+64,130-64:130+64])\n",
    "colorbar()"
   ]
  },
  {
   "cell_type": "code",
   "execution_count": 128,
   "metadata": {
    "collapsed": false
   },
   "outputs": [
    {
     "data": {
      "text/plain": [
       "<matplotlib.image.AxesImage at 0x7f27a231e208>"
      ]
     },
     "execution_count": 128,
     "metadata": {},
     "output_type": "execute_result"
    },
    {
     "data": {
      "image/png": "[encoded data removed]",
      "text/plain": [
       "<matplotlib.figure.Figure at 0x7f27a2596ac8>"
      ]
     },
     "metadata": {},
     "output_type": "display_data"
    }
   ],
   "source": [
    "imshow(image[115])"
   ]
  },
  {
   "cell_type": "code",
   "execution_count": 127,
   "metadata": {
    "collapsed": true
   },
   "outputs": [],
   "source": [
    "image[115-3:115+3,130-64+40:130-64+46,130-64+40:130-64+46] = 3"
   ]
  },
  {
   "cell_type": "code",
   "execution_count": 147,
   "metadata": {
    "collapsed": false
   },
   "outputs": [
    {
     "data": {
      "text/plain": [
       "<matplotlib.image.AxesImage at 0x7f279c836c88>"
      ]
     },
     "execution_count": 147,
     "metadata": {},
     "output_type": "execute_result"
    },
    {
     "data": {
      "image/png": "[encoded data removed]",
      "text/plain": [
       "<matplotlib.figure.Figure at 0x7f279c6a32b0>"
      ]
     },
     "metadata": {},
     "output_type": "display_data"
    }
   ],
   "source": [
    "cube = image[115-16:115+16,150-16:150+16,120-16:120+16]\n",
    "imshow(cube[16])"
   ]
  },
  {
   "cell_type": "code",
   "execution_count": 151,
   "metadata": {
    "collapsed": false
   },
   "outputs": [
    {
     "data": {
      "text/plain": [
       "array([[  9.99786198e-01,   2.13767868e-04]], dtype=float32)"
      ]
     },
     "execution_count": 151,
     "metadata": {},
     "output_type": "execute_result"
    }
   ],
   "source": [
    "model.predict(cube.reshape((1,32,32,32,1)), batch_size=1)"
   ]
  },
  {
   "cell_type": "code",
   "execution_count": null,
   "metadata": {
    "collapsed": true
   },
   "outputs": [],
   "source": []
  }
 ],
 "metadata": {
  "kernelspec": {
   "display_name": "Python 3",
   "language": "python",
   "name": "python3"
  },
  "language_info": {
   "codemirror_mode": {
    "name": "ipython",
    "version": 3
   },
   "file_extension": ".py",
   "mimetype": "text/x-python",
   "name": "python",
   "nbconvert_exporter": "python",
   "pygments_lexer": "ipython3",
   "version": "3.6.0"
  },
  "widgets": {
   "state": {
    "17ce7fcda9fe405d9d66cd5e84f58d78": {
     "views": [
      {
       "cell_index": 3
      }
     ]
    },
    "23d65a3ed1934f6e923a6a7a6ba2fe83": {
     "views": [
      {
       "cell_index": 2
      }
     ]
    },
    "26a7a1a662a44e279b253225f0ae2d68": {
     "views": [
      {
       "cell_index": 3
      }
     ]
    },
    "2d185e82eca2456681eb80f9a1fea9f2": {
     "views": [
      {
       "cell_index": 4
      }
     ]
    },
    "2f068e4a8620440f9834d06df63b715b": {
     "views": [
      {
       "cell_index": 3
      }
     ]
    },
    "42b968b1931347d4934b25e538ee0d83": {
     "views": [
      {
       "cell_index": 3
      }
     ]
    },
    "4ebe6c978ad0492eb1b384ad6eccd9ca": {
     "views": [
      {
       "cell_index": 3
      }
     ]
    },
    "5982717f96ec497da567128b59385447": {
     "views": [
      {
       "cell_index": 3
      }
     ]
    },
    "6c338e06adda4ee1b1aa19d4e77a132d": {
     "views": [
      {
       "cell_index": 3
      }
     ]
    },
    "725034e2f98c4fa1845211c4082e3a40": {
     "views": [
      {
       "cell_index": 3
      }
     ]
    },
    "7ba9840a87474a82b8f9998bbef85238": {
     "views": [
      {
       "cell_index": 2
      }
     ]
    },
    "8273f89581d5440abefeda137ca7aad0": {
     "views": [
      {
       "cell_index": 3
      }
     ]
    },
    "9429d4d2f8b041968c5af58235f18fea": {
     "views": [
      {
       "cell_index": 3
      }
     ]
    },
    "980ef8b35abb4fef9e8687cbe9a8565a": {
     "views": [
      {
       "cell_index": 3
      }
     ]
    },
    "a1381b6c98594b9c99100889993c4103": {
     "views": [
      {
       "cell_index": 2
      }
     ]
    },
    "a66248c9aeb5417190b75ab45c9962e5": {
     "views": [
      {
       "cell_index": 3
      }
     ]
    },
    "aab9881540224f44b42b63356c7d0021": {
     "views": [
      {
       "cell_index": 4
      }
     ]
    },
    "b401f0a5b49d40949903586b05192e08": {
     "views": [
      {
       "cell_index": 3
      }
     ]
    },
    "bf0d3d8e704e42958c81961d96c83432": {
     "views": [
      {
       "cell_index": 3
      }
     ]
    },
    "c8d6b5b82ce14368a053fc7a61af71ec": {
     "views": [
      {
       "cell_index": 3
      }
     ]
    },
    "d15e0bcc876e42c59ed674f8cb12c31f": {
     "views": [
      {
       "cell_index": 3
      }
     ]
    },
    "df3a785885104d43a182314f79ee56bf": {
     "views": [
      {
       "cell_index": 3
      }
     ]
    },
    "e86d9d8278e54d09b53787d11f505514": {
     "views": [
      {
       "cell_index": 3
      }
     ]
    },
    "ebfeb3903084434fa2e97d407df5d2ca": {
     "views": [
      {
       "cell_index": 4
      }
     ]
    },
    "ee0f1b1732ad4385992acd6ce8601c4b": {
     "views": [
      {
       "cell_index": 4
      }
     ]
    },
    "f3923fd31d2d40e8adfd8da08cbf5e9c": {
     "views": [
      {
       "cell_index": 3
      }
     ]
    }
   },
   "version": "1.2.0"
  }
 },
 "nbformat": 4,
 "nbformat_minor": 2
}
