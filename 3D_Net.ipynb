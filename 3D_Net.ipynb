{
 "cells": [
  {
   "cell_type": "code",
   "execution_count": 1,
   "metadata": {
    "collapsed": false
   },
   "outputs": [
    {
     "name": "stderr",
     "output_type": "stream",
     "text": [
      "Using TensorFlow backend.\n"
     ]
    }
   ],
   "source": [
    "import numpy as np\n",
    "from keras.models import Model\n",
    "from keras.layers import Input, merge, Convolution3D, MaxPooling3D, UpSampling3D, GlobalAveragePooling3D, Dense, Flatten\n",
    "from keras.layers.normalization import BatchNormalization\n",
    "from keras.optimizers import SGD\n",
    "\n",
    "from keras_tqdm import TQDMNotebookCallback"
   ]
  },
  {
   "cell_type": "code",
   "execution_count": 2,
   "metadata": {
    "collapsed": true
   },
   "outputs": [],
   "source": [
    "X = np.load(\"/mnt/data/luna16/sets/toy_set_v1_20k.npy\")\n",
    "y = np.zeros((20000,2))\n",
    "y[:10000,0] = 1\n",
    "y[10000:,1] = 1\n",
    "\n",
    "idx = np.random.permutation(X.shape[0])\n",
    "X, y = X[idx], y[idx]"
   ]
  },
  {
   "cell_type": "code",
   "execution_count": 5,
   "metadata": {
    "collapsed": false
   },
   "outputs": [
    {
     "name": "stdout",
     "output_type": "stream",
     "text": [
      "____________________________________________________________________________________________________\n",
      "Layer (type)                     Output Shape          Param #     Connected to                     \n",
      "====================================================================================================\n",
      "input_3 (InputLayer)             (None, 32, 32, 32, 1) 0                                            \n",
      "____________________________________________________________________________________________________\n",
      "convolution3d_23 (Convolution3D) (None, 30, 30, 30, 32 896         input_3[0][0]                    \n",
      "____________________________________________________________________________________________________\n",
      "convolution3d_24 (Convolution3D) (None, 28, 28, 28, 32 27680       convolution3d_23[0][0]           \n",
      "____________________________________________________________________________________________________\n",
      "batchnormalization_11 (BatchNorm (None, 28, 28, 28, 32 128         convolution3d_24[0][0]           \n",
      "____________________________________________________________________________________________________\n",
      "maxpooling3d_9 (MaxPooling3D)    (None, 14, 14, 14, 32 0           batchnormalization_11[0][0]      \n",
      "____________________________________________________________________________________________________\n",
      "convolution3d_25 (Convolution3D) (None, 12, 12, 12, 64 55360       maxpooling3d_9[0][0]             \n",
      "____________________________________________________________________________________________________\n",
      "convolution3d_26 (Convolution3D) (None, 10, 10, 10, 64 110656      convolution3d_25[0][0]           \n",
      "____________________________________________________________________________________________________\n",
      "batchnormalization_12 (BatchNorm (None, 10, 10, 10, 64 256         convolution3d_26[0][0]           \n",
      "____________________________________________________________________________________________________\n",
      "convolution3d_27 (Convolution3D) (None, 8, 8, 8, 128)  221312      batchnormalization_12[0][0]      \n",
      "____________________________________________________________________________________________________\n",
      "convolution3d_28 (Convolution3D) (None, 6, 6, 6, 128)  442496      convolution3d_27[0][0]           \n",
      "____________________________________________________________________________________________________\n",
      "batchnormalization_13 (BatchNorm (None, 6, 6, 6, 128)  512         convolution3d_28[0][0]           \n",
      "____________________________________________________________________________________________________\n",
      "convolution3d_29 (Convolution3D) (None, 4, 4, 4, 256)  884992      batchnormalization_13[0][0]      \n",
      "____________________________________________________________________________________________________\n",
      "convolution3d_30 (Convolution3D) (None, 2, 2, 2, 256)  1769728     convolution3d_29[0][0]           \n",
      "____________________________________________________________________________________________________\n",
      "batchnormalization_14 (BatchNorm (None, 2, 2, 2, 256)  1024        convolution3d_30[0][0]           \n",
      "____________________________________________________________________________________________________\n",
      "convolution3d_31 (Convolution3D) (None, 1, 1, 1, 512)  1049088     batchnormalization_14[0][0]      \n",
      "____________________________________________________________________________________________________\n",
      "flatten_3 (Flatten)              (None, 512)           0           convolution3d_31[0][0]           \n",
      "____________________________________________________________________________________________________\n",
      "dense_3 (Dense)                  (None, 2)             1026        flatten_3[0][0]                  \n",
      "====================================================================================================\n",
      "Total params: 4,565,154\n",
      "Trainable params: 4,564,194\n",
      "Non-trainable params: 960\n",
      "____________________________________________________________________________________________________\n",
      "None\n"
     ]
    },
    {
     "ename": "KeyboardInterrupt",
     "evalue": "",
     "output_type": "error",
     "traceback": [
      "\u001b[0;31m---------------------------------------------------------------------------\u001b[0m",
      "\u001b[0;31mKeyboardInterrupt\u001b[0m                         Traceback (most recent call last)",
      "\u001b[0;32m<ipython-input-5-aec7c8c9765e>\u001b[0m in \u001b[0;36m<module>\u001b[0;34m()\u001b[0m\n\u001b[1;32m     60\u001b[0m     \u001b[0mnb_epoch\u001b[0m\u001b[0;34m=\u001b[0m\u001b[0;36m10\u001b[0m\u001b[0;34m,\u001b[0m\u001b[0;34m\u001b[0m\u001b[0m\n\u001b[1;32m     61\u001b[0m     \u001b[0mvalidation_split\u001b[0m\u001b[0;34m=\u001b[0m\u001b[0;36m0.1\u001b[0m\u001b[0;34m,\u001b[0m\u001b[0;34m\u001b[0m\u001b[0m\n\u001b[0;32m---> 62\u001b[0;31m     verbose=0, callbacks=[TQDMNotebookCallback(leave_inner=True)])\n\u001b[0m",
      "\u001b[0;32m/home/alex/anaconda3/lib/python3.6/site-packages/keras/engine/training.py\u001b[0m in \u001b[0;36mfit\u001b[0;34m(self, x, y, batch_size, nb_epoch, verbose, callbacks, validation_split, validation_data, shuffle, class_weight, sample_weight, initial_epoch)\u001b[0m\n\u001b[1;32m   1194\u001b[0m                               \u001b[0mval_f\u001b[0m\u001b[0;34m=\u001b[0m\u001b[0mval_f\u001b[0m\u001b[0;34m,\u001b[0m \u001b[0mval_ins\u001b[0m\u001b[0;34m=\u001b[0m\u001b[0mval_ins\u001b[0m\u001b[0;34m,\u001b[0m \u001b[0mshuffle\u001b[0m\u001b[0;34m=\u001b[0m\u001b[0mshuffle\u001b[0m\u001b[0;34m,\u001b[0m\u001b[0;34m\u001b[0m\u001b[0m\n\u001b[1;32m   1195\u001b[0m                               \u001b[0mcallback_metrics\u001b[0m\u001b[0;34m=\u001b[0m\u001b[0mcallback_metrics\u001b[0m\u001b[0;34m,\u001b[0m\u001b[0;34m\u001b[0m\u001b[0m\n\u001b[0;32m-> 1196\u001b[0;31m                               initial_epoch=initial_epoch)\n\u001b[0m\u001b[1;32m   1197\u001b[0m \u001b[0;34m\u001b[0m\u001b[0m\n\u001b[1;32m   1198\u001b[0m     \u001b[0;32mdef\u001b[0m \u001b[0mevaluate\u001b[0m\u001b[0;34m(\u001b[0m\u001b[0mself\u001b[0m\u001b[0;34m,\u001b[0m \u001b[0mx\u001b[0m\u001b[0;34m,\u001b[0m \u001b[0my\u001b[0m\u001b[0;34m,\u001b[0m \u001b[0mbatch_size\u001b[0m\u001b[0;34m=\u001b[0m\u001b[0;36m32\u001b[0m\u001b[0;34m,\u001b[0m \u001b[0mverbose\u001b[0m\u001b[0;34m=\u001b[0m\u001b[0;36m1\u001b[0m\u001b[0;34m,\u001b[0m \u001b[0msample_weight\u001b[0m\u001b[0;34m=\u001b[0m\u001b[0;32mNone\u001b[0m\u001b[0;34m)\u001b[0m\u001b[0;34m:\u001b[0m\u001b[0;34m\u001b[0m\u001b[0m\n",
      "\u001b[0;32m/home/alex/anaconda3/lib/python3.6/site-packages/keras/engine/training.py\u001b[0m in \u001b[0;36m_fit_loop\u001b[0;34m(self, f, ins, out_labels, batch_size, nb_epoch, verbose, callbacks, val_f, val_ins, shuffle, callback_metrics, initial_epoch)\u001b[0m\n\u001b[1;32m    889\u001b[0m                 \u001b[0mbatch_logs\u001b[0m\u001b[0;34m[\u001b[0m\u001b[0;34m'size'\u001b[0m\u001b[0;34m]\u001b[0m \u001b[0;34m=\u001b[0m \u001b[0mlen\u001b[0m\u001b[0;34m(\u001b[0m\u001b[0mbatch_ids\u001b[0m\u001b[0;34m)\u001b[0m\u001b[0;34m\u001b[0m\u001b[0m\n\u001b[1;32m    890\u001b[0m                 \u001b[0mcallbacks\u001b[0m\u001b[0;34m.\u001b[0m\u001b[0mon_batch_begin\u001b[0m\u001b[0;34m(\u001b[0m\u001b[0mbatch_index\u001b[0m\u001b[0;34m,\u001b[0m \u001b[0mbatch_logs\u001b[0m\u001b[0;34m)\u001b[0m\u001b[0;34m\u001b[0m\u001b[0m\n\u001b[0;32m--> 891\u001b[0;31m                 \u001b[0mouts\u001b[0m \u001b[0;34m=\u001b[0m \u001b[0mf\u001b[0m\u001b[0;34m(\u001b[0m\u001b[0mins_batch\u001b[0m\u001b[0;34m)\u001b[0m\u001b[0;34m\u001b[0m\u001b[0m\n\u001b[0m\u001b[1;32m    892\u001b[0m                 \u001b[0;32mif\u001b[0m \u001b[0;32mnot\u001b[0m \u001b[0misinstance\u001b[0m\u001b[0;34m(\u001b[0m\u001b[0mouts\u001b[0m\u001b[0;34m,\u001b[0m \u001b[0mlist\u001b[0m\u001b[0;34m)\u001b[0m\u001b[0;34m:\u001b[0m\u001b[0;34m\u001b[0m\u001b[0m\n\u001b[1;32m    893\u001b[0m                     \u001b[0mouts\u001b[0m \u001b[0;34m=\u001b[0m \u001b[0;34m[\u001b[0m\u001b[0mouts\u001b[0m\u001b[0;34m]\u001b[0m\u001b[0;34m\u001b[0m\u001b[0m\n",
      "\u001b[0;32m/home/alex/anaconda3/lib/python3.6/site-packages/keras/backend/tensorflow_backend.py\u001b[0m in \u001b[0;36m__call__\u001b[0;34m(self, inputs)\u001b[0m\n\u001b[1;32m   1941\u001b[0m         \u001b[0msession\u001b[0m \u001b[0;34m=\u001b[0m \u001b[0mget_session\u001b[0m\u001b[0;34m(\u001b[0m\u001b[0;34m)\u001b[0m\u001b[0;34m\u001b[0m\u001b[0m\n\u001b[1;32m   1942\u001b[0m         updated = session.run(self.outputs + [self.updates_op],\n\u001b[0;32m-> 1943\u001b[0;31m                               feed_dict=feed_dict)\n\u001b[0m\u001b[1;32m   1944\u001b[0m         \u001b[0;32mreturn\u001b[0m \u001b[0mupdated\u001b[0m\u001b[0;34m[\u001b[0m\u001b[0;34m:\u001b[0m\u001b[0mlen\u001b[0m\u001b[0;34m(\u001b[0m\u001b[0mself\u001b[0m\u001b[0;34m.\u001b[0m\u001b[0moutputs\u001b[0m\u001b[0;34m)\u001b[0m\u001b[0;34m]\u001b[0m\u001b[0;34m\u001b[0m\u001b[0m\n\u001b[1;32m   1945\u001b[0m \u001b[0;34m\u001b[0m\u001b[0m\n",
      "\u001b[0;32m/home/alex/anaconda3/lib/python3.6/site-packages/tensorflow/python/client/session.py\u001b[0m in \u001b[0;36mrun\u001b[0;34m(self, fetches, feed_dict, options, run_metadata)\u001b[0m\n\u001b[1;32m    765\u001b[0m     \u001b[0;32mtry\u001b[0m\u001b[0;34m:\u001b[0m\u001b[0;34m\u001b[0m\u001b[0m\n\u001b[1;32m    766\u001b[0m       result = self._run(None, fetches, feed_dict, options_ptr,\n\u001b[0;32m--> 767\u001b[0;31m                          run_metadata_ptr)\n\u001b[0m\u001b[1;32m    768\u001b[0m       \u001b[0;32mif\u001b[0m \u001b[0mrun_metadata\u001b[0m\u001b[0;34m:\u001b[0m\u001b[0;34m\u001b[0m\u001b[0m\n\u001b[1;32m    769\u001b[0m         \u001b[0mproto_data\u001b[0m \u001b[0;34m=\u001b[0m \u001b[0mtf_session\u001b[0m\u001b[0;34m.\u001b[0m\u001b[0mTF_GetBuffer\u001b[0m\u001b[0;34m(\u001b[0m\u001b[0mrun_metadata_ptr\u001b[0m\u001b[0;34m)\u001b[0m\u001b[0;34m\u001b[0m\u001b[0m\n",
      "\u001b[0;32m/home/alex/anaconda3/lib/python3.6/site-packages/tensorflow/python/client/session.py\u001b[0m in \u001b[0;36m_run\u001b[0;34m(self, handle, fetches, feed_dict, options, run_metadata)\u001b[0m\n\u001b[1;32m    963\u001b[0m     \u001b[0;32mif\u001b[0m \u001b[0mfinal_fetches\u001b[0m \u001b[0;32mor\u001b[0m \u001b[0mfinal_targets\u001b[0m\u001b[0;34m:\u001b[0m\u001b[0;34m\u001b[0m\u001b[0m\n\u001b[1;32m    964\u001b[0m       results = self._do_run(handle, final_targets, final_fetches,\n\u001b[0;32m--> 965\u001b[0;31m                              feed_dict_string, options, run_metadata)\n\u001b[0m\u001b[1;32m    966\u001b[0m     \u001b[0;32melse\u001b[0m\u001b[0;34m:\u001b[0m\u001b[0;34m\u001b[0m\u001b[0m\n\u001b[1;32m    967\u001b[0m       \u001b[0mresults\u001b[0m \u001b[0;34m=\u001b[0m \u001b[0;34m[\u001b[0m\u001b[0;34m]\u001b[0m\u001b[0;34m\u001b[0m\u001b[0m\n",
      "\u001b[0;32m/home/alex/anaconda3/lib/python3.6/site-packages/tensorflow/python/client/session.py\u001b[0m in \u001b[0;36m_do_run\u001b[0;34m(self, handle, target_list, fetch_list, feed_dict, options, run_metadata)\u001b[0m\n\u001b[1;32m   1013\u001b[0m     \u001b[0;32mif\u001b[0m \u001b[0mhandle\u001b[0m \u001b[0;32mis\u001b[0m \u001b[0;32mNone\u001b[0m\u001b[0;34m:\u001b[0m\u001b[0;34m\u001b[0m\u001b[0m\n\u001b[1;32m   1014\u001b[0m       return self._do_call(_run_fn, self._session, feed_dict, fetch_list,\n\u001b[0;32m-> 1015\u001b[0;31m                            target_list, options, run_metadata)\n\u001b[0m\u001b[1;32m   1016\u001b[0m     \u001b[0;32melse\u001b[0m\u001b[0;34m:\u001b[0m\u001b[0;34m\u001b[0m\u001b[0m\n\u001b[1;32m   1017\u001b[0m       return self._do_call(_prun_fn, self._session, handle, feed_dict,\n",
      "\u001b[0;32m/home/alex/anaconda3/lib/python3.6/site-packages/tensorflow/python/client/session.py\u001b[0m in \u001b[0;36m_do_call\u001b[0;34m(self, fn, *args)\u001b[0m\n\u001b[1;32m   1020\u001b[0m   \u001b[0;32mdef\u001b[0m \u001b[0m_do_call\u001b[0m\u001b[0;34m(\u001b[0m\u001b[0mself\u001b[0m\u001b[0;34m,\u001b[0m \u001b[0mfn\u001b[0m\u001b[0;34m,\u001b[0m \u001b[0;34m*\u001b[0m\u001b[0margs\u001b[0m\u001b[0;34m)\u001b[0m\u001b[0;34m:\u001b[0m\u001b[0;34m\u001b[0m\u001b[0m\n\u001b[1;32m   1021\u001b[0m     \u001b[0;32mtry\u001b[0m\u001b[0;34m:\u001b[0m\u001b[0;34m\u001b[0m\u001b[0m\n\u001b[0;32m-> 1022\u001b[0;31m       \u001b[0;32mreturn\u001b[0m \u001b[0mfn\u001b[0m\u001b[0;34m(\u001b[0m\u001b[0;34m*\u001b[0m\u001b[0margs\u001b[0m\u001b[0;34m)\u001b[0m\u001b[0;34m\u001b[0m\u001b[0m\n\u001b[0m\u001b[1;32m   1023\u001b[0m     \u001b[0;32mexcept\u001b[0m \u001b[0merrors\u001b[0m\u001b[0;34m.\u001b[0m\u001b[0mOpError\u001b[0m \u001b[0;32mas\u001b[0m \u001b[0me\u001b[0m\u001b[0;34m:\u001b[0m\u001b[0;34m\u001b[0m\u001b[0m\n\u001b[1;32m   1024\u001b[0m       \u001b[0mmessage\u001b[0m \u001b[0;34m=\u001b[0m \u001b[0mcompat\u001b[0m\u001b[0;34m.\u001b[0m\u001b[0mas_text\u001b[0m\u001b[0;34m(\u001b[0m\u001b[0me\u001b[0m\u001b[0;34m.\u001b[0m\u001b[0mmessage\u001b[0m\u001b[0;34m)\u001b[0m\u001b[0;34m\u001b[0m\u001b[0m\n",
      "\u001b[0;32m/home/alex/anaconda3/lib/python3.6/site-packages/tensorflow/python/client/session.py\u001b[0m in \u001b[0;36m_run_fn\u001b[0;34m(session, feed_dict, fetch_list, target_list, options, run_metadata)\u001b[0m\n\u001b[1;32m   1002\u001b[0m         return tf_session.TF_Run(session, options,\n\u001b[1;32m   1003\u001b[0m                                  \u001b[0mfeed_dict\u001b[0m\u001b[0;34m,\u001b[0m \u001b[0mfetch_list\u001b[0m\u001b[0;34m,\u001b[0m \u001b[0mtarget_list\u001b[0m\u001b[0;34m,\u001b[0m\u001b[0;34m\u001b[0m\u001b[0m\n\u001b[0;32m-> 1004\u001b[0;31m                                  status, run_metadata)\n\u001b[0m\u001b[1;32m   1005\u001b[0m \u001b[0;34m\u001b[0m\u001b[0m\n\u001b[1;32m   1006\u001b[0m     \u001b[0;32mdef\u001b[0m \u001b[0m_prun_fn\u001b[0m\u001b[0;34m(\u001b[0m\u001b[0msession\u001b[0m\u001b[0;34m,\u001b[0m \u001b[0mhandle\u001b[0m\u001b[0;34m,\u001b[0m \u001b[0mfeed_dict\u001b[0m\u001b[0;34m,\u001b[0m \u001b[0mfetch_list\u001b[0m\u001b[0;34m)\u001b[0m\u001b[0;34m:\u001b[0m\u001b[0;34m\u001b[0m\u001b[0m\n",
      "\u001b[0;31mKeyboardInterrupt\u001b[0m: "
     ]
    }
   ],
   "source": [
    "w, h, d = 32, 32, 32\n",
    "\n",
    "alpha = 2\n",
    "\n",
    "def get_test3d():\n",
    "    inputs = Input((w, h, d, 1))\n",
    "    sz = 32\n",
    "\n",
    "    conv3dparams = { 'activation':'relu', 'border_mode':'valid' }\n",
    "\n",
    "    x = Convolution3D(sz, 3, 3, 3, **conv3dparams)(inputs)\n",
    "    x = Convolution3D(sz, 3, 3, 3, **conv3dparams)(x)\n",
    "    x = BatchNormalization()(x)\n",
    "    x = MaxPooling3D(pool_size=(2, 2, 2))(x)\n",
    "\n",
    "    sz = int(sz * alpha)\n",
    "    x = Convolution3D(sz, 3, 3, 3, **conv3dparams)(x)\n",
    "    x = Convolution3D(sz, 3, 3, 3, **conv3dparams)(x)\n",
    "    x = BatchNormalization()(x)\n",
    "    # x = MaxPooling3D(pool_size=(2, 2, 2))(x)\n",
    "\n",
    "    sz = int(sz * alpha)\n",
    "    x = Convolution3D(sz, 3, 3, 3, **conv3dparams)(x)\n",
    "    x = Convolution3D(sz, 3, 3, 3, **conv3dparams)(x)\n",
    "    x = BatchNormalization()(x)\n",
    "    # x = MaxPooling3D(pool_size=(2, 2, 2))(x)\n",
    "\n",
    "    sz = int(sz * alpha)\n",
    "    x = Convolution3D(sz, 3, 3, 3, **conv3dparams)(x)\n",
    "    x = Convolution3D(sz, 3, 3, 3, **conv3dparams)(x)\n",
    "    x = BatchNormalization()(x)\n",
    "    # x = MaxPooling3D(pool_size=(2, 2, 2))(x)\n",
    "\n",
    "    sz = int(sz * alpha)\n",
    "    # x = Convolution3D(sz, 3, 3, 3, **conv3dparams)(x)\n",
    "    # x = Convolution3D(sz, 3, 3, 3, **conv3dparams)(x)\n",
    "    # x = BatchNormalization()(x)\n",
    "\n",
    "    x = Convolution3D(sz, 2, 2, 2, activation='relu', border_mode='valid')(x)\n",
    "    x = Flatten()(x)\n",
    "    # x = GlobalAveragePooling3D()(x)\n",
    "    x = Dense(2, activation='sigmoid')(x)\n",
    "\n",
    "    model = Model(input=inputs, output=x)\n",
    "\n",
    "    return model\n",
    "\n",
    "model = get_test3d()\n",
    "print(model.summary())\n",
    "\n",
    "sgd = SGD(lr=0.001, decay=1e-6, momentum=0.9, nesterov=True)\n",
    "model.compile(loss='categorical_crossentropy', metrics=['accuracy'], optimizer=sgd)\n",
    "\n",
    "batch_size=32\n",
    "\n",
    "model.fit(\n",
    "    X, \n",
    "    y, \n",
    "    batch_size=batch_size,\n",
    "    nb_epoch=10,\n",
    "    validation_split=0.1,\n",
    "mo mo    verbose=0, callbacks=[TQDMNotebookCallback(leave_inner=True)])"
   ]
  },
  {
   "cell_type": "code",
   "execution_count": 8,
   "metadata": {
    "collapsed": false
   },
   "outputs": [
    {
     "data": {
      "text/plain": [
       "<keras.callbacks.History at 0x7fed6964d1d0>"
      ]
     },
     "execution_count": 8,
     "metadata": {},
     "output_type": "execute_result"
    }
   ],
   "source": [
    "sgd.lr = 0.0001\n",
    "\n",
    "model.fit(\n",
    "    X, \n",
    "    y, \n",
    "    batch_size=batch_size,\n",
    "    nb_epoch=3,\n",
    "    validation_split=0.1,\n",
    "    verbose=0, callbacks=[TQDMNotebookCallback(leave_inner=True)])"
   ]
  },
  {
   "cell_type": "code",
   "execution_count": 9,
   "metadata": {
    "collapsed": false
   },
   "outputs": [
    {
     "data": {
      "text/plain": [
       "<keras.callbacks.History at 0x7fed6964d240>"
      ]
     },
     "execution_count": 9,
     "metadata": {},
     "output_type": "execute_result"
    }
   ],
   "source": [
    "sgd.lr = 0.00001\n",
    "\n",
    "model.fit(\n",
    "    X, \n",
    "    y, \n",
    "    batch_size=batch_size,\n",
    "    nb_epoch=3,\n",
    "    validation_split=0.1,\n",
    "    verbose=0, callbacks=[TQDMNotebookCallback(leave_inner=True)])"
   ]
  },
  {
   "cell_type": "code",
   "execution_count": 16,
   "metadata": {
    "collapsed": false
   },
   "outputs": [
    {
     "data": {
      "text/plain": [
       "-693.14036520690922"
      ]
     },
     "execution_count": 16,
     "metadata": {},
     "output_type": "execute_result"
    }
   ],
   "source": [
    "np.mean(X)"
   ]
  },
  {
   "cell_type": "code",
   "execution_count": 15,
   "metadata": {
    "collapsed": false
   },
   "outputs": [
    {
     "data": {
      "text/plain": [
       "343.60703254609479"
      ]
     },
     "execution_count": 15,
     "metadata": {},
     "output_type": "execute_result"
    }
   ],
   "source": [
    "np.std(X)"
   ]
  },
  {
   "cell_type": "code",
   "execution_count": null,
   "metadata": {
    "collapsed": true
   },
   "outputs": [],
   "source": []
  }
 ],
 "metadata": {
  "kernelspec": {
   "display_name": "Python 3",
   "language": "python",
   "name": "python3"
  },
  "language_info": {
   "codemirror_mode": {
    "name": "ipython",
    "version": 3
   },
   "file_extension": ".py",
   "mimetype": "text/x-python",
   "name": "python",
   "nbconvert_exporter": "python",
   "pygments_lexer": "ipython3",
   "version": "3.6.0"
  },
  "widgets": {
   "state": {
    "04d60192179942608868497e579c23e0": {
     "views": [
      {
       "cell_index": 2
      }
     ]
    },
    "0845f62e7eff4130bd7395f75b52a8b3": {
     "views": [
      {
       "cell_index": 2
      }
     ]
    },
    "0c080339b0064c8f8704c2f88141f406": {
     "views": [
      {
       "cell_index": 2
      }
     ]
    },
    "23d65a3ed1934f6e923a6a7a6ba2fe83": {
     "views": [
      {
       "cell_index": 2
      }
     ]
    },
    "2d185e82eca2456681eb80f9a1fea9f2": {
     "views": [
      {
       "cell_index": 4
      }
     ]
    },
    "371bb6a56b204b99a04007c54d72e8e0": {
     "views": [
      {
       "cell_index": 2
      }
     ]
    },
    "409fe4d7280840e99ce401408d2f98b0": {
     "views": [
      {
       "cell_index": 2
      }
     ]
    },
    "6e34b4bd16f644e4868dbe9d5eeae1a8": {
     "views": [
      {
       "cell_index": 2
      }
     ]
    },
    "725034e2f98c4fa1845211c4082e3a40": {
     "views": [
      {
       "cell_index": 3
      }
     ]
    },
    "7ba9840a87474a82b8f9998bbef85238": {
     "views": [
      {
       "cell_index": 2
      }
     ]
    },
    "8c25e98b816544019cd69e65e3a5fa51": {
     "views": [
      {
       "cell_index": 2
      }
     ]
    },
    "8ece23ae3be8462aaa0a56ed2139eb08": {
     "views": [
      {
       "cell_index": 2
      }
     ]
    },
    "a0cd489587c948cd8e2a63e9eb250bb3": {
     "views": [
      {
       "cell_index": 2
      }
     ]
    },
    "a1381b6c98594b9c99100889993c4103": {
     "views": [
      {
       "cell_index": 2
      }
     ]
    },
    "aab9881540224f44b42b63356c7d0021": {
     "views": [
      {
       "cell_index": 4
      }
     ]
    },
    "d6f2ce54d59c4b63ad6af7a84df93d0a": {
     "views": [
      {
       "cell_index": 2
      }
     ]
    },
    "ebfeb3903084434fa2e97d407df5d2ca": {
     "views": [
      {
       "cell_index": 4
      }
     ]
    },
    "ee0f1b1732ad4385992acd6ce8601c4b": {
     "views": [
      {
       "cell_index": 4
      }
     ]
    },
    "efda0afc9f22471a97e275c1661b7fe0": {
     "views": [
      {
       "cell_index": 3
      }
     ]
    },
    "f3923fd31d2d40e8adfd8da08cbf5e9c": {
     "views": [
      {
       "cell_index": 3
      }
     ]
    },
    "f84d29db20e441f8ab73337fc387cd84": {
     "views": [
      {
       "cell_index": 3
      }
     ]
    }
   },
   "version": "1.2.0"
  }
 },
 "nbformat": 4,
 "nbformat_minor": 2
}
