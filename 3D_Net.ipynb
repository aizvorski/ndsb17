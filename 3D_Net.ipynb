{
 "cells": [
  {
   "cell_type": "code",
   "execution_count": 24,
   "metadata": {
    "collapsed": false
   },
   "outputs": [],
   "source": [
    "import numpy as np\n",
    "from keras.models import Model\n",
    "from keras.layers import Input, merge, Convolution3D, MaxPooling3D, UpSampling3D, GlobalAveragePooling3D, Dense, Flatten\n",
    "from keras.layers.normalization import BatchNormalization\n",
    "from keras.optimizers import SGD, Adam, Nadam\n",
    "\n",
    "from keras_tqdm import TQDMNotebookCallback"
   ]
  },
  {
   "cell_type": "code",
   "execution_count": 2,
   "metadata": {
    "collapsed": true
   },
   "outputs": [],
   "source": [
    "X = np.load(\"/mnt/data/luna16/sets/toy_set_v1_20k.npy\")\n",
    "y = np.zeros((20000,2))\n",
    "y[:10000,0] = 1\n",
    "y[10000:,1] = 1\n",
    "\n",
    "idx = np.random.permutation(X.shape[0])\n",
    "X, y = X[idx], y[idx]"
   ]
  },
  {
   "cell_type": "code",
   "execution_count": 21,
   "metadata": {
    "collapsed": true
   },
   "outputs": [],
   "source": [
    "X = (X + 693.0) / 343.0"
   ]
  },
  {
   "cell_type": "code",
   "execution_count": 27,
   "metadata": {
    "collapsed": false
   },
   "outputs": [
    {
     "name": "stdout",
     "output_type": "stream",
     "text": [
      "____________________________________________________________________________________________________\n",
      "Layer (type)                     Output Shape          Param #     Connected to                     \n",
      "====================================================================================================\n",
      "input_6 (InputLayer)             (None, 32, 32, 32, 1) 0                                            \n",
      "____________________________________________________________________________________________________\n",
      "convolution3d_47 (Convolution3D) (None, 30, 30, 30, 32 896         input_6[0][0]                    \n",
      "____________________________________________________________________________________________________\n",
      "convolution3d_48 (Convolution3D) (None, 28, 28, 28, 32 27680       convolution3d_47[0][0]           \n",
      "____________________________________________________________________________________________________\n",
      "batchnormalization_21 (BatchNorm (None, 28, 28, 28, 32 128         convolution3d_48[0][0]           \n",
      "____________________________________________________________________________________________________\n",
      "maxpooling3d_11 (MaxPooling3D)   (None, 14, 14, 14, 32 0           batchnormalization_21[0][0]      \n",
      "____________________________________________________________________________________________________\n",
      "convolution3d_49 (Convolution3D) (None, 12, 12, 12, 64 55360       maxpooling3d_11[0][0]            \n",
      "____________________________________________________________________________________________________\n",
      "convolution3d_50 (Convolution3D) (None, 10, 10, 10, 64 110656      convolution3d_49[0][0]           \n",
      "____________________________________________________________________________________________________\n",
      "batchnormalization_22 (BatchNorm (None, 10, 10, 10, 64 256         convolution3d_50[0][0]           \n",
      "____________________________________________________________________________________________________\n",
      "convolution3d_51 (Convolution3D) (None, 8, 8, 8, 128)  221312      batchnormalization_22[0][0]      \n",
      "____________________________________________________________________________________________________\n",
      "convolution3d_52 (Convolution3D) (None, 6, 6, 6, 128)  442496      convolution3d_51[0][0]           \n",
      "____________________________________________________________________________________________________\n",
      "batchnormalization_23 (BatchNorm (None, 6, 6, 6, 128)  512         convolution3d_52[0][0]           \n",
      "____________________________________________________________________________________________________\n",
      "convolution3d_53 (Convolution3D) (None, 4, 4, 4, 256)  884992      batchnormalization_23[0][0]      \n",
      "____________________________________________________________________________________________________\n",
      "convolution3d_54 (Convolution3D) (None, 2, 2, 2, 256)  1769728     convolution3d_53[0][0]           \n",
      "____________________________________________________________________________________________________\n",
      "batchnormalization_24 (BatchNorm (None, 2, 2, 2, 256)  1024        convolution3d_54[0][0]           \n",
      "____________________________________________________________________________________________________\n",
      "convolution3d_55 (Convolution3D) (None, 1, 1, 1, 512)  1049088     batchnormalization_24[0][0]      \n",
      "____________________________________________________________________________________________________\n",
      "flatten_5 (Flatten)              (None, 512)           0           convolution3d_55[0][0]           \n",
      "____________________________________________________________________________________________________\n",
      "dense_5 (Dense)                  (None, 2)             1026        flatten_5[0][0]                  \n",
      "====================================================================================================\n",
      "Total params: 4,565,154\n",
      "Trainable params: 4,564,194\n",
      "Non-trainable params: 960\n",
      "____________________________________________________________________________________________________\n",
      "None\n"
     ]
    },
    {
     "data": {
      "text/plain": [
       "<keras.callbacks.History at 0x7fed23322940>"
      ]
     },
     "execution_count": 27,
     "metadata": {},
     "output_type": "execute_result"
    }
   ],
   "source": [
    "w, h, d = 32, 32, 32\n",
    "\n",
    "alpha = 2\n",
    "\n",
    "def get_test3d():\n",
    "    inputs = Input((w, h, d, 1))\n",
    "    sz = 32\n",
    "\n",
    "    conv3dparams = { 'activation':'relu', 'border_mode':'valid' }\n",
    "\n",
    "    x = Convolution3D(sz, 3, 3, 3, **conv3dparams)(inputs)\n",
    "    x = BatchNormalization()(x)\n",
    "    x = Convolution3D(sz, 3, 3, 3, **conv3dparams)(x)\n",
    "    x = BatchNormalization()(x)\n",
    "    x = MaxPooling3D(pool_size=(2, 2, 2))(x)\n",
    "\n",
    "    sz = int(sz * alpha)\n",
    "    x = Convolution3D(sz, 3, 3, 3, **conv3dparams)(x)\n",
    "    x = BatchNormalization()(x)\n",
    "    x = Convolution3D(sz, 3, 3, 3, **conv3dparams)(x)\n",
    "    x = BatchNormalization()(x)\n",
    "    # x = MaxPooling3D(pool_size=(2, 2, 2))(x)\n",
    "\n",
    "    sz = int(sz * alpha)\n",
    "    x = Convolution3D(sz, 3, 3, 3, **conv3dparams)(x)\n",
    "    x = BatchNormalization()(x)\n",
    "    x = Convolution3D(sz, 3, 3, 3, **conv3dparams)(x)\n",
    "    x = BatchNormalization()(x)\n",
    "    # x = MaxPooling3D(pool_size=(2, 2, 2))(x)\n",
    "\n",
    "    sz = int(sz * alpha)\n",
    "    x = Convolution3D(sz, 3, 3, 3, **conv3dparams)(x)\n",
    "    x = BatchNormalization()(x)\n",
    "    x = Convolution3D(sz, 3, 3, 3, **conv3dparams)(x)\n",
    "    x = BatchNormalization()(x)\n",
    "    # x = MaxPooling3D(pool_size=(2, 2, 2))(x)\n",
    "\n",
    "    sz = int(sz * alpha)\n",
    "    # x = Convolution3D(sz, 3, 3, 3, **conv3dparams)(x)\n",
    "    # x = Convolution3D(sz, 3, 3, 3, **conv3dparams)(x)\n",
    "    # x = BatchNormalization()(x)\n",
    "\n",
    "    x = Convolution3D(sz, 2, 2, 2, activation='relu', border_mode='valid')(x)\n",
    "    x = BatchNormalization()(x)\n",
    "    x = Flatten()(x)\n",
    "    # x = GlobalAveragePooling3D()(x)\n",
    "    x = Dense(2, activation='sigmoid')(x)\n",
    "\n",
    "    model = Model(input=inputs, output=x)\n",
    "\n",
    "    return model\n",
    "\n",
    "model = get_test3d()\n",
    "print(model.summary())\n",
    "\n",
    "#sgd = SGD(lr=0.001, decay=1e-6, momentum=0.9, nesterov=True)\n",
    "model.compile(loss='categorical_crossentropy', metrics=['accuracy'], optimizer=Adam())\n",
    "\n",
    "batch_size=32\n",
    "\n",
    "model.fit(\n",
    "    X, \n",
    "    y, \n",
    "    batch_size=batch_size,\n",
    "    nb_epoch=10,\n",
    "    validation_split=0.1,\n",
    "    verbose=0, callbacks=[TQDMNotebookCallback(leave_inner=True)])"
   ]
  },
  {
   "cell_type": "code",
   "execution_count": 8,
   "metadata": {
    "collapsed": false
   },
   "outputs": [
    {
     "data": {
      "text/plain": [
       "<keras.callbacks.History at 0x7fed6964d1d0>"
      ]
     },
     "execution_count": 8,
     "metadata": {},
     "output_type": "execute_result"
    }
   ],
   "source": [
    "sgd.lr = 0.0001\n",
    "\n",
    "model.fit(\n",
    "    X, \n",
    "    y, \n",
    "    batch_size=batch_size,\n",
    "    nb_epoch=3,\n",
    "    validation_split=0.1,\n",
    "    verbose=0, callbacks=[TQDMNotebookCallback(leave_inner=True)])"
   ]
  },
  {
   "cell_type": "code",
   "execution_count": 9,
   "metadata": {
    "collapsed": false
   },
   "outputs": [
    {
     "data": {
      "text/plain": [
       "<keras.callbacks.History at 0x7fed6964d240>"
      ]
     },
     "execution_count": 9,
     "metadata": {},
     "output_type": "execute_result"
    }
   ],
   "source": [
    "sgd.lr = 0.00001\n",
    "\n",
    "model.fit(\n",
    "    X, \n",
    "    y, \n",
    "    batch_size=batch_size,\n",
    "    nb_epoch=3,\n",
    "    validation_split=0.1,\n",
    "    verbose=0, callbacks=[TQDMNotebookCallback(leave_inner=True)])"
   ]
  },
  {
   "cell_type": "code",
   "execution_count": 16,
   "metadata": {
    "collapsed": false
   },
   "outputs": [
    {
     "data": {
      "text/plain": [
       "-693.14036520690922"
      ]
     },
     "execution_count": 16,
     "metadata": {},
     "output_type": "execute_result"
    }
   ],
   "source": [
    "np.mean(X)"
   ]
  },
  {
   "cell_type": "code",
   "execution_count": 15,
   "metadata": {
    "collapsed": false
   },
   "outputs": [
    {
     "data": {
      "text/plain": [
       "343.60703254609479"
      ]
     },
     "execution_count": 15,
     "metadata": {},
     "output_type": "execute_result"
    }
   ],
   "source": [
    "np.std(X)"
   ]
  },
  {
   "cell_type": "code",
   "execution_count": null,
   "metadata": {
    "collapsed": true
   },
   "outputs": [],
   "source": []
  }
 ],
 "metadata": {
  "kernelspec": {
   "display_name": "Python 3",
   "language": "python",
   "name": "python3"
  },
  "language_info": {
   "codemirror_mode": {
    "name": "ipython",
    "version": 3
   },
   "file_extension": ".py",
   "mimetype": "text/x-python",
   "name": "python",
   "nbconvert_exporter": "python",
   "pygments_lexer": "ipython3",
   "version": "3.6.0"
  },
  "widgets": {
   "state": {
    "0845f62e7eff4130bd7395f75b52a8b3": {
     "views": [
      {
       "cell_index": 2
      }
     ]
    },
    "153b2df6be26438eb8bed51a7b048715": {
     "views": [
      {
       "cell_index": 3
      }
     ]
    },
    "17ce7fcda9fe405d9d66cd5e84f58d78": {
     "views": [
      {
       "cell_index": 3
      }
     ]
    },
    "23d65a3ed1934f6e923a6a7a6ba2fe83": {
     "views": [
      {
       "cell_index": 2
      }
     ]
    },
    "2d185e82eca2456681eb80f9a1fea9f2": {
     "views": [
      {
       "cell_index": 4
      }
     ]
    },
    "409fe4d7280840e99ce401408d2f98b0": {
     "views": [
      {
       "cell_index": 2
      }
     ]
    },
    "4e28f90b73de4ade91f4f5e0de6f388b": {
     "views": [
      {
       "cell_index": 3
      }
     ]
    },
    "4ebe6c978ad0492eb1b384ad6eccd9ca": {
     "views": [
      {
       "cell_index": 3
      }
     ]
    },
    "4fd4759c2ca945969da63b856c141fa2": {
     "views": [
      {
       "cell_index": 3
      }
     ]
    },
    "5a5596c2a7014b9c925c60d0e3ed9224": {
     "views": [
      {
       "cell_index": 3
      }
     ]
    },
    "601c9ebb09da4d1593d6ebef79eaeffd": {
     "views": [
      {
       "cell_index": 3
      }
     ]
    },
    "725034e2f98c4fa1845211c4082e3a40": {
     "views": [
      {
       "cell_index": 3
      }
     ]
    },
    "7ba9840a87474a82b8f9998bbef85238": {
     "views": [
      {
       "cell_index": 2
      }
     ]
    },
    "80c8d314c6084d0fbfb44b29e90bdc43": {
     "views": [
      {
       "cell_index": 3
      }
     ]
    },
    "8ece23ae3be8462aaa0a56ed2139eb08": {
     "views": [
      {
       "cell_index": 2
      }
     ]
    },
    "945e27ae247642fa98e0c7c358aedb91": {
     "views": [
      {
       "cell_index": 3
      }
     ]
    },
    "980ef8b35abb4fef9e8687cbe9a8565a": {
     "views": [
      {
       "cell_index": 3
      }
     ]
    },
    "a1381b6c98594b9c99100889993c4103": {
     "views": [
      {
       "cell_index": 2
      }
     ]
    },
    "aab9881540224f44b42b63356c7d0021": {
     "views": [
      {
       "cell_index": 4
      }
     ]
    },
    "c8d6b5b82ce14368a053fc7a61af71ec": {
     "views": [
      {
       "cell_index": 3
      }
     ]
    },
    "e10170dcf43c4b0e910a7bed6bc22a90": {
     "views": [
      {
       "cell_index": 3
      }
     ]
    },
    "e86d9d8278e54d09b53787d11f505514": {
     "views": [
      {
       "cell_index": 3
      }
     ]
    },
    "ebfeb3903084434fa2e97d407df5d2ca": {
     "views": [
      {
       "cell_index": 4
      }
     ]
    },
    "ee0f1b1732ad4385992acd6ce8601c4b": {
     "views": [
      {
       "cell_index": 4
      }
     ]
    },
    "efda0afc9f22471a97e275c1661b7fe0": {
     "views": [
      {
       "cell_index": 3
      }
     ]
    },
    "f3923fd31d2d40e8adfd8da08cbf5e9c": {
     "views": [
      {
       "cell_index": 3
      }
     ]
    },
    "f84d29db20e441f8ab73337fc387cd84": {
     "views": [
      {
       "cell_index": 3
      }
     ]
    }
   },
   "version": "1.2.0"
  }
 },
 "nbformat": 4,
 "nbformat_minor": 2
}
