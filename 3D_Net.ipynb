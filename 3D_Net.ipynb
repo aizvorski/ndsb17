{
 "cells": [
  {
   "cell_type": "code",
   "execution_count": 1,
   "metadata": {
    "collapsed": false
   },
   "outputs": [
    {
     "name": "stderr",
     "output_type": "stream",
     "text": [
      "Using TensorFlow backend.\n"
     ]
    }
   ],
   "source": [
    "import numpy as np\n",
    "from keras.models import Model\n",
    "from keras.layers import Input, merge, Convolution3D, MaxPooling3D, UpSampling3D, GlobalAveragePooling3D, Dense, Flatten\n",
    "from keras.layers.normalization import BatchNormalization\n",
    "from keras.optimizers import SGD\n",
    "\n",
    "from keras_tqdm import TQDMNotebookCallback"
   ]
  },
  {
   "cell_type": "code",
   "execution_count": 2,
   "metadata": {
    "collapsed": true
   },
   "outputs": [],
   "source": [
    "X = np.load(\"/mnt/data/luna16/sets/toy_set_v1_20k.npy\")\n",
    "y = np.zeros((20000,2))\n",
    "y[:10000,0] = 1\n",
    "y[10000:,1] = 1\n",
    "\n",
    "idx = np.random.permutation(X.shape[0])\n",
    "X, y = X[idx], y[idx]"
   ]
  },
  {
   "cell_type": "code",
   "execution_count": 4,
   "metadata": {
    "collapsed": false
   },
   "outputs": [
    {
     "name": "stdout",
     "output_type": "stream",
     "text": [
      "____________________________________________________________________________________________________\n",
      "Layer (type)                     Output Shape          Param #     Connected to                     \n",
      "====================================================================================================\n",
      "input_2 (InputLayer)             (None, 32, 32, 32, 1) 0                                            \n",
      "____________________________________________________________________________________________________\n",
      "convolution3d_12 (Convolution3D) (None, 32, 32, 32, 32 896         input_2[0][0]                    \n",
      "____________________________________________________________________________________________________\n",
      "convolution3d_13 (Convolution3D) (None, 32, 32, 32, 32 27680       convolution3d_12[0][0]           \n",
      "____________________________________________________________________________________________________\n",
      "batchnormalization_6 (BatchNorma (None, 32, 32, 32, 32 128         convolution3d_13[0][0]           \n",
      "____________________________________________________________________________________________________\n",
      "maxpooling3d_5 (MaxPooling3D)    (None, 16, 16, 16, 32 0           batchnormalization_6[0][0]       \n",
      "____________________________________________________________________________________________________\n",
      "convolution3d_14 (Convolution3D) (None, 16, 16, 16, 64 55360       maxpooling3d_5[0][0]             \n",
      "____________________________________________________________________________________________________\n",
      "convolution3d_15 (Convolution3D) (None, 16, 16, 16, 64 110656      convolution3d_14[0][0]           \n",
      "____________________________________________________________________________________________________\n",
      "batchnormalization_7 (BatchNorma (None, 16, 16, 16, 64 256         convolution3d_15[0][0]           \n",
      "____________________________________________________________________________________________________\n",
      "maxpooling3d_6 (MaxPooling3D)    (None, 8, 8, 8, 64)   0           batchnormalization_7[0][0]       \n",
      "____________________________________________________________________________________________________\n",
      "convolution3d_16 (Convolution3D) (None, 8, 8, 8, 128)  221312      maxpooling3d_6[0][0]             \n",
      "____________________________________________________________________________________________________\n",
      "convolution3d_17 (Convolution3D) (None, 8, 8, 8, 128)  442496      convolution3d_16[0][0]           \n",
      "____________________________________________________________________________________________________\n",
      "batchnormalization_8 (BatchNorma (None, 8, 8, 8, 128)  512         convolution3d_17[0][0]           \n",
      "____________________________________________________________________________________________________\n",
      "maxpooling3d_7 (MaxPooling3D)    (None, 4, 4, 4, 128)  0           batchnormalization_8[0][0]       \n",
      "____________________________________________________________________________________________________\n",
      "convolution3d_18 (Convolution3D) (None, 4, 4, 4, 256)  884992      maxpooling3d_7[0][0]             \n",
      "____________________________________________________________________________________________________\n",
      "convolution3d_19 (Convolution3D) (None, 4, 4, 4, 256)  1769728     convolution3d_18[0][0]           \n",
      "____________________________________________________________________________________________________\n",
      "batchnormalization_9 (BatchNorma (None, 4, 4, 4, 256)  1024        convolution3d_19[0][0]           \n",
      "____________________________________________________________________________________________________\n",
      "maxpooling3d_8 (MaxPooling3D)    (None, 2, 2, 2, 256)  0           batchnormalization_9[0][0]       \n",
      "____________________________________________________________________________________________________\n",
      "convolution3d_20 (Convolution3D) (None, 2, 2, 2, 512)  3539456     maxpooling3d_8[0][0]             \n",
      "____________________________________________________________________________________________________\n",
      "convolution3d_21 (Convolution3D) (None, 2, 2, 2, 512)  7078400     convolution3d_20[0][0]           \n",
      "____________________________________________________________________________________________________\n",
      "batchnormalization_10 (BatchNorm (None, 2, 2, 2, 512)  2048        convolution3d_21[0][0]           \n",
      "____________________________________________________________________________________________________\n",
      "convolution3d_22 (Convolution3D) (None, 1, 1, 1, 512)  2097664     batchnormalization_10[0][0]      \n",
      "____________________________________________________________________________________________________\n",
      "flatten_2 (Flatten)              (None, 512)           0           convolution3d_22[0][0]           \n",
      "____________________________________________________________________________________________________\n",
      "dense_2 (Dense)                  (None, 2)             1026        flatten_2[0][0]                  \n",
      "====================================================================================================\n",
      "Total params: 16,233,634\n",
      "Trainable params: 16,231,650\n",
      "Non-trainable params: 1,984\n",
      "____________________________________________________________________________________________________\n",
      "None\n"
     ]
    },
    {
     "data": {
      "text/plain": [
       "<keras.callbacks.History at 0x7fed7c07a5f8>"
      ]
     },
     "execution_count": 4,
     "metadata": {},
     "output_type": "execute_result"
    }
   ],
   "source": [
    "w, h, d = 32, 32, 32\n",
    "\n",
    "alpha = 2\n",
    "\n",
    "def get_test3d():\n",
    "    inputs = Input((w, h, d, 1))\n",
    "    sz = 32\n",
    "\n",
    "    conv3dparams = { 'activation':'relu', 'border_mode':'same' }\n",
    "\n",
    "    x = Convolution3D(sz, 3, 3, 3, **conv3dparams)(inputs)\n",
    "    x = Convolution3D(sz, 3, 3, 3, **conv3dparams)(x)\n",
    "    x = BatchNormalization()(x)\n",
    "    x = MaxPooling3D(pool_size=(2, 2, 2))(x)\n",
    "\n",
    "    sz = int(sz * alpha)\n",
    "    x = Convolution3D(sz, 3, 3, 3, **conv3dparams)(x)\n",
    "    x = Convolution3D(sz, 3, 3, 3, **conv3dparams)(x)\n",
    "    x = BatchNormalization()(x)\n",
    "    x = MaxPooling3D(pool_size=(2, 2, 2))(x)\n",
    "\n",
    "    sz = int(sz * alpha)\n",
    "    x = Convolution3D(sz, 3, 3, 3, **conv3dparams)(x)\n",
    "    x = Convolution3D(sz, 3, 3, 3, **conv3dparams)(x)\n",
    "    x = BatchNormalization()(x)\n",
    "    x = MaxPooling3D(pool_size=(2, 2, 2))(x)\n",
    "\n",
    "    sz = int(sz * alpha)\n",
    "    x = Convolution3D(sz, 3, 3, 3, **conv3dparams)(x)\n",
    "    x = Convolution3D(sz, 3, 3, 3, **conv3dparams)(x)\n",
    "    x = BatchNormalization()(x)\n",
    "    x = MaxPooling3D(pool_size=(2, 2, 2))(x)\n",
    "\n",
    "    sz = int(sz * alpha)\n",
    "    x = Convolution3D(sz, 3, 3, 3, **conv3dparams)(x)\n",
    "    x = Convolution3D(sz, 3, 3, 3, **conv3dparams)(x)\n",
    "    x = BatchNormalization()(x)\n",
    "\n",
    "    x = Convolution3D(sz, 2, 2, 2, activation='relu', border_mode='valid')(x)\n",
    "    x = Flatten()(x)\n",
    "    # x = GlobalAveragePooling3D()(x)\n",
    "    x = Dense(2, activation='sigmoid')(x)\n",
    "\n",
    "    model = Model(input=inputs, output=x)\n",
    "\n",
    "    return model\n",
    "\n",
    "model = get_test3d()\n",
    "print(model.summary())\n",
    "\n",
    "sgd = SGD(lr=0.001, decay=1e-6, momentum=0.9, nesterov=True)\n",
    "model.compile(loss='categorical_crossentropy', metrics=['accuracy'], optimizer=sgd)\n",
    "\n",
    "batch_size=32\n",
    "\n",
    "model.fit(\n",
    "    X, \n",
    "    y, \n",
    "    batch_size=batch_size,\n",
    "    nb_epoch=10,\n",
    "    validation_split=0.1,\n",
    "    verbose=0, callbacks=[TQDMNotebookCallback(leave_inner=True)])"
   ]
  },
  {
   "cell_type": "code",
   "execution_count": null,
   "metadata": {
    "collapsed": true
   },
   "outputs": [],
   "source": []
  }
 ],
 "metadata": {
  "kernelspec": {
   "display_name": "Python 3",
   "language": "python",
   "name": "python3"
  },
  "language_info": {
   "codemirror_mode": {
    "name": "ipython",
    "version": 3
   },
   "file_extension": ".py",
   "mimetype": "text/x-python",
   "name": "python",
   "nbconvert_exporter": "python",
   "pygments_lexer": "ipython3",
   "version": "3.6.0"
  },
  "widgets": {
   "state": {
    "04d60192179942608868497e579c23e0": {
     "views": [
      {
       "cell_index": 2
      }
     ]
    },
    "0c080339b0064c8f8704c2f88141f406": {
     "views": [
      {
       "cell_index": 2
      }
     ]
    },
    "18605fd987114a3fba563d4112c3f18f": {
     "views": [
      {
       "cell_index": 2
      }
     ]
    },
    "371bb6a56b204b99a04007c54d72e8e0": {
     "views": [
      {
       "cell_index": 2
      }
     ]
    },
    "6e34b4bd16f644e4868dbe9d5eeae1a8": {
     "views": [
      {
       "cell_index": 2
      }
     ]
    },
    "7ba9840a87474a82b8f9998bbef85238": {
     "views": [
      {
       "cell_index": 2
      }
     ]
    },
    "80d8fc86b2d84fc7b30044722206163c": {
     "views": [
      {
       "cell_index": 2
      }
     ]
    },
    "839294d6ce8a46608e4cf0eefe2a44f1": {
     "views": [
      {
       "cell_index": 2
      }
     ]
    },
    "98c938bb337f455e85f06976d1d37b02": {
     "views": [
      {
       "cell_index": 2
      }
     ]
    },
    "bf0ce16cd46847d686b731dcee6a216a": {
     "views": [
      {
       "cell_index": 2
      }
     ]
    },
    "d6f2ce54d59c4b63ad6af7a84df93d0a": {
     "views": [
      {
       "cell_index": 2
      }
     ]
    },
    "f4494d6fccdc4e91b11b312bb1e8fde6": {
     "views": [
      {
       "cell_index": 2
      }
     ]
    }
   },
   "version": "1.2.0"
  }
 },
 "nbformat": 4,
 "nbformat_minor": 2
}
