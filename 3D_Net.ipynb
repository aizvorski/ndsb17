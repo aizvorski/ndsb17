{
 "cells": [
  {
   "cell_type": "code",
   "execution_count": 32,
   "metadata": {
    "collapsed": false
   },
   "outputs": [],
   "source": [
    "import numpy as np\n",
    "from keras.models import Model\n",
    "from keras.layers import Input, merge, Convolution3D, MaxPooling3D, UpSampling3D, GlobalAveragePooling3D, Dense, Flatten, Dropout\n",
    "from keras.layers.normalization import BatchNormalization\n",
    "from keras.layers.advanced_activations import ELU\n",
    "from keras.optimizers import SGD, Adam, Nadam\n",
    "\n",
    "from keras_tqdm import TQDMNotebookCallback"
   ]
  },
  {
   "cell_type": "code",
   "execution_count": 2,
   "metadata": {
    "collapsed": true
   },
   "outputs": [],
   "source": [
    "X = np.load(\"/mnt/data/luna16/sets/toy_set_v1_20k.npy\")\n",
    "y = np.zeros((20000,2))\n",
    "y[:10000,0] = 1\n",
    "y[10000:,1] = 1\n",
    "\n",
    "idx = np.random.permutation(X.shape[0])\n",
    "X, y = X[idx], y[idx]"
   ]
  },
  {
   "cell_type": "code",
   "execution_count": 21,
   "metadata": {
    "collapsed": true
   },
   "outputs": [],
   "source": [
    "X = (X + 693.0) / 343.0"
   ]
  },
  {
   "cell_type": "code",
   "execution_count": 48,
   "metadata": {
    "collapsed": false
   },
   "outputs": [
    {
     "name": "stdout",
     "output_type": "stream",
     "text": [
      "____________________________________________________________________________________________________\n",
      "Layer (type)                     Output Shape          Param #     Connected to                     \n",
      "====================================================================================================\n",
      "input_11 (InputLayer)            (None, 32, 32, 32, 1) 0                                            \n",
      "____________________________________________________________________________________________________\n",
      "convolution3d_90 (Convolution3D) (None, 30, 30, 30, 32 896         input_11[0][0]                   \n",
      "____________________________________________________________________________________________________\n",
      "batchnormalization_59 (BatchNorm (None, 30, 30, 30, 32 128         convolution3d_90[0][0]           \n",
      "____________________________________________________________________________________________________\n",
      "convolution3d_91 (Convolution3D) (None, 28, 28, 28, 32 27680       batchnormalization_59[0][0]      \n",
      "____________________________________________________________________________________________________\n",
      "batchnormalization_60 (BatchNorm (None, 28, 28, 28, 32 128         convolution3d_91[0][0]           \n",
      "____________________________________________________________________________________________________\n",
      "maxpooling3d_16 (MaxPooling3D)   (None, 14, 14, 14, 32 0           batchnormalization_60[0][0]      \n",
      "____________________________________________________________________________________________________\n",
      "convolution3d_92 (Convolution3D) (None, 12, 12, 12, 64 55360       maxpooling3d_16[0][0]            \n",
      "____________________________________________________________________________________________________\n",
      "batchnormalization_61 (BatchNorm (None, 12, 12, 12, 64 256         convolution3d_92[0][0]           \n",
      "____________________________________________________________________________________________________\n",
      "convolution3d_93 (Convolution3D) (None, 10, 10, 10, 64 110656      batchnormalization_61[0][0]      \n",
      "____________________________________________________________________________________________________\n",
      "batchnormalization_62 (BatchNorm (None, 10, 10, 10, 64 256         convolution3d_93[0][0]           \n",
      "____________________________________________________________________________________________________\n",
      "convolution3d_94 (Convolution3D) (None, 8, 8, 8, 128)  221312      batchnormalization_62[0][0]      \n",
      "____________________________________________________________________________________________________\n",
      "batchnormalization_63 (BatchNorm (None, 8, 8, 8, 128)  512         convolution3d_94[0][0]           \n",
      "____________________________________________________________________________________________________\n",
      "convolution3d_95 (Convolution3D) (None, 6, 6, 6, 128)  442496      batchnormalization_63[0][0]      \n",
      "____________________________________________________________________________________________________\n",
      "batchnormalization_64 (BatchNorm (None, 6, 6, 6, 128)  512         convolution3d_95[0][0]           \n",
      "____________________________________________________________________________________________________\n",
      "convolution3d_96 (Convolution3D) (None, 4, 4, 4, 256)  884992      batchnormalization_64[0][0]      \n",
      "____________________________________________________________________________________________________\n",
      "batchnormalization_65 (BatchNorm (None, 4, 4, 4, 256)  1024        convolution3d_96[0][0]           \n",
      "____________________________________________________________________________________________________\n",
      "convolution3d_97 (Convolution3D) (None, 2, 2, 2, 256)  1769728     batchnormalization_65[0][0]      \n",
      "____________________________________________________________________________________________________\n",
      "batchnormalization_66 (BatchNorm (None, 2, 2, 2, 256)  1024        convolution3d_97[0][0]           \n",
      "____________________________________________________________________________________________________\n",
      "convolution3d_98 (Convolution3D) (None, 1, 1, 1, 512)  1049088     batchnormalization_66[0][0]      \n",
      "____________________________________________________________________________________________________\n",
      "batchnormalization_67 (BatchNorm (None, 1, 1, 1, 512)  2048        convolution3d_98[0][0]           \n",
      "____________________________________________________________________________________________________\n",
      "flatten_8 (Flatten)              (None, 512)           0           batchnormalization_67[0][0]      \n",
      "____________________________________________________________________________________________________\n",
      "dense_8 (Dense)                  (None, 2)             1026        flatten_8[0][0]                  \n",
      "====================================================================================================\n",
      "Total params: 4,569,122\n",
      "Trainable params: 4,566,178\n",
      "Non-trainable params: 2,944\n",
      "____________________________________________________________________________________________________\n",
      "None\n"
     ]
    },
    {
     "ename": "KeyboardInterrupt",
     "evalue": "",
     "output_type": "error",
     "traceback": [
      "\u001b[0;31m---------------------------------------------------------------------------\u001b[0m",
      "\u001b[0;31mKeyboardInterrupt\u001b[0m                         Traceback (most recent call last)",
      "\u001b[0;32m<ipython-input-48-c8f90e4d0e7c>\u001b[0m in \u001b[0;36m<module>\u001b[0;34m()\u001b[0m\n\u001b[1;32m     66\u001b[0m     \u001b[0mnb_epoch\u001b[0m\u001b[0;34m=\u001b[0m\u001b[0;36m10\u001b[0m\u001b[0;34m,\u001b[0m\u001b[0;34m\u001b[0m\u001b[0m\n\u001b[1;32m     67\u001b[0m     \u001b[0mvalidation_split\u001b[0m\u001b[0;34m=\u001b[0m\u001b[0;36m0.1\u001b[0m\u001b[0;34m,\u001b[0m\u001b[0;34m\u001b[0m\u001b[0m\n\u001b[0;32m---> 68\u001b[0;31m     verbose=0, callbacks=[TQDMNotebookCallback(leave_inner=True)])\n\u001b[0m",
      "\u001b[0;32m/home/alex/anaconda3/lib/python3.6/site-packages/keras/engine/training.py\u001b[0m in \u001b[0;36mfit\u001b[0;34m(self, x, y, batch_size, nb_epoch, verbose, callbacks, validation_split, validation_data, shuffle, class_weight, sample_weight, initial_epoch)\u001b[0m\n\u001b[1;32m   1194\u001b[0m                               \u001b[0mval_f\u001b[0m\u001b[0;34m=\u001b[0m\u001b[0mval_f\u001b[0m\u001b[0;34m,\u001b[0m \u001b[0mval_ins\u001b[0m\u001b[0;34m=\u001b[0m\u001b[0mval_ins\u001b[0m\u001b[0;34m,\u001b[0m \u001b[0mshuffle\u001b[0m\u001b[0;34m=\u001b[0m\u001b[0mshuffle\u001b[0m\u001b[0;34m,\u001b[0m\u001b[0;34m\u001b[0m\u001b[0m\n\u001b[1;32m   1195\u001b[0m                               \u001b[0mcallback_metrics\u001b[0m\u001b[0;34m=\u001b[0m\u001b[0mcallback_metrics\u001b[0m\u001b[0;34m,\u001b[0m\u001b[0;34m\u001b[0m\u001b[0m\n\u001b[0;32m-> 1196\u001b[0;31m                               initial_epoch=initial_epoch)\n\u001b[0m\u001b[1;32m   1197\u001b[0m \u001b[0;34m\u001b[0m\u001b[0m\n\u001b[1;32m   1198\u001b[0m     \u001b[0;32mdef\u001b[0m \u001b[0mevaluate\u001b[0m\u001b[0;34m(\u001b[0m\u001b[0mself\u001b[0m\u001b[0;34m,\u001b[0m \u001b[0mx\u001b[0m\u001b[0;34m,\u001b[0m \u001b[0my\u001b[0m\u001b[0;34m,\u001b[0m \u001b[0mbatch_size\u001b[0m\u001b[0;34m=\u001b[0m\u001b[0;36m32\u001b[0m\u001b[0;34m,\u001b[0m \u001b[0mverbose\u001b[0m\u001b[0;34m=\u001b[0m\u001b[0;36m1\u001b[0m\u001b[0;34m,\u001b[0m \u001b[0msample_weight\u001b[0m\u001b[0;34m=\u001b[0m\u001b[0;32mNone\u001b[0m\u001b[0;34m)\u001b[0m\u001b[0;34m:\u001b[0m\u001b[0;34m\u001b[0m\u001b[0m\n",
      "\u001b[0;32m/home/alex/anaconda3/lib/python3.6/site-packages/keras/engine/training.py\u001b[0m in \u001b[0;36m_fit_loop\u001b[0;34m(self, f, ins, out_labels, batch_size, nb_epoch, verbose, callbacks, val_f, val_ins, shuffle, callback_metrics, initial_epoch)\u001b[0m\n\u001b[1;32m    889\u001b[0m                 \u001b[0mbatch_logs\u001b[0m\u001b[0;34m[\u001b[0m\u001b[0;34m'size'\u001b[0m\u001b[0;34m]\u001b[0m \u001b[0;34m=\u001b[0m \u001b[0mlen\u001b[0m\u001b[0;34m(\u001b[0m\u001b[0mbatch_ids\u001b[0m\u001b[0;34m)\u001b[0m\u001b[0;34m\u001b[0m\u001b[0m\n\u001b[1;32m    890\u001b[0m                 \u001b[0mcallbacks\u001b[0m\u001b[0;34m.\u001b[0m\u001b[0mon_batch_begin\u001b[0m\u001b[0;34m(\u001b[0m\u001b[0mbatch_index\u001b[0m\u001b[0;34m,\u001b[0m \u001b[0mbatch_logs\u001b[0m\u001b[0;34m)\u001b[0m\u001b[0;34m\u001b[0m\u001b[0m\n\u001b[0;32m--> 891\u001b[0;31m                 \u001b[0mouts\u001b[0m \u001b[0;34m=\u001b[0m \u001b[0mf\u001b[0m\u001b[0;34m(\u001b[0m\u001b[0mins_batch\u001b[0m\u001b[0;34m)\u001b[0m\u001b[0;34m\u001b[0m\u001b[0m\n\u001b[0m\u001b[1;32m    892\u001b[0m                 \u001b[0;32mif\u001b[0m \u001b[0;32mnot\u001b[0m \u001b[0misinstance\u001b[0m\u001b[0;34m(\u001b[0m\u001b[0mouts\u001b[0m\u001b[0;34m,\u001b[0m \u001b[0mlist\u001b[0m\u001b[0;34m)\u001b[0m\u001b[0;34m:\u001b[0m\u001b[0;34m\u001b[0m\u001b[0m\n\u001b[1;32m    893\u001b[0m                     \u001b[0mouts\u001b[0m \u001b[0;34m=\u001b[0m \u001b[0;34m[\u001b[0m\u001b[0mouts\u001b[0m\u001b[0;34m]\u001b[0m\u001b[0;34m\u001b[0m\u001b[0m\n",
      "\u001b[0;32m/home/alex/anaconda3/lib/python3.6/site-packages/keras/backend/tensorflow_backend.py\u001b[0m in \u001b[0;36m__call__\u001b[0;34m(self, inputs)\u001b[0m\n\u001b[1;32m   1941\u001b[0m         \u001b[0msession\u001b[0m \u001b[0;34m=\u001b[0m \u001b[0mget_session\u001b[0m\u001b[0;34m(\u001b[0m\u001b[0;34m)\u001b[0m\u001b[0;34m\u001b[0m\u001b[0m\n\u001b[1;32m   1942\u001b[0m         updated = session.run(self.outputs + [self.updates_op],\n\u001b[0;32m-> 1943\u001b[0;31m                               feed_dict=feed_dict)\n\u001b[0m\u001b[1;32m   1944\u001b[0m         \u001b[0;32mreturn\u001b[0m \u001b[0mupdated\u001b[0m\u001b[0;34m[\u001b[0m\u001b[0;34m:\u001b[0m\u001b[0mlen\u001b[0m\u001b[0;34m(\u001b[0m\u001b[0mself\u001b[0m\u001b[0;34m.\u001b[0m\u001b[0moutputs\u001b[0m\u001b[0;34m)\u001b[0m\u001b[0;34m]\u001b[0m\u001b[0;34m\u001b[0m\u001b[0m\n\u001b[1;32m   1945\u001b[0m \u001b[0;34m\u001b[0m\u001b[0m\n",
      "\u001b[0;32m/home/alex/anaconda3/lib/python3.6/site-packages/tensorflow/python/client/session.py\u001b[0m in \u001b[0;36mrun\u001b[0;34m(self, fetches, feed_dict, options, run_metadata)\u001b[0m\n\u001b[1;32m    765\u001b[0m     \u001b[0;32mtry\u001b[0m\u001b[0;34m:\u001b[0m\u001b[0;34m\u001b[0m\u001b[0m\n\u001b[1;32m    766\u001b[0m       result = self._run(None, fetches, feed_dict, options_ptr,\n\u001b[0;32m--> 767\u001b[0;31m                          run_metadata_ptr)\n\u001b[0m\u001b[1;32m    768\u001b[0m       \u001b[0;32mif\u001b[0m \u001b[0mrun_metadata\u001b[0m\u001b[0;34m:\u001b[0m\u001b[0;34m\u001b[0m\u001b[0m\n\u001b[1;32m    769\u001b[0m         \u001b[0mproto_data\u001b[0m \u001b[0;34m=\u001b[0m \u001b[0mtf_session\u001b[0m\u001b[0;34m.\u001b[0m\u001b[0mTF_GetBuffer\u001b[0m\u001b[0;34m(\u001b[0m\u001b[0mrun_metadata_ptr\u001b[0m\u001b[0;34m)\u001b[0m\u001b[0;34m\u001b[0m\u001b[0m\n",
      "\u001b[0;32m/home/alex/anaconda3/lib/python3.6/site-packages/tensorflow/python/client/session.py\u001b[0m in \u001b[0;36m_run\u001b[0;34m(self, handle, fetches, feed_dict, options, run_metadata)\u001b[0m\n\u001b[1;32m    963\u001b[0m     \u001b[0;32mif\u001b[0m \u001b[0mfinal_fetches\u001b[0m \u001b[0;32mor\u001b[0m \u001b[0mfinal_targets\u001b[0m\u001b[0;34m:\u001b[0m\u001b[0;34m\u001b[0m\u001b[0m\n\u001b[1;32m    964\u001b[0m       results = self._do_run(handle, final_targets, final_fetches,\n\u001b[0;32m--> 965\u001b[0;31m                              feed_dict_string, options, run_metadata)\n\u001b[0m\u001b[1;32m    966\u001b[0m     \u001b[0;32melse\u001b[0m\u001b[0;34m:\u001b[0m\u001b[0;34m\u001b[0m\u001b[0m\n\u001b[1;32m    967\u001b[0m       \u001b[0mresults\u001b[0m \u001b[0;34m=\u001b[0m \u001b[0;34m[\u001b[0m\u001b[0;34m]\u001b[0m\u001b[0;34m\u001b[0m\u001b[0m\n",
      "\u001b[0;32m/home/alex/anaconda3/lib/python3.6/site-packages/tensorflow/python/client/session.py\u001b[0m in \u001b[0;36m_do_run\u001b[0;34m(self, handle, target_list, fetch_list, feed_dict, options, run_metadata)\u001b[0m\n\u001b[1;32m   1013\u001b[0m     \u001b[0;32mif\u001b[0m \u001b[0mhandle\u001b[0m \u001b[0;32mis\u001b[0m \u001b[0;32mNone\u001b[0m\u001b[0;34m:\u001b[0m\u001b[0;34m\u001b[0m\u001b[0m\n\u001b[1;32m   1014\u001b[0m       return self._do_call(_run_fn, self._session, feed_dict, fetch_list,\n\u001b[0;32m-> 1015\u001b[0;31m                            target_list, options, run_metadata)\n\u001b[0m\u001b[1;32m   1016\u001b[0m     \u001b[0;32melse\u001b[0m\u001b[0;34m:\u001b[0m\u001b[0;34m\u001b[0m\u001b[0m\n\u001b[1;32m   1017\u001b[0m       return self._do_call(_prun_fn, self._session, handle, feed_dict,\n",
      "\u001b[0;32m/home/alex/anaconda3/lib/python3.6/site-packages/tensorflow/python/client/session.py\u001b[0m in \u001b[0;36m_do_call\u001b[0;34m(self, fn, *args)\u001b[0m\n\u001b[1;32m   1020\u001b[0m   \u001b[0;32mdef\u001b[0m \u001b[0m_do_call\u001b[0m\u001b[0;34m(\u001b[0m\u001b[0mself\u001b[0m\u001b[0;34m,\u001b[0m \u001b[0mfn\u001b[0m\u001b[0;34m,\u001b[0m \u001b[0;34m*\u001b[0m\u001b[0margs\u001b[0m\u001b[0;34m)\u001b[0m\u001b[0;34m:\u001b[0m\u001b[0;34m\u001b[0m\u001b[0m\n\u001b[1;32m   1021\u001b[0m     \u001b[0;32mtry\u001b[0m\u001b[0;34m:\u001b[0m\u001b[0;34m\u001b[0m\u001b[0m\n\u001b[0;32m-> 1022\u001b[0;31m       \u001b[0;32mreturn\u001b[0m \u001b[0mfn\u001b[0m\u001b[0;34m(\u001b[0m\u001b[0;34m*\u001b[0m\u001b[0margs\u001b[0m\u001b[0;34m)\u001b[0m\u001b[0;34m\u001b[0m\u001b[0m\n\u001b[0m\u001b[1;32m   1023\u001b[0m     \u001b[0;32mexcept\u001b[0m \u001b[0merrors\u001b[0m\u001b[0;34m.\u001b[0m\u001b[0mOpError\u001b[0m \u001b[0;32mas\u001b[0m \u001b[0me\u001b[0m\u001b[0;34m:\u001b[0m\u001b[0;34m\u001b[0m\u001b[0m\n\u001b[1;32m   1024\u001b[0m       \u001b[0mmessage\u001b[0m \u001b[0;34m=\u001b[0m \u001b[0mcompat\u001b[0m\u001b[0;34m.\u001b[0m\u001b[0mas_text\u001b[0m\u001b[0;34m(\u001b[0m\u001b[0me\u001b[0m\u001b[0;34m.\u001b[0m\u001b[0mmessage\u001b[0m\u001b[0;34m)\u001b[0m\u001b[0;34m\u001b[0m\u001b[0m\n",
      "\u001b[0;32m/home/alex/anaconda3/lib/python3.6/site-packages/tensorflow/python/client/session.py\u001b[0m in \u001b[0;36m_run_fn\u001b[0;34m(session, feed_dict, fetch_list, target_list, options, run_metadata)\u001b[0m\n\u001b[1;32m   1002\u001b[0m         return tf_session.TF_Run(session, options,\n\u001b[1;32m   1003\u001b[0m                                  \u001b[0mfeed_dict\u001b[0m\u001b[0;34m,\u001b[0m \u001b[0mfetch_list\u001b[0m\u001b[0;34m,\u001b[0m \u001b[0mtarget_list\u001b[0m\u001b[0;34m,\u001b[0m\u001b[0;34m\u001b[0m\u001b[0m\n\u001b[0;32m-> 1004\u001b[0;31m                                  status, run_metadata)\n\u001b[0m\u001b[1;32m   1005\u001b[0m \u001b[0;34m\u001b[0m\u001b[0m\n\u001b[1;32m   1006\u001b[0m     \u001b[0;32mdef\u001b[0m \u001b[0m_prun_fn\u001b[0m\u001b[0;34m(\u001b[0m\u001b[0msession\u001b[0m\u001b[0;34m,\u001b[0m \u001b[0mhandle\u001b[0m\u001b[0;34m,\u001b[0m \u001b[0mfeed_dict\u001b[0m\u001b[0;34m,\u001b[0m \u001b[0mfetch_list\u001b[0m\u001b[0;34m)\u001b[0m\u001b[0;34m:\u001b[0m\u001b[0;34m\u001b[0m\u001b[0m\n",
      "\u001b[0;31mKeyboardInterrupt\u001b[0m: "
     ]
    }
   ],
   "source": [
    "w, h, d = 32, 32, 32\n",
    "\n",
    "alpha = 2\n",
    "\n",
    "def get_test3d():\n",
    "    inputs = Input((w, h, d, 1))\n",
    "    sz = 32\n",
    "\n",
    "    def conv3dparams():\n",
    "        return { 'activation':ELU(), 'border_mode':'valid', 'init': 'he_normal' }\n",
    "\n",
    "    x = Convolution3D(sz, 3, 3, 3, **conv3dparams())(inputs)\n",
    "    x = BatchNormalization()(x)\n",
    "    x = Convolution3D(sz, 3, 3, 3, **conv3dparams())(x)\n",
    "    x = BatchNormalization()(x)\n",
    "    x = MaxPooling3D(pool_size=(2, 2, 2))(x)\n",
    "\n",
    "    sz = int(sz * alpha)\n",
    "    x = Convolution3D(sz, 3, 3, 3, **conv3dparams())(x)\n",
    "    x = BatchNormalization()(x)\n",
    "    x = Convolution3D(sz, 3, 3, 3, **conv3dparams())(x)\n",
    "    x = BatchNormalization()(x)\n",
    "    # x = MaxPooling3D(pool_size=(2, 2, 2))(x)\n",
    "\n",
    "    sz = int(sz * alpha)\n",
    "    x = Convolution3D(sz, 3, 3, 3, **conv3dparams())(x)\n",
    "    x = BatchNormalization()(x)\n",
    "    x = Convolution3D(sz, 3, 3, 3, **conv3dparams())(x)\n",
    "    x = BatchNormalization()(x)\n",
    "    # x = MaxPooling3D(pool_size=(2, 2, 2))(x)\n",
    "\n",
    "    sz = int(sz * alpha)\n",
    "    x = Convolution3D(sz, 3, 3, 3, **conv3dparams())(x)\n",
    "    x = BatchNormalization()(x)\n",
    "    x = Convolution3D(sz, 3, 3, 3, **conv3dparams())(x)\n",
    "    x = BatchNormalization()(x)\n",
    "    # x = MaxPooling3D(pool_size=(2, 2, 2))(x)\n",
    "\n",
    "    sz = int(sz * alpha)\n",
    "    # x = Convolution3D(sz, 3, 3, 3, **conv3dparams)(x)\n",
    "    # x = Convolution3D(sz, 3, 3, 3, **conv3dparams)(x)\n",
    "    # x = BatchNormalization()(x)\n",
    "\n",
    "    x = Convolution3D(sz, 2, 2, 2, activation=ELU(), border_mode='valid')(x)\n",
    "    x = BatchNormalization()(x)\n",
    "    x = Flatten()(x)\n",
    "    # x = GlobalAveragePooling3D()(x)\n",
    "    x = Dense(2, activation='softmax')(x)\n",
    "\n",
    "    model = Model(input=inputs, output=x)\n",
    "\n",
    "    return model\n",
    "\n",
    "model = get_test3d()\n",
    "print(model.summary())\n",
    "\n",
    "#sgd = SGD(lr=0.001, decay=1e-6, momentum=0.9, nesterov=True)\n",
    "model.compile(loss='categorical_crossentropy', metrics=['accuracy'], optimizer=Adam())\n",
    "\n",
    "batch_size=32\n",
    "\n",
    "model.fit(\n",
    "    X, \n",
    "    y, \n",
    "    batch_size=batch_size,\n",
    "    nb_epoch=10,\n",
    "    validation_split=0.1,\n",
    "    verbose=0, callbacks=[TQDMNotebookCallback(leave_inner=True)])"
   ]
  },
  {
   "cell_type": "code",
   "execution_count": 8,
   "metadata": {
    "collapsed": false
   },
   "outputs": [
    {
     "data": {
      "text/plain": [
       "<keras.callbacks.History at 0x7fed6964d1d0>"
      ]
     },
     "execution_count": 8,
     "metadata": {},
     "output_type": "execute_result"
    }
   ],
   "source": [
    "sgd.lr = 0.0001\n",
    "\n",
    "model.fit(\n",
    "    X, \n",
    "    y, \n",
    "    batch_size=batch_size,\n",
    "    nb_epoch=3,\n",
    "    validation_split=0.1,\n",
    "    verbose=0, callbacks=[TQDMNotebookCallback(leave_inner=True)])"
   ]
  },
  {
   "cell_type": "code",
   "execution_count": 9,
   "metadata": {
    "collapsed": false
   },
   "outputs": [
    {
     "data": {
      "text/plain": [
       "<keras.callbacks.History at 0x7fed6964d240>"
      ]
     },
     "execution_count": 9,
     "metadata": {},
     "output_type": "execute_result"
    }
   ],
   "source": [
    "sgd.lr = 0.00001\n",
    "\n",
    "model.fit(\n",
    "    X, \n",
    "    y, \n",
    "    batch_size=batch_size,\n",
    "    nb_epoch=3,\n",
    "    validation_split=0.1,\n",
    "    verbose=0, callbacks=[TQDMNotebookCallback(leave_inner=True)])"
   ]
  },
  {
   "cell_type": "code",
   "execution_count": 16,
   "metadata": {
    "collapsed": false
   },
   "outputs": [
    {
     "data": {
      "text/plain": [
       "-693.14036520690922"
      ]
     },
     "execution_count": 16,
     "metadata": {},
     "output_type": "execute_result"
    }
   ],
   "source": [
    "np.mean(X)"
   ]
  },
  {
   "cell_type": "code",
   "execution_count": 15,
   "metadata": {
    "collapsed": false
   },
   "outputs": [
    {
     "data": {
      "text/plain": [
       "343.60703254609479"
      ]
     },
     "execution_count": 15,
     "metadata": {},
     "output_type": "execute_result"
    }
   ],
   "source": [
    "np.std(X)"
   ]
  },
  {
   "cell_type": "code",
   "execution_count": 49,
   "metadata": {
    "collapsed": false
   },
   "outputs": [],
   "source": [
    "y_pred = model.predict(X[18000:], batch_size)"
   ]
  },
  {
   "cell_type": "code",
   "execution_count": 72,
   "metadata": {
    "collapsed": false
   },
   "outputs": [],
   "source": [
    "y_true = y[18000:]\n",
    "idxs = (y_true[:,1] - y_pred[:,1]).argsort()[-30:][::-1]"
   ]
  },
  {
   "cell_type": "code",
   "execution_count": 73,
   "metadata": {
    "collapsed": false
   },
   "outputs": [
    {
     "name": "stdout",
     "output_type": "stream",
     "text": [
      "[ 0.  1.] [  9.99999881e-01   6.64567494e-08] 914\n",
      "[ 0.  1.] [  9.99416351e-01   5.83657180e-04] 1004\n",
      "[ 0.  1.] [ 0.99742281  0.00257718] 1424\n",
      "[ 0.  1.] [ 0.99678743  0.00321264] 202\n",
      "[ 0.  1.] [ 0.99656063  0.00343937] 1917\n",
      "[ 0.  1.] [ 0.99549329  0.00450671] 1395\n",
      "[ 0.  1.] [ 0.99081427  0.0091857 ] 854\n",
      "[ 0.  1.] [ 0.96592551  0.03407448] 1447\n",
      "[ 0.  1.] [ 0.95815545  0.04184456] 910\n",
      "[ 0.  1.] [ 0.93500859  0.06499146] 1982\n",
      "[ 0.  1.] [ 0.57086921  0.42913082] 955\n",
      "[ 0.  1.] [ 0.49300653  0.50699341] 1457\n",
      "[ 0.  1.] [ 0.33446273  0.66553724] 1956\n",
      "[ 0.  1.] [ 0.28528586  0.71471417] 1157\n",
      "[ 0.  1.] [ 0.25615719  0.74384278] 824\n",
      "[ 0.  1.] [ 0.2149858   0.78501415] 976\n",
      "[ 0.  1.] [ 0.20126981  0.79873019] 1559\n",
      "[ 0.  1.] [ 0.19700423  0.8029958 ] 474\n",
      "[ 0.  1.] [ 0.12091742  0.8790825 ] 1695\n",
      "[ 0.  1.] [ 0.10128577  0.89871424] 1738\n",
      "[ 0.  1.] [ 0.06241431  0.93758565] 132\n",
      "[ 0.  1.] [ 0.05942618  0.94057381] 1840\n",
      "[ 0.  1.] [ 0.04571332  0.95428663] 446\n",
      "[ 0.  1.] [ 0.04362948  0.95637053] 1219\n",
      "[ 0.  1.] [ 0.04097165  0.95902842] 1653\n",
      "[ 0.  1.] [ 0.02789595  0.97210407] 1444\n",
      "[ 0.  1.] [ 0.02432019  0.97567981] 582\n",
      "[ 0.  1.] [ 0.02067338  0.97932661] 621\n",
      "[ 0.  1.] [ 0.02030072  0.97969925] 107\n",
      "[ 0.  1.] [ 0.01979951  0.98020053] 1827\n"
     ]
    }
   ],
   "source": [
    "for i in idxs:\n",
    "    print(y_true[i], y_pred[i], i)"
   ]
  },
  {
   "cell_type": "code",
   "execution_count": 74,
   "metadata": {
    "collapsed": true
   },
   "outputs": [],
   "source": [
    "from pylab import *\n",
    "%matplotlib inline"
   ]
  },
  {
   "cell_type": "code",
   "execution_count": 75,
   "metadata": {
    "collapsed": false,
    "scrolled": false
   },
   "outputs": [
    {
     "data": {
      "image/png": "[encoded data removed]",
      "text/plain": [
       "<matplotlib.figure.Figure at 0x7fed0894aa58>"
      ]
     },
     "metadata": {},
     "output_type": "display_data"
    },
    {
     "data": {
      "image/png": "[encoded data removed]",
      "text/plain": [
       "<matplotlib.figure.Figure at 0x7fed07673ba8>"
      ]
     },
     "metadata": {},
     "output_type": "display_data"
    },
    {
     "data": {
      "image/png": "[encoded data removed]",
      "text/plain": [
       "<matplotlib.figure.Figure at 0x7fed075b5550>"
      ]
     },
     "metadata": {},
     "output_type": "display_data"
    },
    {
     "data": {
      "image/png": "[encoded data removed]",
      "text/plain": [
       "<matplotlib.figure.Figure at 0x7fed076979e8>"
      ]
     },
     "metadata": {},
     "output_type": "display_data"
    },
    {
     "data": {
      "image/png": "[encoded data removed]",
      "text/plain": [
       "<matplotlib.figure.Figure at 0x7fed1068b0b8>"
      ]
     },
     "metadata": {},
     "output_type": "display_data"
    },
    {
     "data": {
      "image/png": "[encoded data removed]",
      "text/plain": [
       "<matplotlib.figure.Figure at 0x7fed078b8710>"
      ]
     },
     "metadata": {},
     "output_type": "display_data"
    },
    {
     "data": {
      "image/png": "[encoded data removed]",
      "text/plain": [
       "<matplotlib.figure.Figure at 0x7fed10663438>"
      ]
     },
     "metadata": {},
     "output_type": "display_data"
    },
    {
     "data": {
      "image/png": "[encoded data removed]",
      "text/plain": [
       "<matplotlib.figure.Figure at 0x7fed083ad9e8>"
      ]
     },
     "metadata": {},
     "output_type": "display_data"
    },
    {
     "data": {
      "image/png": "[encoded data removed]",
      "text/plain": [
       "<matplotlib.figure.Figure at 0x7fed07b8ae48>"
      ]
     },
     "metadata": {},
     "output_type": "display_data"
    },
    {
     "data": {
      "image/png": "[encoded data removed]",
      "text/plain": [
       "<matplotlib.figure.Figure at 0x7fed1002cfd0>"
      ]
     },
     "metadata": {},
     "output_type": "display_data"
    }
   ],
   "source": [
    "for i in idxs[:10]:\n",
    "    imshow(X[i+18000,16,:,:,0])\n",
    "    show()"
   ]
  },
  {
   "cell_type": "code",
   "execution_count": 76,
   "metadata": {
    "collapsed": false
   },
   "outputs": [
    {
     "name": "stderr",
     "output_type": "stream",
     "text": [
      "/home/alex/anaconda3/lib/python3.6/site-packages/dicom/__init__.py:53: UserWarning: \n",
      "This code is using an older version of pydicom, which is no longer \n",
      "maintained as of Jan 2017.  You can access the new pydicom features and API \n",
      "by installing `pydicom` from PyPI.\n",
      "See 'Transitioning to pydicom 1.x' section at pydicom.readthedocs.org \n",
      "for more information.\n",
      "\n",
      "  warnings.warn(msg)\n"
     ]
    }
   ],
   "source": [
    "import data"
   ]
  },
  {
   "cell_type": "code",
   "execution_count": 77,
   "metadata": {
    "collapsed": true
   },
   "outputs": [],
   "source": [
    "pid = data.luna16_get_patient_ids()[0]"
   ]
  },
  {
   "cell_type": "code",
   "execution_count": 78,
   "metadata": {
    "collapsed": true
   },
   "outputs": [],
   "source": [
    "image = data.luna16_get_image(pid)"
   ]
  },
  {
   "cell_type": "code",
   "execution_count": 86,
   "metadata": {
    "collapsed": false
   },
   "outputs": [],
   "source": [
    "cubes = []\n",
    "for i in range(0, image.shape[0], 32):\n",
    "    for j in range(0, image.shape[1], 32):\n",
    "        for k in range(0, image.shape[2], 32):\n",
    "            cube = image[i:i+32,j:j+32,k:k+32]\n",
    "            if (cube.shape != (32,32,32)):\n",
    "                continue\n",
    "            cubes.append(cube)\n",
    "cubes = np.stack(cubes)\n",
    "cubes = (cubes + 693.0) / 343.0\n",
    "cubes = cubes[...,None]"
   ]
  },
  {
   "cell_type": "code",
   "execution_count": 87,
   "metadata": {
    "collapsed": false
   },
   "outputs": [
    {
     "data": {
      "text/plain": [
       "(847, 32, 32, 32, 1)"
      ]
     },
     "execution_count": 87,
     "metadata": {},
     "output_type": "execute_result"
    }
   ],
   "source": [
    "cubes.shape"
   ]
  },
  {
   "cell_type": "code",
   "execution_count": 88,
   "metadata": {
    "collapsed": true
   },
   "outputs": [],
   "source": [
    "cps = model.predict(cubes, batch_size)"
   ]
  },
  {
   "cell_type": "code",
   "execution_count": 92,
   "metadata": {
    "collapsed": false
   },
   "outputs": [
    {
     "data": {
      "text/plain": [
       "423"
      ]
     },
     "execution_count": 92,
     "metadata": {},
     "output_type": "execute_result"
    }
   ],
   "source": [
    "np.count_nonzero(cps[:,1] > 0.5)"
   ]
  },
  {
   "cell_type": "code",
   "execution_count": 95,
   "metadata": {
    "collapsed": false
   },
   "outputs": [
    {
     "data": {
      "text/plain": [
       "(7.21875, 11.25, 11.25)"
      ]
     },
     "execution_count": 95,
     "metadata": {},
     "output_type": "execute_result"
    }
   ],
   "source": [
    "image.shape[0] / 32, image.shape[1] / 32, image.shape[2] / 32"
   ]
  },
  {
   "cell_type": "code",
   "execution_count": 97,
   "metadata": {
    "collapsed": false
   },
   "outputs": [],
   "source": [
    "cps = cps[:,1].reshape((7,11,11))"
   ]
  },
  {
   "cell_type": "code",
   "execution_count": 111,
   "metadata": {
    "collapsed": false
   },
   "outputs": [
    {
     "data": {
      "text/plain": [
       "<matplotlib.colorbar.Colorbar at 0x7fecf5143278>"
      ]
     },
     "execution_count": 111,
     "metadata": {},
     "output_type": "execute_result"
    },
    {
     "data": {
      "image/png": "[encoded data removed]",
      "text/plain": [
       "<matplotlib.figure.Figure at 0x7fecf5260080>"
      ]
     },
     "metadata": {},
     "output_type": "display_data"
    }
   ],
   "source": [
    "imshow(cps[3])\n",
    "colorbar()"
   ]
  },
  {
   "cell_type": "code",
   "execution_count": null,
   "metadata": {
    "collapsed": true
   },
   "outputs": [],
   "source": []
  }
 ],
 "metadata": {
  "kernelspec": {
   "display_name": "Python 3",
   "language": "python",
   "name": "python3"
  },
  "language_info": {
   "codemirror_mode": {
    "name": "ipython",
    "version": 3
   },
   "file_extension": ".py",
   "mimetype": "text/x-python",
   "name": "python",
   "nbconvert_exporter": "python",
   "pygments_lexer": "ipython3",
   "version": "3.6.0"
  },
  "widgets": {
   "state": {
    "0845f62e7eff4130bd7395f75b52a8b3": {
     "views": [
      {
       "cell_index": 2
      }
     ]
    },
    "153b2df6be26438eb8bed51a7b048715": {
     "views": [
      {
       "cell_index": 3
      }
     ]
    },
    "17ce7fcda9fe405d9d66cd5e84f58d78": {
     "views": [
      {
       "cell_index": 3
      }
     ]
    },
    "1fc17c69b1314fbf92ef175403275cbc": {
     "views": [
      {
       "cell_index": 3
      }
     ]
    },
    "23d65a3ed1934f6e923a6a7a6ba2fe83": {
     "views": [
      {
       "cell_index": 2
      }
     ]
    },
    "26a7a1a662a44e279b253225f0ae2d68": {
     "views": [
      {
       "cell_index": 3
      }
     ]
    },
    "2acb36570bb34386b3dab312cd669836": {
     "views": [
      {
       "cell_index": 3
      }
     ]
    },
    "2d185e82eca2456681eb80f9a1fea9f2": {
     "views": [
      {
       "cell_index": 4
      }
     ]
    },
    "2f068e4a8620440f9834d06df63b715b": {
     "views": [
      {
       "cell_index": 3
      }
     ]
    },
    "38fc90acd63a4a25bd723a15971e4f1a": {
     "views": [
      {
       "cell_index": 3
      }
     ]
    },
    "409fe4d7280840e99ce401408d2f98b0": {
     "views": [
      {
       "cell_index": 2
      }
     ]
    },
    "42b968b1931347d4934b25e538ee0d83": {
     "views": [
      {
       "cell_index": 3
      }
     ]
    },
    "4e28f90b73de4ade91f4f5e0de6f388b": {
     "views": [
      {
       "cell_index": 3
      }
     ]
    },
    "4ebe6c978ad0492eb1b384ad6eccd9ca": {
     "views": [
      {
       "cell_index": 3
      }
     ]
    },
    "54fd32defb72477fbad8a9af3efb95d5": {
     "views": [
      {
       "cell_index": 3
      }
     ]
    },
    "5982717f96ec497da567128b59385447": {
     "views": [
      {
       "cell_index": 3
      }
     ]
    },
    "66f82dcb1adb439a9baa4a472ae743b5": {
     "views": [
      {
       "cell_index": 3
      }
     ]
    },
    "725034e2f98c4fa1845211c4082e3a40": {
     "views": [
      {
       "cell_index": 3
      }
     ]
    },
    "7ba9840a87474a82b8f9998bbef85238": {
     "views": [
      {
       "cell_index": 2
      }
     ]
    },
    "7dbbb4888d3e4fe0af06435dde01c2db": {
     "views": [
      {
       "cell_index": 3
      }
     ]
    },
    "8ece23ae3be8462aaa0a56ed2139eb08": {
     "views": [
      {
       "cell_index": 2
      }
     ]
    },
    "980ef8b35abb4fef9e8687cbe9a8565a": {
     "views": [
      {
       "cell_index": 3
      }
     ]
    },
    "a1381b6c98594b9c99100889993c4103": {
     "views": [
      {
       "cell_index": 2
      }
     ]
    },
    "aab9881540224f44b42b63356c7d0021": {
     "views": [
      {
       "cell_index": 4
      }
     ]
    },
    "ab901b14d38843d6a7ddfb92d7f782cd": {
     "views": [
      {
       "cell_index": 3
      }
     ]
    },
    "b401f0a5b49d40949903586b05192e08": {
     "views": [
      {
       "cell_index": 3
      }
     ]
    },
    "bca0278d046e47028ee3043428bd0ab2": {
     "views": [
      {
       "cell_index": 3
      }
     ]
    },
    "bf0d3d8e704e42958c81961d96c83432": {
     "views": [
      {
       "cell_index": 3
      }
     ]
    },
    "c629238ad62549ba9e4ea46add510198": {
     "views": [
      {
       "cell_index": 3
      }
     ]
    },
    "c8d6b5b82ce14368a053fc7a61af71ec": {
     "views": [
      {
       "cell_index": 3
      }
     ]
    },
    "ca89a10bea3f41fbaa75202f9a06fe32": {
     "views": [
      {
       "cell_index": 3
      }
     ]
    },
    "d15e0bcc876e42c59ed674f8cb12c31f": {
     "views": [
      {
       "cell_index": 3
      }
     ]
    },
    "da7f511b6a6c4680abc2b7903f6cd117": {
     "views": [
      {
       "cell_index": 3
      }
     ]
    },
    "df3a785885104d43a182314f79ee56bf": {
     "views": [
      {
       "cell_index": 3
      }
     ]
    },
    "e09ae79db8354da1b1c42adca362a367": {
     "views": [
      {
       "cell_index": 3
      }
     ]
    },
    "e86d9d8278e54d09b53787d11f505514": {
     "views": [
      {
       "cell_index": 3
      }
     ]
    },
    "ebfeb3903084434fa2e97d407df5d2ca": {
     "views": [
      {
       "cell_index": 4
      }
     ]
    },
    "ee0f1b1732ad4385992acd6ce8601c4b": {
     "views": [
      {
       "cell_index": 4
      }
     ]
    },
    "efda0afc9f22471a97e275c1661b7fe0": {
     "views": [
      {
       "cell_index": 3
      }
     ]
    },
    "f3923fd31d2d40e8adfd8da08cbf5e9c": {
     "views": [
      {
       "cell_index": 3
      }
     ]
    },
    "f84d29db20e441f8ab73337fc387cd84": {
     "views": [
      {
       "cell_index": 3
      }
     ]
    }
   },
   "version": "1.2.0"
  }
 },
 "nbformat": 4,
 "nbformat_minor": 2
}
