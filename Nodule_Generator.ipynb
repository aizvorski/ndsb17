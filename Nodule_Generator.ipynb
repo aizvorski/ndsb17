{
 "cells": [
  {
   "cell_type": "code",
   "execution_count": 1,
   "metadata": {
    "collapsed": true
   },
   "outputs": [],
   "source": [
    "from pylab import *\n",
    "%matplotlib inline"
   ]
  },
  {
   "cell_type": "code",
   "execution_count": 2,
   "metadata": {
    "collapsed": true
   },
   "outputs": [],
   "source": [
    "import numpy as np\n",
    "import random"
   ]
  },
  {
   "cell_type": "code",
   "execution_count": 3,
   "metadata": {
    "collapsed": false
   },
   "outputs": [
    {
     "name": "stderr",
     "output_type": "stream",
     "text": [
      "/home/alex/anaconda3/lib/python3.6/site-packages/dicom/__init__.py:53: UserWarning: \n",
      "This code is using an older version of pydicom, which is no longer \n",
      "maintained as of Jan 2017.  You can access the new pydicom features and API \n",
      "by installing `pydicom` from PyPI.\n",
      "See 'Transitioning to pydicom 1.x' section at pydicom.readthedocs.org \n",
      "for more information.\n",
      "\n",
      "  warnings.warn(msg)\n"
     ]
    }
   ],
   "source": [
    "import data"
   ]
  },
  {
   "cell_type": "code",
   "execution_count": 4,
   "metadata": {
    "collapsed": false
   },
   "outputs": [],
   "source": [
    "df_nodes = data.luna16_get_df_nodes() "
   ]
  },
  {
   "cell_type": "code",
   "execution_count": 5,
   "metadata": {
    "collapsed": false
   },
   "outputs": [],
   "source": [
    "df_nodes = df_nodes[(df_nodes[\"diameter_mm\"]>6)]"
   ]
  },
  {
   "cell_type": "code",
   "execution_count": 6,
   "metadata": {
    "collapsed": false
   },
   "outputs": [],
   "source": [
    "patient_ids = data.luna16_get_patient_ids()"
   ]
  },
  {
   "cell_type": "code",
   "execution_count": 7,
   "metadata": {
    "collapsed": true
   },
   "outputs": [],
   "source": [
    "vsize = np.asarray([32,32,32])"
   ]
  },
  {
   "cell_type": "code",
   "execution_count": 58,
   "metadata": {
    "collapsed": false
   },
   "outputs": [],
   "source": [
    "def get_backgrounds(num_samples=10):\n",
    "#     mask = compose_make_mask(vsize, diam=6, sigma=1)\n",
    "    X = []\n",
    "    while len(X) < num_samples:\n",
    "        try:\n",
    "            pid = random.choice(patient_ids)\n",
    "            image = data.luna16_get_image(pid)\n",
    "            segmented_image = data.luna16_get_segmented_image(pid)\n",
    "            info = data.luna16_get_info(pid)\n",
    "            volume, segmented_volume, overlap = data.luna16_get_volume(image, segmented_image, vsize, min_overlap=0.5)\n",
    "            if volume is None:\n",
    "                continue\n",
    "#             density = np.sum( (volume+1000)*mask ) / np.sum(mask) - 1000\n",
    "#             if density < -600:\n",
    "#                 continue\n",
    "            X.append(volume.copy())\n",
    "        except Exception as e:\n",
    "            print(repr(e))\n",
    "    return X"
   ]
  },
  {
   "cell_type": "code",
   "execution_count": 10,
   "metadata": {
    "collapsed": false
   },
   "outputs": [],
   "source": [
    "def get_all_nodules():\n",
    "    X = []\n",
    "    diams = []\n",
    "    for idx in range(len(df_nodes)):\n",
    "        #print(idx)\n",
    "        pid = df_nodes.iloc[idx][\"pid\"]\n",
    "        image = data.luna16_get_image(pid)\n",
    "        segmented_image = data.luna16_get_segmented_image(pid)\n",
    "        info = data.luna16_get_info(pid)\n",
    "        volume = data.luna16_get_node_volume(image, vsize, info, df_nodes, idx)\n",
    "        X.append(volume.copy())\n",
    "        diams.append(df_nodes.iloc[idx][\"diameter_mm\"])\n",
    "    return X, diams"
   ]
  },
  {
   "cell_type": "code",
   "execution_count": 11,
   "metadata": {
    "collapsed": false
   },
   "outputs": [],
   "source": [
    "X_nodules, diams = get_all_nodules()"
   ]
  },
  {
   "cell_type": "code",
   "execution_count": 12,
   "metadata": {
    "collapsed": false
   },
   "outputs": [],
   "source": [
    "import scipy.ndimage.filters"
   ]
  },
  {
   "cell_type": "code",
   "execution_count": 50,
   "metadata": {
    "collapsed": false
   },
   "outputs": [],
   "source": [
    "def compose_make_mask(vsize, diam, sigma):\n",
    "#     mask = np.zeros(vsize, dtype=np.float32)\n",
    "#     for i in range(vsize[0]):\n",
    "#         for j in range(vsize[1]):\n",
    "#             for k in range(vsize[2]):\n",
    "#                 dist = np.sqrt(np.sum(np.square(np.asarray([i, j, k]) - vsize / 2.0)))\n",
    "#                 if dist < diam/2.0:\n",
    "#                     mask[i,j,k] = 1\n",
    "\n",
    "    grid = np.indices(vsize).astype(np.float32)\n",
    "    grid = grid - vsize[:,None,None,None]/2.0\n",
    "    mask = np.sqrt(np.sum(np.square(grid), axis=0)) < diam/2\n",
    "                    \n",
    "    mask = scipy.ndimage.filters.gaussian_filter(mask.astype(np.float32), sigma=sigma)\n",
    "    return mask\n"
   ]
  },
  {
   "cell_type": "code",
   "execution_count": 59,
   "metadata": {
    "collapsed": false,
    "scrolled": false
   },
   "outputs": [
    {
     "name": "stdout",
     "output_type": "stream",
     "text": [
      "ValueError('mmap length is greater than file size',)\n",
      "ValueError('mmap length is greater than file size',)\n",
      "FileNotFoundError(2, 'No such file or directory')\n",
      "ValueError('mmap length is greater than file size',)\n",
      "ValueError('mmap length is greater than file size',)\n",
      "ValueError('mmap length is greater than file size',)\n",
      "ValueError('mmap length is greater than file size',)\n",
      "ValueError('mmap length is greater than file size',)\n",
      "ValueError('mmap length is greater than file size',)\n",
      "ValueError('mmap length is greater than file size',)\n",
      "ValueError('mmap length is greater than file size',)\n",
      "ValueError('mmap length is greater than file size',)\n",
      "ValueError('mmap length is greater than file size',)\n",
      "ValueError('mmap length is greater than file size',)\n",
      "ValueError('mmap length is greater than file size',)\n",
      "ValueError('mmap length is greater than file size',)\n",
      "ValueError('mmap length is greater than file size',)\n",
      "ValueError('mmap length is greater than file size',)\n",
      "ValueError('mmap length is greater than file size',)\n",
      "ValueError('mmap length is greater than file size',)\n",
      "ValueError('mmap length is greater than file size',)\n",
      "ValueError('mmap length is greater than file size',)\n",
      "ValueError('mmap length is greater than file size',)\n",
      "ValueError('mmap length is greater than file size',)\n",
      "ValueError('mmap length is greater than file size',)\n",
      "ValueError('mmap length is greater than file size',)\n",
      "ValueError('mmap length is greater than file size',)\n",
      "ValueError('mmap length is greater than file size',)\n",
      "ValueError('mmap length is greater than file size',)\n",
      "ValueError('mmap length is greater than file size',)\n",
      "ValueError('mmap length is greater than file size',)\n",
      "ValueError('mmap length is greater than file size',)\n",
      "ValueError('mmap length is greater than file size',)\n",
      "ValueError('mmap length is greater than file size',)\n",
      "ValueError('mmap length is greater than file size',)\n",
      "ValueError('mmap length is greater than file size',)\n",
      "ValueError('mmap length is greater than file size',)\n",
      "ValueError('mmap length is greater than file size',)\n",
      "ValueError('mmap length is greater than file size',)\n",
      "ValueError('mmap length is greater than file size',)\n",
      "ValueError('mmap length is greater than file size',)\n",
      "ValueError('mmap length is greater than file size',)\n",
      "ValueError('mmap length is greater than file size',)\n",
      "ValueError('mmap length is greater than file size',)\n",
      "FileNotFoundError(2, 'No such file or directory')\n",
      "ValueError('mmap length is greater than file size',)\n",
      "ValueError('mmap length is greater than file size',)\n",
      "ValueError('mmap length is greater than file size',)\n",
      "ValueError('mmap length is greater than file size',)\n",
      "ValueError('mmap length is greater than file size',)\n",
      "ValueError('mmap length is greater than file size',)\n",
      "ValueError('mmap length is greater than file size',)\n",
      "ValueError('mmap length is greater than file size',)\n",
      "ValueError('mmap length is greater than file size',)\n",
      "ValueError('mmap length is greater than file size',)\n",
      "ValueError('mmap length is greater than file size',)\n",
      "ValueError('mmap length is greater than file size',)\n",
      "ValueError('mmap length is greater than file size',)\n",
      "ValueError('mmap length is greater than file size',)\n",
      "ValueError('mmap length is greater than file size',)\n",
      "FileNotFoundError(2, 'No such file or directory')\n",
      "ValueError('mmap length is greater than file size',)\n",
      "ValueError('mmap length is greater than file size',)\n",
      "ValueError('mmap length is greater than file size',)\n",
      "ValueError('mmap length is greater than file size',)\n",
      "FileNotFoundError(2, 'No such file or directory')\n",
      "ValueError('mmap length is greater than file size',)\n",
      "ValueError('mmap length is greater than file size',)\n",
      "ValueError('mmap length is greater than file size',)\n",
      "ValueError('mmap length is greater than file size',)\n",
      "ValueError('mmap length is greater than file size',)\n",
      "ValueError('mmap length is greater than file size',)\n",
      "ValueError('mmap length is greater than file size',)\n",
      "ValueError('mmap length is greater than file size',)\n",
      "ValueError('mmap length is greater than file size',)\n",
      "FileNotFoundError(2, 'No such file or directory')\n",
      "FileNotFoundError(2, 'No such file or directory')\n",
      "ValueError('mmap length is greater than file size',)\n",
      "FileNotFoundError(2, 'No such file or directory')\n",
      "ValueError('mmap length is greater than file size',)\n",
      "ValueError('mmap length is greater than file size',)\n",
      "ValueError('mmap length is greater than file size',)\n",
      "ValueError('mmap length is greater than file size',)\n",
      "ValueError('mmap length is greater than file size',)\n",
      "ValueError('mmap length is greater than file size',)\n",
      "ValueError('mmap length is greater than file size',)\n",
      "ValueError('mmap length is greater than file size',)\n",
      "FileNotFoundError(2, 'No such file or directory')\n",
      "ValueError('mmap length is greater than file size',)\n",
      "ValueError('mmap length is greater than file size',)\n",
      "ValueError('mmap length is greater than file size',)\n",
      "ValueError('mmap length is greater than file size',)\n",
      "FileNotFoundError(2, 'No such file or directory')\n",
      "ValueError('mmap length is greater than file size',)\n",
      "ValueError('mmap length is greater than file size',)\n",
      "FileNotFoundError(2, 'No such file or directory')\n",
      "ValueError('mmap length is greater than file size',)\n",
      "ValueError('mmap length is greater than file size',)\n",
      "ValueError('mmap length is greater than file size',)\n",
      "ValueError('mmap length is greater than file size',)\n",
      "ValueError('mmap length is greater than file size',)\n",
      "ValueError('mmap length is greater than file size',)\n",
      "ValueError('mmap length is greater than file size',)\n",
      "ValueError('mmap length is greater than file size',)\n",
      "ValueError('mmap length is greater than file size',)\n",
      "ValueError('mmap length is greater than file size',)\n",
      "ValueError('mmap length is greater than file size',)\n",
      "ValueError('mmap length is greater than file size',)\n",
      "ValueError('mmap length is greater than file size',)\n",
      "ValueError('mmap length is greater than file size',)\n",
      "ValueError('mmap length is greater than file size',)\n",
      "ValueError('mmap length is greater than file size',)\n",
      "ValueError('mmap length is greater than file size',)\n",
      "ValueError('mmap length is greater than file size',)\n",
      "ValueError('mmap length is greater than file size',)\n",
      "FileNotFoundError(2, 'No such file or directory')\n",
      "ValueError('mmap length is greater than file size',)\n",
      "ValueError('mmap length is greater than file size',)\n",
      "ValueError('mmap length is greater than file size',)\n",
      "ValueError('mmap length is greater than file size',)\n",
      "ValueError('mmap length is greater than file size',)\n",
      "ValueError('mmap length is greater than file size',)\n",
      "FileNotFoundError(2, 'No such file or directory')\n",
      "ValueError('mmap length is greater than file size',)\n",
      "ValueError('mmap length is greater than file size',)\n",
      "ValueError('mmap length is greater than file size',)\n",
      "ValueError('mmap length is greater than file size',)\n",
      "ValueError('mmap length is greater than file size',)\n",
      "ValueError('mmap length is greater than file size',)\n",
      "ValueError('mmap length is greater than file size',)\n",
      "ValueError('mmap length is greater than file size',)\n",
      "ValueError('mmap length is greater than file size',)\n",
      "ValueError('mmap length is greater than file size',)\n",
      "FileNotFoundError(2, 'No such file or directory')\n",
      "ValueError('mmap length is greater than file size',)\n",
      "ValueError('mmap length is greater than file size',)\n",
      "ValueError('mmap length is greater than file size',)\n",
      "ValueError('mmap length is greater than file size',)\n",
      "FileNotFoundError(2, 'No such file or directory')\n",
      "ValueError('mmap length is greater than file size',)\n",
      "ValueError('mmap length is greater than file size',)\n",
      "ValueError('mmap length is greater than file size',)\n",
      "ValueError('mmap length is greater than file size',)\n",
      "ValueError('mmap length is greater than file size',)\n",
      "ValueError('mmap length is greater than file size',)\n",
      "ValueError('mmap length is greater than file size',)\n",
      "ValueError('mmap length is greater than file size',)\n",
      "ValueError('mmap length is greater than file size',)\n",
      "ValueError('mmap length is greater than file size',)\n",
      "ValueError('mmap length is greater than file size',)\n",
      "ValueError('mmap length is greater than file size',)\n",
      "ValueError('mmap length is greater than file size',)\n",
      "ValueError('mmap length is greater than file size',)\n",
      "FileNotFoundError(2, 'No such file or directory')\n",
      "ValueError('mmap length is greater than file size',)\n",
      "ValueError('mmap length is greater than file size',)\n",
      "ValueError('mmap length is greater than file size',)\n",
      "FileNotFoundError(2, 'No such file or directory')\n",
      "ValueError('mmap length is greater than file size',)\n",
      "ValueError('mmap length is greater than file size',)\n",
      "ValueError('mmap length is greater than file size',)\n",
      "ValueError('mmap length is greater than file size',)\n",
      "ValueError('mmap length is greater than file size',)\n",
      "ValueError('mmap length is greater than file size',)\n",
      "FileNotFoundError(2, 'No such file or directory')\n",
      "ValueError('mmap length is greater than file size',)\n",
      "FileNotFoundError(2, 'No such file or directory')\n",
      "ValueError('mmap length is greater than file size',)\n",
      "FileNotFoundError(2, 'No such file or directory')\n",
      "ValueError('mmap length is greater than file size',)\n",
      "ValueError('mmap length is greater than file size',)\n",
      "ValueError('mmap length is greater than file size',)\n",
      "ValueError('mmap length is greater than file size',)\n",
      "ValueError('mmap length is greater than file size',)\n",
      "ValueError('mmap length is greater than file size',)\n",
      "ValueError('mmap length is greater than file size',)\n",
      "ValueError('mmap length is greater than file size',)\n",
      "ValueError('mmap length is greater than file size',)\n",
      "ValueError('mmap length is greater than file size',)\n",
      "ValueError('mmap length is greater than file size',)\n",
      "ValueError('mmap length is greater than file size',)\n",
      "ValueError('mmap length is greater than file size',)\n",
      "ValueError('mmap length is greater than file size',)\n",
      "ValueError('mmap length is greater than file size',)\n",
      "ValueError('mmap length is greater than file size',)\n"
     ]
    }
   ],
   "source": [
    "num_samples = 10000\n",
    "X_backgrounds = get_backgrounds(num_samples=num_samples)"
   ]
  },
  {
   "cell_type": "code",
   "execution_count": 62,
   "metadata": {
    "collapsed": false
   },
   "outputs": [
    {
     "data": {
      "text/plain": [
       "<matplotlib.image.AxesImage at 0x7f1655785ba8>"
      ]
     },
     "execution_count": 62,
     "metadata": {},
     "output_type": "execute_result"
    },
    {
     "data": {
      "image/png": "[encoded data removed]",
      "text/plain": [
       "<matplotlib.figure.Figure at 0x7f165580f240>"
      ]
     },
     "metadata": {},
     "output_type": "display_data"
    }
   ],
   "source": [
    "imshow(X_backgrounds[9999][16])"
   ]
  },
  {
   "cell_type": "code",
   "execution_count": 83,
   "metadata": {
    "collapsed": false
   },
   "outputs": [
    {
     "name": "stdout",
     "output_type": "stream",
     "text": [
      "ValueError('operands could not be broadcast together with shapes (32,32,31) (32,32,32) ',)\n",
      "ValueError('operands could not be broadcast together with shapes (32,32,31) (32,32,32) ',)\n",
      "ValueError('operands could not be broadcast together with shapes (32,32,0) (32,32,32) ',)\n",
      "ValueError('operands could not be broadcast together with shapes (32,32,31) (32,32,32) ',)\n",
      "ValueError('operands could not be broadcast together with shapes (32,32,31) (32,32,32) ',)\n",
      "ValueError('operands could not be broadcast together with shapes (32,32,0) (32,32,32) ',)\n",
      "ValueError('operands could not be broadcast together with shapes (32,32,0) (32,32,32) ',)\n",
      "ValueError('operands could not be broadcast together with shapes (32,32,0) (32,32,32) ',)\n",
      "ValueError('operands could not be broadcast together with shapes (32,32,0) (32,32,32) ',)\n",
      "ValueError('operands could not be broadcast together with shapes (32,32,31) (32,32,32) ',)\n",
      "ValueError('operands could not be broadcast together with shapes (32,32,31) (32,32,32) ',)\n",
      "ValueError('operands could not be broadcast together with shapes (32,32,0) (32,32,32) ',)\n",
      "ValueError('operands could not be broadcast together with shapes (32,32,31) (32,32,32) ',)\n",
      "ValueError('operands could not be broadcast together with shapes (32,32,31) (32,32,32) ',)\n",
      "ValueError('operands could not be broadcast together with shapes (32,32,0) (32,32,32) ',)\n",
      "ValueError('operands could not be broadcast together with shapes (32,32,31) (32,32,32) ',)\n",
      "ValueError('operands could not be broadcast together with shapes (32,32,31) (32,32,32) ',)\n",
      "ValueError('operands could not be broadcast together with shapes (32,32,0) (32,32,32) ',)\n",
      "ValueError('operands could not be broadcast together with shapes (32,32,31) (32,32,32) ',)\n",
      "ValueError('operands could not be broadcast together with shapes (32,32,0) (32,32,32) ',)\n",
      "ValueError('operands could not be broadcast together with shapes (32,32,31) (32,32,32) ',)\n",
      "ValueError('operands could not be broadcast together with shapes (32,32,0) (32,32,32) ',)\n",
      "ValueError('operands could not be broadcast together with shapes (32,32,0) (32,32,32) ',)\n",
      "ValueError('operands could not be broadcast together with shapes (32,32,31) (32,32,32) ',)\n",
      "ValueError('operands could not be broadcast together with shapes (32,32,31) (32,32,32) ',)\n",
      "ValueError('operands could not be broadcast together with shapes (32,32,31) (32,32,32) ',)\n",
      "ValueError('operands could not be broadcast together with shapes (32,32,31) (32,32,32) ',)\n",
      "ValueError('operands could not be broadcast together with shapes (32,32,0) (32,32,32) ',)\n",
      "ValueError('operands could not be broadcast together with shapes (32,32,31) (32,32,32) ',)\n",
      "ValueError('operands could not be broadcast together with shapes (32,32,0) (32,32,32) ',)\n",
      "ValueError('operands could not be broadcast together with shapes (32,32,0) (32,32,32) ',)\n",
      "ValueError('operands could not be broadcast together with shapes (32,32,31) (32,32,32) ',)\n",
      "ValueError('operands could not be broadcast together with shapes (32,32,31) (32,32,32) ',)\n",
      "ValueError('operands could not be broadcast together with shapes (32,32,0) (32,32,32) ',)\n",
      "ValueError('operands could not be broadcast together with shapes (32,32,31) (32,32,32) ',)\n"
     ]
    }
   ],
   "source": [
    "X_augmented_nodules = []\n",
    "num_samples = 10000\n",
    "while len(X_augmented_nodules) < num_samples:\n",
    "    try:\n",
    "        k = len(X_augmented_nodules)\n",
    "        idx = random.choice(range(len(X_nodules)))\n",
    "        nodule = X_nodules[idx]\n",
    "        # randomly flip or not flip each axis\n",
    "        if random.choice([True, False]):\n",
    "            nodule = nodule[::-1,:,:]\n",
    "        if random.choice([True, False]):\n",
    "            nodule = nodule[:,::-1,:]\n",
    "        if random.choice([True, False]):\n",
    "            nodule = nodule[:,:,::-1]\n",
    "        mask = compose_make_mask(vsize, diam=diams[idx]+6, sigma=(diams[idx]+6)/8)\n",
    "        volume_aug = data.compose_max2(X_backgrounds[k], nodule, mask)\n",
    "        X_augmented_nodules.append(volume_aug)\n",
    "    except Exception as e:\n",
    "        print(repr(e))"
   ]
  },
  {
   "cell_type": "code",
   "execution_count": 91,
   "metadata": {
    "collapsed": false
   },
   "outputs": [
    {
     "data": {
      "text/plain": [
       "<matplotlib.image.AxesImage at 0x7f1654d3d0b8>"
      ]
     },
     "execution_count": 91,
     "metadata": {},
     "output_type": "execute_result"
    },
    {
     "data": {
      "image/png": "[encoded data removed]",
      "text/plain": [
       "<matplotlib.figure.Figure at 0x7f1654e275c0>"
      ]
     },
     "metadata": {},
     "output_type": "display_data"
    }
   ],
   "source": [
    "imshow(X_backgrounds[10][16])"
   ]
  },
  {
   "cell_type": "code",
   "execution_count": 90,
   "metadata": {
    "collapsed": false
   },
   "outputs": [
    {
     "data": {
      "text/plain": [
       "<matplotlib.image.AxesImage at 0x7f1654a98f98>"
      ]
     },
     "execution_count": 90,
     "metadata": {},
     "output_type": "execute_result"
    },
    {
     "data": {
      "image/png": "[encoded data removed]",
      "text/plain": [
       "<matplotlib.figure.Figure at 0x7f1654dba898>"
      ]
     },
     "metadata": {},
     "output_type": "display_data"
    }
   ],
   "source": [
    "imshow(X_augmented_nodules[10][16])"
   ]
  },
  {
   "cell_type": "code",
   "execution_count": 88,
   "metadata": {
    "collapsed": false
   },
   "outputs": [],
   "source": [
    "X = np.stack(X_backgrounds + X_augmented_nodules).astype(np.int16)"
   ]
  },
  {
   "cell_type": "code",
   "execution_count": 89,
   "metadata": {
    "collapsed": false
   },
   "outputs": [],
   "source": [
    "np.save(\"/mnt/data/luna16/sets/toy_set_v1_20k.npy\", X[:,:,:,:,None])"
   ]
  },
  {
   "cell_type": "code",
   "execution_count": null,
   "metadata": {
    "collapsed": true
   },
   "outputs": [],
   "source": []
  }
 ],
 "metadata": {
  "kernelspec": {
   "display_name": "Python 3",
   "language": "python",
   "name": "python3"
  },
  "language_info": {
   "codemirror_mode": {
    "name": "ipython",
    "version": 3
   },
   "file_extension": ".py",
   "mimetype": "text/x-python",
   "name": "python",
   "nbconvert_exporter": "python",
   "pygments_lexer": "ipython3",
   "version": "3.6.0"
  }
 },
 "nbformat": 4,
 "nbformat_minor": 2
}
