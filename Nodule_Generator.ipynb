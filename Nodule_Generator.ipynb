{
 "cells": [
  {
   "cell_type": "code",
   "execution_count": 1,
   "metadata": {
    "collapsed": true
   },
   "outputs": [],
   "source": [
    "from pylab import *\n",
    "%matplotlib inline"
   ]
  },
  {
   "cell_type": "code",
   "execution_count": 2,
   "metadata": {
    "collapsed": true
   },
   "outputs": [],
   "source": [
    "import numpy as np\n",
    "import random"
   ]
  },
  {
   "cell_type": "code",
   "execution_count": 3,
   "metadata": {
    "collapsed": false
   },
   "outputs": [
    {
     "name": "stderr",
     "output_type": "stream",
     "text": [
      "/home/alex/anaconda3/lib/python3.6/site-packages/dicom/__init__.py:53: UserWarning: \n",
      "This code is using an older version of pydicom, which is no longer \n",
      "maintained as of Jan 2017.  You can access the new pydicom features and API \n",
      "by installing `pydicom` from PyPI.\n",
      "See 'Transitioning to pydicom 1.x' section at pydicom.readthedocs.org \n",
      "for more information.\n",
      "\n",
      "  warnings.warn(msg)\n"
     ]
    }
   ],
   "source": [
    "import data"
   ]
  },
  {
   "cell_type": "code",
   "execution_count": 4,
   "metadata": {
    "collapsed": false
   },
   "outputs": [],
   "source": [
    "df_nodes = data.luna16_get_df_nodes() "
   ]
  },
  {
   "cell_type": "code",
   "execution_count": 5,
   "metadata": {
    "collapsed": false
   },
   "outputs": [],
   "source": [
    "df_nodes = df_nodes[(df_nodes[\"diameter_mm\"]>6)]"
   ]
  },
  {
   "cell_type": "code",
   "execution_count": 6,
   "metadata": {
    "collapsed": false
   },
   "outputs": [],
   "source": [
    "patient_ids = data.luna16_get_patient_ids()"
   ]
  },
  {
   "cell_type": "code",
   "execution_count": 7,
   "metadata": {
    "collapsed": true
   },
   "outputs": [],
   "source": [
    "vsize = np.asarray([32,32,32])"
   ]
  },
  {
   "cell_type": "code",
   "execution_count": 8,
   "metadata": {
    "collapsed": false
   },
   "outputs": [],
   "source": [
    "def get_all_nodules():\n",
    "    X = []\n",
    "    diams = []\n",
    "    for idx in range(len(df_nodes)):\n",
    "        #print(idx)\n",
    "        pid = df_nodes.iloc[idx][\"pid\"]\n",
    "        image = data.luna16_get_image(pid)\n",
    "        segmented_image = data.luna16_get_segmented_image(pid)\n",
    "        info = data.luna16_get_info(pid)\n",
    "        volume = data.luna16_get_node_volume(image, vsize, info, df_nodes, idx)\n",
    "        X.append(volume.copy())\n",
    "        diams.append(df_nodes.iloc[idx][\"diameter_mm\"])\n",
    "    return X, diams"
   ]
  },
  {
   "cell_type": "code",
   "execution_count": 9,
   "metadata": {
    "collapsed": false
   },
   "outputs": [],
   "source": [
    "X_nodules, diams = get_all_nodules()"
   ]
  },
  {
   "cell_type": "code",
   "execution_count": 10,
   "metadata": {
    "collapsed": false
   },
   "outputs": [],
   "source": [
    "import scipy.ndimage.filters"
   ]
  },
  {
   "cell_type": "code",
   "execution_count": 11,
   "metadata": {
    "collapsed": false
   },
   "outputs": [],
   "source": [
    "def compose_make_mask(vsize, diam, sigma):\n",
    "    grid = np.indices(vsize).astype(np.float32)\n",
    "    grid = grid - vsize[:,None,None,None]/2.0\n",
    "    mask = np.sqrt(np.sum(np.square(grid), axis=0)) < diam/2\n",
    "                    \n",
    "    mask = scipy.ndimage.filters.gaussian_filter(mask.astype(np.float32), sigma=sigma)\n",
    "    return mask\n"
   ]
  },
  {
   "cell_type": "code",
   "execution_count": 12,
   "metadata": {
    "collapsed": true
   },
   "outputs": [],
   "source": [
    "def make_augmented(volume):\n",
    "    idx = random.choice(range(len(X_nodules)))\n",
    "    nodule = X_nodules[idx]\n",
    "    # randomly flip or not flip each axis\n",
    "    if random.choice([True, False]):\n",
    "        nodule = nodule[::-1,:,:]\n",
    "    if random.choice([True, False]):\n",
    "        nodule = nodule[:,::-1,:]\n",
    "    if random.choice([True, False]):\n",
    "        nodule = nodule[:,:,::-1]\n",
    "    mask = compose_make_mask(vsize, diam=diams[idx]+6, sigma=(diams[idx]+6)/8)\n",
    "    volume_aug = data.compose_max2(volume, nodule, mask)\n",
    "    return volume_aug"
   ]
  },
  {
   "cell_type": "code",
   "execution_count": 13,
   "metadata": {
    "collapsed": false
   },
   "outputs": [
    {
     "name": "stdout",
     "output_type": "stream",
     "text": [
      "1.3.6.1.4.1.14519.5.2.1.6279.6001.264090899378396711987322794314 ValueError('mmap length is greater than file size',)\n",
      "1.3.6.1.4.1.14519.5.2.1.6279.6001.390009458146468860187238398197 ValueError('mmap length is greater than file size',)\n",
      "1.3.6.1.4.1.14519.5.2.1.6279.6001.664989286137882319237192185951 ValueError('mmap length is greater than file size',)\n",
      "1.3.6.1.4.1.14519.5.2.1.6279.6001.101228986346984399347858840086 ValueError('mmap length is greater than file size',)\n",
      "1.3.6.1.4.1.14519.5.2.1.6279.6001.203425588524695836343069893813 ValueError('mmap length is greater than file size',)\n",
      "1.3.6.1.4.1.14519.5.2.1.6279.6001.270788655216695628640355888562 ValueError('mmap length is greater than file size',)\n",
      "1.3.6.1.4.1.14519.5.2.1.6279.6001.144438612068946916340281098509 ValueError('mmap length is greater than file size',)\n",
      "1.3.6.1.4.1.14519.5.2.1.6279.6001.286061375572911414226912429210 ValueError('mmap length is greater than file size',)\n",
      "1.3.6.1.4.1.14519.5.2.1.6279.6001.220205300714852483483213840572 ValueError('mmap length is greater than file size',)\n",
      "1.3.6.1.4.1.14519.5.2.1.6279.6001.333145094436144085379032922488 ValueError('operands could not be broadcast together with shapes (32,32,31) (32,32,32) ',)\n",
      "1.3.6.1.4.1.14519.5.2.1.6279.6001.101228986346984399347858840086 ValueError('mmap length is greater than file size',)\n",
      "1.3.6.1.4.1.14519.5.2.1.6279.6001.286061375572911414226912429210 ValueError('mmap length is greater than file size',)\n",
      "1.3.6.1.4.1.14519.5.2.1.6279.6001.220205300714852483483213840572 ValueError('mmap length is greater than file size',)\n",
      "1.3.6.1.4.1.14519.5.2.1.6279.6001.223098610241551815995595311693 ValueError('operands could not be broadcast together with shapes (32,32,31) (32,32,32) ',)\n",
      "1.3.6.1.4.1.14519.5.2.1.6279.6001.124154461048929153767743874565 ValueError('operands could not be broadcast together with shapes (32,32,0) (32,32,32) ',)\n",
      "1.3.6.1.4.1.14519.5.2.1.6279.6001.203425588524695836343069893813 ValueError('mmap length is greater than file size',)\n",
      "1.3.6.1.4.1.14519.5.2.1.6279.6001.270788655216695628640355888562 ValueError('mmap length is greater than file size',)\n",
      "1.3.6.1.4.1.14519.5.2.1.6279.6001.144438612068946916340281098509 ValueError('mmap length is greater than file size',)\n",
      "1.3.6.1.4.1.14519.5.2.1.6279.6001.340012777775661021262977442176 ValueError('mmap length is greater than file size',)\n",
      "1.3.6.1.4.1.14519.5.2.1.6279.6001.286061375572911414226912429210 ValueError('mmap length is greater than file size',)\n",
      "1.3.6.1.4.1.14519.5.2.1.6279.6001.144438612068946916340281098509 ValueError('mmap length is greater than file size',)\n",
      "1.3.6.1.4.1.14519.5.2.1.6279.6001.340012777775661021262977442176 ValueError('mmap length is greater than file size',)\n",
      "1.3.6.1.4.1.14519.5.2.1.6279.6001.248425363469507808613979846863 ValueError('operands could not be broadcast together with shapes (32,32,31) (32,32,32) ',)\n",
      "1.3.6.1.4.1.14519.5.2.1.6279.6001.390009458146468860187238398197 ValueError('mmap length is greater than file size',)\n",
      "1.3.6.1.4.1.14519.5.2.1.6279.6001.280125803152924778388346920341 ValueError('operands could not be broadcast together with shapes (32,32,0) (32,32,32) ',)\n",
      "1.3.6.1.4.1.14519.5.2.1.6279.6001.270788655216695628640355888562 ValueError('mmap length is greater than file size',)\n",
      "1.3.6.1.4.1.14519.5.2.1.6279.6001.177785764461425908755977367558 ValueError('operands could not be broadcast together with shapes (32,32,31) (32,32,32) ',)\n",
      "1.3.6.1.4.1.14519.5.2.1.6279.6001.264090899378396711987322794314 ValueError('mmap length is greater than file size',)\n",
      "1.3.6.1.4.1.14519.5.2.1.6279.6001.108231420525711026834210228428 ValueError('operands could not be broadcast together with shapes (32,32,0) (32,32,32) ',)\n",
      "1.3.6.1.4.1.14519.5.2.1.6279.6001.664989286137882319237192185951 ValueError('mmap length is greater than file size',)\n",
      "1.3.6.1.4.1.14519.5.2.1.6279.6001.664989286137882319237192185951 ValueError('mmap length is greater than file size',)\n",
      "1.3.6.1.4.1.14519.5.2.1.6279.6001.664989286137882319237192185951 ValueError('mmap length is greater than file size',)\n",
      "1.3.6.1.4.1.14519.5.2.1.6279.6001.965620538050807352935663552285 ValueError('operands could not be broadcast together with shapes (32,32,31) (32,32,32) ',)\n",
      "1.3.6.1.4.1.14519.5.2.1.6279.6001.313756547848086902190878548835 ValueError('mmap length is greater than file size',)\n",
      "1.3.6.1.4.1.14519.5.2.1.6279.6001.220205300714852483483213840572 ValueError('mmap length is greater than file size',)\n",
      "1.3.6.1.4.1.14519.5.2.1.6279.6001.121805476976020513950614465787 ValueError('mmap length is greater than file size',)\n",
      "1.3.6.1.4.1.14519.5.2.1.6279.6001.187803155574314810830688534991 FileNotFoundError(2, 'No such file or directory')\n",
      "1.3.6.1.4.1.14519.5.2.1.6279.6001.340012777775661021262977442176 ValueError('mmap length is greater than file size',)\n",
      "1.3.6.1.4.1.14519.5.2.1.6279.6001.270788655216695628640355888562 ValueError('mmap length is greater than file size',)\n",
      "1.3.6.1.4.1.14519.5.2.1.6279.6001.669518152156802508672627785405 ValueError('operands could not be broadcast together with shapes (32,32,31) (32,32,32) ',)\n",
      "1.3.6.1.4.1.14519.5.2.1.6279.6001.323541312620128092852212458228 ValueError('operands could not be broadcast together with shapes (32,32,0) (32,32,32) ',)\n",
      "1.3.6.1.4.1.14519.5.2.1.6279.6001.724562063158320418413995627171 ValueError('operands could not be broadcast together with shapes (32,32,0) (32,32,32) ',)\n",
      "1.3.6.1.4.1.14519.5.2.1.6279.6001.144438612068946916340281098509 ValueError('mmap length is greater than file size',)\n",
      "1.3.6.1.4.1.14519.5.2.1.6279.6001.716498695101447665580610403574 ValueError('operands could not be broadcast together with shapes (32,32,0) (32,32,32) ',)\n",
      "1.3.6.1.4.1.14519.5.2.1.6279.6001.270788655216695628640355888562 ValueError('mmap length is greater than file size',)\n",
      "1.3.6.1.4.1.14519.5.2.1.6279.6001.286061375572911414226912429210 ValueError('mmap length is greater than file size',)\n",
      "1.3.6.1.4.1.14519.5.2.1.6279.6001.187803155574314810830688534991 FileNotFoundError(2, 'No such file or directory')\n",
      "1.3.6.1.4.1.14519.5.2.1.6279.6001.233001470265230594739708503198 ValueError('operands could not be broadcast together with shapes (32,32,0) (32,32,32) ',)\n",
      "1.3.6.1.4.1.14519.5.2.1.6279.6001.220205300714852483483213840572 ValueError('mmap length is greater than file size',)\n",
      "1.3.6.1.4.1.14519.5.2.1.6279.6001.301582691063019848479942618641 ValueError('operands could not be broadcast together with shapes (32,32,0) (32,32,32) ',)\n",
      "1.3.6.1.4.1.14519.5.2.1.6279.6001.297251044869095073091780740645 ValueError('mmap length is greater than file size',)\n",
      "1.3.6.1.4.1.14519.5.2.1.6279.6001.313756547848086902190878548835 ValueError('mmap length is greater than file size',)\n",
      "1.3.6.1.4.1.14519.5.2.1.6279.6001.323859712968543712594665815359 ValueError('operands could not be broadcast together with shapes (32,32,31) (32,32,32) ',)\n",
      "1.3.6.1.4.1.14519.5.2.1.6279.6001.264090899378396711987322794314 ValueError('mmap length is greater than file size',)\n",
      "1.3.6.1.4.1.14519.5.2.1.6279.6001.390009458146468860187238398197 ValueError('mmap length is greater than file size',)\n",
      "1.3.6.1.4.1.14519.5.2.1.6279.6001.286061375572911414226912429210 ValueError('mmap length is greater than file size',)\n",
      "1.3.6.1.4.1.14519.5.2.1.6279.6001.220205300714852483483213840572 ValueError('mmap length is greater than file size',)\n",
      "1.3.6.1.4.1.14519.5.2.1.6279.6001.187803155574314810830688534991 FileNotFoundError(2, 'No such file or directory')\n",
      "1.3.6.1.4.1.14519.5.2.1.6279.6001.144438612068946916340281098509 ValueError('mmap length is greater than file size',)\n",
      "1.3.6.1.4.1.14519.5.2.1.6279.6001.487745546557477250336016826588 ValueError('operands could not be broadcast together with shapes (32,32,0) (32,32,32) ',)\n",
      "1.3.6.1.4.1.14519.5.2.1.6279.6001.203425588524695836343069893813 ValueError('mmap length is greater than file size',)\n",
      "1.3.6.1.4.1.14519.5.2.1.6279.6001.286061375572911414226912429210 ValueError('mmap length is greater than file size',)\n",
      "1.3.6.1.4.1.14519.5.2.1.6279.6001.270788655216695628640355888562 ValueError('mmap length is greater than file size',)\n",
      "1.3.6.1.4.1.14519.5.2.1.6279.6001.187803155574314810830688534991 FileNotFoundError(2, 'No such file or directory')\n",
      "1.3.6.1.4.1.14519.5.2.1.6279.6001.244590453955380448651329424024 ValueError('operands could not be broadcast together with shapes (32,32,31) (32,32,32) ',)\n",
      "1.3.6.1.4.1.14519.5.2.1.6279.6001.336894364358709782463716339027 ValueError('operands could not be broadcast together with shapes (32,32,31) (32,32,32) ',)\n",
      "1.3.6.1.4.1.14519.5.2.1.6279.6001.323302986710576400812869264321 ValueError('operands could not be broadcast together with shapes (32,32,31) (32,32,32) ',)\n",
      "1.3.6.1.4.1.14519.5.2.1.6279.6001.220205300714852483483213840572 ValueError('mmap length is greater than file size',)\n",
      "1.3.6.1.4.1.14519.5.2.1.6279.6001.313756547848086902190878548835 ValueError('mmap length is greater than file size',)\n",
      "1.3.6.1.4.1.14519.5.2.1.6279.6001.252709517998555732486024866345 ValueError('operands could not be broadcast together with shapes (32,32,31) (32,32,32) ',)\n",
      "1.3.6.1.4.1.14519.5.2.1.6279.6001.101228986346984399347858840086 ValueError('mmap length is greater than file size',)\n",
      "1.3.6.1.4.1.14519.5.2.1.6279.6001.220205300714852483483213840572 ValueError('mmap length is greater than file size',)\n",
      "1.3.6.1.4.1.14519.5.2.1.6279.6001.226152078193253087875725735761 ValueError('operands could not be broadcast together with shapes (32,32,0) (32,32,32) ',)\n",
      "1.3.6.1.4.1.14519.5.2.1.6279.6001.712472578497712558367294720243 ValueError('operands could not be broadcast together with shapes (32,32,0) (32,32,32) ',)\n"
     ]
    }
   ],
   "source": [
    "X_backgrounds_lung = []\n",
    "X_backgrounds_tissue = []\n",
    "X_backgrounds_any = []\n",
    "X_augmented_nodules = []\n",
    "\n",
    "central_mask = compose_make_mask(vsize, diam=6+6, sigma=(6+6)/8)\n",
    "\n",
    "n = 0\n",
    "while True:\n",
    "    if n % 10 == 0:\n",
    "        try:\n",
    "            pid = random.choice(patient_ids)\n",
    "            image_ = data.luna16_get_image(pid)\n",
    "            segmented_image_ = data.luna16_get_segmented_image(pid)\n",
    "            \n",
    "            image, segmented_image = image_, segmented_image_\n",
    "            # info = data.luna16_get_info(pid)\n",
    "        except Exception as e:\n",
    "            print(pid, repr(e))\n",
    "            continue\n",
    "\n",
    "    n+=1\n",
    "            \n",
    "    pos = np.asarray([ np.random.randint(k, image.shape[k] - vsize[k]) for k in range(3) ])\n",
    "    volume = image[pos[0]:pos[0]+vsize[0], pos[1]:pos[1]+vsize[1], pos[2]:pos[2]+vsize[2]]\n",
    "    segmented_volume = segmented_image[pos[0]:pos[0]+vsize[0], pos[1]:pos[1]+vsize[1], pos[2]:pos[2]+vsize[2]]\n",
    "    overlap = np.mean(segmented_volume)\n",
    "    density = np.mean(volume)\n",
    "    central_density = np.sum(np.mean((volume+1000) * central_mask)) / np.sum(central_mask) - 1000\n",
    "    \n",
    "    #print(overlap, density, central_density)\n",
    "    \n",
    "    if len(X_backgrounds_any) < 5000:\n",
    "        X_backgrounds_any.append(volume.copy())\n",
    "        continue\n",
    "        \n",
    "    if density > -320 and len(X_backgrounds_tissue) < 5000:\n",
    "        X_backgrounds_tissue.append(volume.copy())\n",
    "        continue\n",
    "        \n",
    "    if overlap > 0 and central_density < -320 and len(X_augmented_nodules) < 10000:\n",
    "        try:\n",
    "            volume_aug = make_augmented(volume)\n",
    "            X_augmented_nodules.append(volume_aug.copy())\n",
    "            X_backgrounds_lung.append(volume.copy())\n",
    "        except Exception as e:\n",
    "            print(pid, repr(e))\n",
    "            continue\n",
    "        \n",
    "    if len(X_backgrounds_any) >= 5000 and \\\n",
    "        len(X_backgrounds_tissue) >= 5000 and \\\n",
    "        len(X_backgrounds_lung) >= 10000 and \\\n",
    "        len(X_augmented_nodules) >= 10000:\n",
    "        break"
   ]
  },
  {
   "cell_type": "code",
   "execution_count": 15,
   "metadata": {
    "collapsed": false
   },
   "outputs": [
    {
     "data": {
      "text/plain": [
       "100"
      ]
     },
     "execution_count": 15,
     "metadata": {},
     "output_type": "execute_result"
    }
   ],
   "source": [
    "len(X_backgrounds_any)"
   ]
  },
  {
   "cell_type": "code",
   "execution_count": 14,
   "metadata": {
    "collapsed": false
   },
   "outputs": [],
   "source": [
    "X = np.stack(X_backgrounds_lung + X_backgrounds_tissue + X_backgrounds_any + X_augmented_nodules).astype(np.int16)"
   ]
  },
  {
   "cell_type": "code",
   "execution_count": 15,
   "metadata": {
    "collapsed": false
   },
   "outputs": [],
   "source": [
    "np.save(\"/mnt/data/luna16/sets/toy_set_v2_30k.npy\", X[:,:,:,:,None])"
   ]
  },
  {
   "cell_type": "code",
   "execution_count": 57,
   "metadata": {
    "collapsed": false
   },
   "outputs": [
    {
     "data": {
      "text/plain": [
       "<matplotlib.image.AxesImage at 0x7f8e33f37390>"
      ]
     },
     "execution_count": 57,
     "metadata": {},
     "output_type": "execute_result"
    },
    {
     "data": {
      "image/png": "[encoded data removed]",
      "text/plain": [
       "<matplotlib.figure.Figure at 0x7f8e33fc79b0>"
      ]
     },
     "metadata": {},
     "output_type": "display_data"
    }
   ],
   "source": [
    "imshow(X_backgrounds_tissue[10][16])"
   ]
  },
  {
   "cell_type": "code",
   "execution_count": null,
   "metadata": {
    "collapsed": true
   },
   "outputs": [],
   "source": []
  }
 ],
 "metadata": {
  "kernelspec": {
   "display_name": "Python 3",
   "language": "python",
   "name": "python3"
  },
  "language_info": {
   "codemirror_mode": {
    "name": "ipython",
    "version": 3
   },
   "file_extension": ".py",
   "mimetype": "text/x-python",
   "name": "python",
   "nbconvert_exporter": "python",
   "pygments_lexer": "ipython3",
   "version": "3.6.0"
  }
 },
 "nbformat": 4,
 "nbformat_minor": 2
}
