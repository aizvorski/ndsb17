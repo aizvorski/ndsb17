{
 "cells": [
  {
   "cell_type": "code",
   "execution_count": 1,
   "metadata": {
    "collapsed": false
   },
   "outputs": [
    {
     "name": "stderr",
     "output_type": "stream",
     "text": [
      "Using TensorFlow backend.\n"
     ]
    }
   ],
   "source": [
    "import numpy as np\n",
    "from keras.models import Model\n",
    "from keras.layers import Input, merge, Convolution3D, MaxPooling3D, UpSampling3D, GlobalAveragePooling3D, Dense, Flatten, Dropout, Activation\n",
    "from keras.layers.normalization import BatchNormalization\n",
    "from keras.layers.advanced_activations import ELU\n",
    "from keras.optimizers import SGD, Adam, Nadam\n",
    "\n",
    "from keras_tqdm import TQDMNotebookCallback"
   ]
  },
  {
   "cell_type": "code",
   "execution_count": 10,
   "metadata": {
    "collapsed": false
   },
   "outputs": [],
   "source": [
    "import data\n",
    "import random\n",
    "import scipy.ndimage.interpolation\n",
    "\n",
    "vsize = np.asarray([32,32,32])\n",
    "\n",
    "df_nodes = data.luna16_get_df_nodes() \n",
    "df_nodes = df_nodes[(df_nodes[\"diameter_mm\"]>10)]\n",
    "\n",
    "patient_ids = data.luna16_get_patient_ids()\n",
    "\n",
    "X_nodules, diams = data.luna16_get_all_nodules(vsize, df_nodes)\n",
    "\n",
    "def make_augmented(vsize, volume, X_nodules):\n",
    "    idx = random.choice(range(len(X_nodules)))\n",
    "    nodule = X_nodules[idx]\n",
    "    # randomly flip or not flip each axis\n",
    "    if random.choice([True, False]):\n",
    "        nodule = nodule[::-1,:,:]\n",
    "    if random.choice([True, False]):\n",
    "        nodule = nodule[:,::-1,:]\n",
    "    if random.choice([True, False]):\n",
    "        nodule = nodule[:,:,::-1]\n",
    "    mask = data.compose_make_mask(vsize, diam=diams[idx]+6, sigma=(diams[idx]+6)/8)\n",
    "    volume_aug = data.compose_max2(volume, nodule, mask)\n",
    "    return volume_aug\n",
    "\n",
    "def sample_generator(vsize, patient_ids, X_nodules, diams):\n",
    "    n = 0\n",
    "    n_aug = 0\n",
    "\n",
    "    central_mask = data.compose_make_mask(vsize, diam=6+6, sigma=(6+6)/8)\n",
    "    \n",
    "    while True:\n",
    "        if n % 1000 == 0:\n",
    "            try:\n",
    "                pid = random.choice(patient_ids)\n",
    "                image_ = data.luna16_get_image(pid)\n",
    "                segmented_image_ = data.luna16_get_segmented_image(pid)\n",
    "\n",
    "                image, segmented_image = image_, segmented_image_\n",
    "                n+=1\n",
    "                # segpack = np.packbits(segmented_image, axis=0)\n",
    "                # info = data.luna16_get_info(pid)\n",
    "            except Exception as e:\n",
    "                #print(pid, repr(e))\n",
    "                continue\n",
    "            \n",
    "        pos = np.asarray([ np.random.randint(k, image.shape[k] - vsize[k]) for k in range(3) ])\n",
    "        segmented_volume = segmented_image[pos[0]:pos[0]+vsize[0], pos[1]:pos[1]+vsize[1], pos[2]:pos[2]+vsize[2]]\n",
    "        if np.count_nonzero(segmented_volume) == 0:\n",
    "            continue\n",
    "#         segpack_volume = segpack[pos[0]//8:(pos[0]+vsize[0])//8, pos[1]:pos[1]+vsize[1], pos[2]:pos[2]+vsize[2]]\n",
    "#         if np.count_nonzero(segpack_volume) == 0:\n",
    "#            continue\n",
    "        volume = image[pos[0]:pos[0]+vsize[0], pos[1]:pos[1]+vsize[1], pos[2]:pos[2]+vsize[2]]\n",
    "#         overlap = np.mean(segmented_volume)\n",
    "#         density = np.mean(volume)\n",
    "        central_density = np.mean((volume+1000) * central_mask) / np.mean(central_mask) - 1000\n",
    "    \n",
    "        is_augmented = False\n",
    "        if central_density < -500 and np.random.choice([True, False]):\n",
    "            volume = make_augmented(vsize, volume, X_nodules)\n",
    "            is_augmented = True\n",
    "            n_aug += 1\n",
    "            \n",
    "        n+=1\n",
    "\n",
    "        yield volume, is_augmented\n",
    "        \n",
    "def batch_generator(vsize, patient_ids, X_nodules, diams):\n",
    "    gen = sample_generator(vsize, patient_ids, X_nodules, diams)\n",
    "    batch_size = 64\n",
    "    while True:\n",
    "        X = np.zeros((batch_size, 32,32,32,1), dtype=np.float32)\n",
    "        y = np.zeros((batch_size, 2), dtype=np.int)\n",
    "        for n in range(batch_size):\n",
    "            volume, is_augmented = next(gen)\n",
    "            X[n,:,:,:,0] = volume\n",
    "            if is_augmented:\n",
    "                y[n,1] = 1\n",
    "            else:\n",
    "                y[n,0] = 1\n",
    "        X = (X - X_mean)/X_std\n",
    "        X = scipy.ndimage.interpolation.zoom(X, (1, 0.5, 0.5, 0.5, 1), order=1)\n",
    "        yield X, y"
   ]
  },
  {
   "cell_type": "code",
   "execution_count": 11,
   "metadata": {
    "collapsed": true
   },
   "outputs": [],
   "source": [
    "gen = batch_generator(vsize, patient_ids, X_nodules, diams)"
   ]
  },
  {
   "cell_type": "code",
   "execution_count": 20,
   "metadata": {
    "collapsed": false
   },
   "outputs": [],
   "source": [
    "X, y = next(gen)"
   ]
  },
  {
   "cell_type": "code",
   "execution_count": 8,
   "metadata": {
    "collapsed": false
   },
   "outputs": [
    {
     "name": "stderr",
     "output_type": "stream",
     "text": [
      "/home/alex/anaconda3/lib/python3.6/site-packages/scipy/ndimage/interpolation.py:571: RuntimeWarning: invalid value encountered in true_divide\n",
      "  zoom = (numpy.array(input.shape) - 1) / zoom_div\n"
     ]
    }
   ],
   "source": [
    "X_big = []\n",
    "for n in range(100):\n",
    "    X, y = next(gen)\n",
    "    X_big.append(X)"
   ]
  },
  {
   "cell_type": "code",
   "execution_count": 25,
   "metadata": {
    "collapsed": false
   },
   "outputs": [
    {
     "name": "stdout",
     "output_type": "stream",
     "text": [
      "-378.9 475.913\n"
     ]
    }
   ],
   "source": [
    "X_mean = np.mean(X_big)\n",
    "X_std = np.std(X_big)\n",
    "print(X_mean, X_std)"
   ]
  },
  {
   "cell_type": "code",
   "execution_count": 9,
   "metadata": {
    "collapsed": true
   },
   "outputs": [],
   "source": [
    "X_mean, X_std = -378.9, 475.913"
   ]
  },
  {
   "cell_type": "code",
   "execution_count": 12,
   "metadata": {
    "collapsed": false
   },
   "outputs": [],
   "source": [
    "vsize = (16, 16, 16)\n",
    "\n",
    "\n",
    "\n",
    "def model3d(vsize, do_features=False):\n",
    "    inputs = Input(vsize + (1,))\n",
    "    sz = 48\n",
    "    alpha = 1.5\n",
    "    \n",
    "    def conv3dparams(**replace_params):\n",
    "        params = { 'activation':ELU(), 'border_mode':'valid', 'init': 'he_normal' }\n",
    "        params.update(replace_params)\n",
    "        return params\n",
    "\n",
    "    x = Convolution3D(sz, 3, 3, 3, **conv3dparams())(inputs)\n",
    "    x = BatchNormalization()(x)\n",
    "\n",
    "    sz = int(sz * alpha)\n",
    "    x = Convolution3D(sz, 3, 3, 3, **conv3dparams())(x)\n",
    "    x = BatchNormalization()(x)\n",
    "    x = Convolution3D(sz, 3, 3, 3, **conv3dparams())(x)\n",
    "    x = BatchNormalization()(x)\n",
    "    # x = MaxPooling3D(pool_size=(2, 2, 2))(x)\n",
    "\n",
    "    sz = int(sz * alpha)\n",
    "    x = Convolution3D(sz, 3, 3, 3, **conv3dparams())(x)\n",
    "    x = BatchNormalization()(x)\n",
    "    x = Convolution3D(sz, 3, 3, 3, **conv3dparams())(x)\n",
    "    x = BatchNormalization()(x)\n",
    "    # x = MaxPooling3D(pool_size=(2, 2, 2))(x)\n",
    "\n",
    "    sz = int(sz * alpha)\n",
    "    x = Convolution3D(sz, 3, 3, 3, **conv3dparams())(x)\n",
    "    x = BatchNormalization()(x)\n",
    "    x = Convolution3D(sz, 3, 3, 3, **conv3dparams())(x)\n",
    "    x = BatchNormalization()(x)\n",
    "    # x = MaxPooling3D(pool_size=(2, 2, 2))(x)\n",
    "\n",
    "    sz = int(sz * alpha)\n",
    "    # x = Convolution3D(sz, 3, 3, 3, **conv3dparams)(x)\n",
    "    # x = Convolution3D(sz, 3, 3, 3, **conv3dparams)(x)\n",
    "    # x = BatchNormalization()(x)\n",
    "\n",
    "    x = Convolution3D(sz, 2, 2, 2, **conv3dparams())(x)\n",
    "    x = BatchNormalization()(x)\n",
    "    x = Convolution3D(sz, 1, 1, 1, **conv3dparams(border_mode='same'))(x)\n",
    "    x = BatchNormalization()(x)\n",
    "    x = Convolution3D(2, 1, 1, 1, **conv3dparams(activation='linear', border_mode='same'))(x)\n",
    "    if not do_features:\n",
    "        x = Flatten()(x)\n",
    "        x = Activation('softmax')(x)\n",
    "\n",
    "    model = Model(input=inputs, output=x)\n",
    "\n",
    "    return model\n",
    "\n"
   ]
  },
  {
   "cell_type": "code",
   "execution_count": 13,
   "metadata": {
    "collapsed": false
   },
   "outputs": [
    {
     "name": "stdout",
     "output_type": "stream",
     "text": [
      "____________________________________________________________________________________________________\n",
      "Layer (type)                     Output Shape          Param #     Connected to                     \n",
      "====================================================================================================\n",
      "input_1 (InputLayer)             (None, 16, 16, 16, 1) 0                                            \n",
      "____________________________________________________________________________________________________\n",
      "convolution3d_1 (Convolution3D)  (None, 14, 14, 14, 48 1344        input_1[0][0]                    \n",
      "____________________________________________________________________________________________________\n",
      "batchnormalization_1 (BatchNorma (None, 14, 14, 14, 48 192         convolution3d_1[0][0]            \n",
      "____________________________________________________________________________________________________\n",
      "convolution3d_2 (Convolution3D)  (None, 12, 12, 12, 72 93384       batchnormalization_1[0][0]       \n",
      "____________________________________________________________________________________________________\n",
      "batchnormalization_2 (BatchNorma (None, 12, 12, 12, 72 288         convolution3d_2[0][0]            \n",
      "____________________________________________________________________________________________________\n",
      "convolution3d_3 (Convolution3D)  (None, 10, 10, 10, 72 140040      batchnormalization_2[0][0]       \n",
      "____________________________________________________________________________________________________\n",
      "batchnormalization_3 (BatchNorma (None, 10, 10, 10, 72 288         convolution3d_3[0][0]            \n",
      "____________________________________________________________________________________________________\n",
      "convolution3d_4 (Convolution3D)  (None, 8, 8, 8, 108)  210060      batchnormalization_3[0][0]       \n",
      "____________________________________________________________________________________________________\n",
      "batchnormalization_4 (BatchNorma (None, 8, 8, 8, 108)  432         convolution3d_4[0][0]            \n",
      "____________________________________________________________________________________________________\n",
      "convolution3d_5 (Convolution3D)  (None, 6, 6, 6, 108)  315036      batchnormalization_4[0][0]       \n",
      "____________________________________________________________________________________________________\n",
      "batchnormalization_5 (BatchNorma (None, 6, 6, 6, 108)  432         convolution3d_5[0][0]            \n",
      "____________________________________________________________________________________________________\n",
      "convolution3d_6 (Convolution3D)  (None, 4, 4, 4, 162)  472554      batchnormalization_5[0][0]       \n",
      "____________________________________________________________________________________________________\n",
      "batchnormalization_6 (BatchNorma (None, 4, 4, 4, 162)  648         convolution3d_6[0][0]            \n",
      "____________________________________________________________________________________________________\n",
      "convolution3d_7 (Convolution3D)  (None, 2, 2, 2, 162)  708750      batchnormalization_6[0][0]       \n",
      "____________________________________________________________________________________________________\n",
      "batchnormalization_7 (BatchNorma (None, 2, 2, 2, 162)  648         convolution3d_7[0][0]            \n",
      "____________________________________________________________________________________________________\n",
      "convolution3d_8 (Convolution3D)  (None, 1, 1, 1, 243)  315171      batchnormalization_7[0][0]       \n",
      "____________________________________________________________________________________________________\n",
      "batchnormalization_8 (BatchNorma (None, 1, 1, 1, 243)  972         convolution3d_8[0][0]            \n",
      "____________________________________________________________________________________________________\n",
      "convolution3d_9 (Convolution3D)  (None, 1, 1, 1, 243)  59292       batchnormalization_8[0][0]       \n",
      "____________________________________________________________________________________________________\n",
      "batchnormalization_9 (BatchNorma (None, 1, 1, 1, 243)  972         convolution3d_9[0][0]            \n",
      "____________________________________________________________________________________________________\n",
      "convolution3d_10 (Convolution3D) (None, 1, 1, 1, 2)    488         batchnormalization_9[0][0]       \n",
      "____________________________________________________________________________________________________\n",
      "flatten_1 (Flatten)              (None, 2)             0           convolution3d_10[0][0]           \n",
      "____________________________________________________________________________________________________\n",
      "activation_1 (Activation)        (None, 2)             0           flatten_1[0][0]                  \n",
      "====================================================================================================\n",
      "Total params: 2,320,991\n",
      "Trainable params: 2,318,555\n",
      "Non-trainable params: 2,436\n",
      "____________________________________________________________________________________________________\n",
      "None\n"
     ]
    }
   ],
   "source": [
    "model = model3d(vsize)\n",
    "print(model.summary())\n"
   ]
  },
  {
   "cell_type": "code",
   "execution_count": 16,
   "metadata": {
    "collapsed": false
   },
   "outputs": [
    {
     "name": "stderr",
     "output_type": "stream",
     "text": [
      "/home/alex/anaconda3/lib/python3.6/site-packages/scipy/ndimage/interpolation.py:571: RuntimeWarning: invalid value encountered in true_divide\n",
      "  zoom = (numpy.array(input.shape) - 1) / zoom_div\n",
      "/home/alex/anaconda3/lib/python3.6/site-packages/keras/engine/training.py:1573: UserWarning: Epoch comprised more than `samples_per_epoch` samples, which might affect learning results. Set `samples_per_epoch` correctly to avoid this warning.\n",
      "  warnings.warn('Epoch comprised more than '\n"
     ]
    }
   ],
   "source": [
    "#sgd = SGD(lr=0.001, decay=1e-6, momentum=0.9, nesterov=True)\n",
    "model.compile(loss='categorical_crossentropy', metrics=['accuracy'], optimizer='rmsprop')\n",
    "\n",
    "batch_size=64\n",
    "\n",
    "h = model.fit_generator(\n",
    "    gen,\n",
    "    10000,\n",
    "    nb_epoch=100,\n",
    "    verbose=0)"
   ]
  },
  {
   "cell_type": "code",
   "execution_count": 17,
   "metadata": {
    "collapsed": false
   },
   "outputs": [
    {
     "data": {
      "text/plain": [
       "{'acc': [0.97462181528662417,\n",
       "  0.97551751592356684,\n",
       "  0.98198646496815289,\n",
       "  0.9845740445859873,\n",
       "  0.98726114649681529,\n",
       "  0.98666401273885351,\n",
       "  0.98885350318471332,\n",
       "  0.99094347133757965,\n",
       "  0.9922372611464968,\n",
       "  0.99144108280254772,\n",
       "  0.99144108280254772,\n",
       "  0.98915207006369432,\n",
       "  0.99353105095541405,\n",
       "  0.99253582802547768,\n",
       "  0.99562101910828027,\n",
       "  0.99422770700636942,\n",
       "  0.99591958598726116,\n",
       "  0.9921377388535032,\n",
       "  0.99382961783439494,\n",
       "  0.99522292993630568,\n",
       "  0.99422770700636942,\n",
       "  0.99492436305732479,\n",
       "  0.99591958598726116,\n",
       "  0.99641719745222934,\n",
       "  0.99562101910828027,\n",
       "  0.99572054140127386,\n",
       "  0.99582006369426757,\n",
       "  0.99472531847133761,\n",
       "  0.99432722929936301,\n",
       "  0.99611863057324845,\n",
       "  0.99572054140127386,\n",
       "  0.99591958598726116,\n",
       "  0.99691480891719741,\n",
       "  0.99532245222929938,\n",
       "  0.99631767515923564,\n",
       "  0.99701433121019112,\n",
       "  0.99681528662420382,\n",
       "  0.99522292993630568,\n",
       "  0.99691480891719741,\n",
       "  0.99621815286624205,\n",
       "  0.99611863057324845,\n",
       "  0.99651671974522293,\n",
       "  0.99611863057324845,\n",
       "  0.99751194267515919,\n",
       "  0.99691480891719741,\n",
       "  0.99671576433121023,\n",
       "  0.99691480891719741,\n",
       "  0.99751194267515919,\n",
       "  0.99691480891719741,\n",
       "  0.99751194267515919,\n",
       "  0.99791003184713378,\n",
       "  0.99731289808917201,\n",
       "  0.99591958598726116,\n",
       "  0.99771098726114649,\n",
       "  0.99631767515923564,\n",
       "  0.99711385350318471,\n",
       "  0.99671576433121023,\n",
       "  0.99681528662420382,\n",
       "  0.9972133757961783,\n",
       "  0.99751194267515919,\n",
       "  0.99860668789808915,\n",
       "  0.99731289808917201,\n",
       "  0.9974124203821656,\n",
       "  0.99562101910828027,\n",
       "  0.99830812101910826,\n",
       "  0.99751194267515919,\n",
       "  0.9972133757961783,\n",
       "  0.9974124203821656,\n",
       "  0.99771098726114649,\n",
       "  0.9974124203821656,\n",
       "  0.99671576433121023,\n",
       "  0.99761146496815289,\n",
       "  0.99761146496815289,\n",
       "  0.99761146496815289,\n",
       "  0.99731289808917201,\n",
       "  0.99651671974522293,\n",
       "  0.99771098726114649,\n",
       "  0.99751194267515919,\n",
       "  0.99771098726114649,\n",
       "  0.99751194267515919,\n",
       "  0.99711385350318471,\n",
       "  0.99810907643312097,\n",
       "  0.99621815286624205,\n",
       "  0.99890525477707004,\n",
       "  0.99761146496815289,\n",
       "  0.99810907643312097,\n",
       "  0.99771098726114649,\n",
       "  0.99800955414012738,\n",
       "  0.99651671974522293,\n",
       "  0.99771098726114649,\n",
       "  0.99791003184713378,\n",
       "  0.99810907643312097,\n",
       "  0.99880573248407645,\n",
       "  0.9974124203821656,\n",
       "  0.99751194267515919,\n",
       "  0.99810907643312097,\n",
       "  0.99800955414012738,\n",
       "  0.99681528662420382,\n",
       "  0.99761146496815289,\n",
       "  0.99830812101910826],\n",
       " 'loss': [0.084621803452420957,\n",
       "  0.079960227961752825,\n",
       "  0.058982951485012085,\n",
       "  0.048734709194855418,\n",
       "  0.038830128691165124,\n",
       "  0.046547134350139976,\n",
       "  0.035280953866954609,\n",
       "  0.029454478216921067,\n",
       "  0.024818169742757395,\n",
       "  0.024240145044717165,\n",
       "  0.029937918293126711,\n",
       "  0.035513254959369078,\n",
       "  0.020964003336737466,\n",
       "  0.025997939624320895,\n",
       "  0.015225713725563637,\n",
       "  0.01949543717660597,\n",
       "  0.014340348123809304,\n",
       "  0.027690108845849777,\n",
       "  0.018716152583802811,\n",
       "  0.01471891517641177,\n",
       "  0.019082057761418809,\n",
       "  0.016313738574336541,\n",
       "  0.014923991568614195,\n",
       "  0.012430690671938284,\n",
       "  0.017735413688210515,\n",
       "  0.01457432343084721,\n",
       "  0.012457145119395854,\n",
       "  0.0192478875215106,\n",
       "  0.016167075686237573,\n",
       "  0.016438549503670696,\n",
       "  0.016817386784875515,\n",
       "  0.013983120661022017,\n",
       "  0.011119458330812779,\n",
       "  0.015821080231602721,\n",
       "  0.014050430173280866,\n",
       "  0.012898168474806602,\n",
       "  0.012255262975747087,\n",
       "  0.020993898057408814,\n",
       "  0.010903105872889363,\n",
       "  0.015910052553171093,\n",
       "  0.011958975459944499,\n",
       "  0.01504401285006436,\n",
       "  0.014618326059387253,\n",
       "  0.0099482939962932497,\n",
       "  0.011483963964333472,\n",
       "  0.013194886876126881,\n",
       "  0.011900251843358699,\n",
       "  0.0085275101699813713,\n",
       "  0.010132122232922936,\n",
       "  0.010158886259788887,\n",
       "  0.0092751341975263659,\n",
       "  0.012635182844924261,\n",
       "  0.012608083559466736,\n",
       "  0.0091847019396881918,\n",
       "  0.016713102141409669,\n",
       "  0.010216952989348374,\n",
       "  0.010055783442454226,\n",
       "  0.013103811557696292,\n",
       "  0.010705758706048953,\n",
       "  0.0097796400448390448,\n",
       "  0.0054276594516036282,\n",
       "  0.0092037230547856591,\n",
       "  0.0086182733000687867,\n",
       "  0.017070076688353412,\n",
       "  0.0060481350858350826,\n",
       "  0.011491568070909078,\n",
       "  0.010558621194652503,\n",
       "  0.010666909542251348,\n",
       "  0.0093901602002840444,\n",
       "  0.011066550007013969,\n",
       "  0.013644262736382008,\n",
       "  0.0095373028233767098,\n",
       "  0.0076771807398414516,\n",
       "  0.0083178565140144302,\n",
       "  0.013006960124382268,\n",
       "  0.014140494859947565,\n",
       "  0.0075739975945096627,\n",
       "  0.010191256074904231,\n",
       "  0.0076003639041622717,\n",
       "  0.0079202612250231196,\n",
       "  0.0085095602444603957,\n",
       "  0.0084947325221773028,\n",
       "  0.01532723542230458,\n",
       "  0.0044486947733716146,\n",
       "  0.0092823557505925559,\n",
       "  0.0084296199746668032,\n",
       "  0.0093945929600024302,\n",
       "  0.0074888468684345816,\n",
       "  0.019858922886504361,\n",
       "  0.0098739675038837481,\n",
       "  0.0093444778243746487,\n",
       "  0.0077187074252051506,\n",
       "  0.0052718952905602559,\n",
       "  0.0098043094306950098,\n",
       "  0.009649772397913774,\n",
       "  0.0061643025202466808,\n",
       "  0.0081410209335977916,\n",
       "  0.012235082647713884,\n",
       "  0.0099785324072034862,\n",
       "  0.0072397250414666181]}"
      ]
     },
     "execution_count": 17,
     "metadata": {},
     "output_type": "execute_result"
    }
   ],
   "source": [
    "h.history"
   ]
  },
  {
   "cell_type": "code",
   "execution_count": 19,
   "metadata": {
    "collapsed": true
   },
   "outputs": [],
   "source": [
    "from pylab import *\n",
    "%matplotlib inline"
   ]
  },
  {
   "cell_type": "code",
   "execution_count": 20,
   "metadata": {
    "collapsed": false
   },
   "outputs": [
    {
     "data": {
      "text/plain": [
       "[<matplotlib.lines.Line2D at 0x7fcd05ffc2b0>]"
      ]
     },
     "execution_count": 20,
     "metadata": {},
     "output_type": "execute_result"
    },
    {
     "data": {
      "image/png": "[encoded data removed]",
      "text/plain": [
       "<matplotlib.figure.Figure at 0x7fcd062940b8>"
      ]
     },
     "metadata": {},
     "output_type": "display_data"
    }
   ],
   "source": [
    "plot(h.history[\"acc\"])"
   ]
  },
  {
   "cell_type": "code",
   "execution_count": 100,
   "metadata": {
    "collapsed": false
   },
   "outputs": [
    {
     "data": {
      "text/plain": [
       "[<matplotlib.lines.Line2D at 0x7fccfef1a0f0>]"
      ]
     },
     "execution_count": 100,
     "metadata": {},
     "output_type": "execute_result"
    },
    {
     "data": {
      "image/png": "[encoded data removed]",
      "text/plain": [
       "<matplotlib.figure.Figure at 0x7fccfefa22b0>"
      ]
     },
     "metadata": {},
     "output_type": "display_data"
    }
   ],
   "source": [
    "plot(h.history[\"loss\"])"
   ]
  },
  {
   "cell_type": "code",
   "execution_count": 23,
   "metadata": {
    "collapsed": false
   },
   "outputs": [],
   "source": [
    "import data"
   ]
  },
  {
   "cell_type": "code",
   "execution_count": 24,
   "metadata": {
    "collapsed": true
   },
   "outputs": [],
   "source": [
    "pid = data.luna16_get_patient_ids()[0]"
   ]
  },
  {
   "cell_type": "code",
   "execution_count": 25,
   "metadata": {
    "collapsed": true
   },
   "outputs": [],
   "source": [
    "image = data.luna16_get_image(pid)"
   ]
  },
  {
   "cell_type": "code",
   "execution_count": 26,
   "metadata": {
    "collapsed": true
   },
   "outputs": [],
   "source": [
    "def preprocess(image):\n",
    "    return (image - X_mean) / X_std"
   ]
  },
  {
   "cell_type": "code",
   "execution_count": 7,
   "metadata": {
    "collapsed": true
   },
   "outputs": [],
   "source": [
    "def preprocess2(image):\n",
    "    image = np.clip(image, -1000, 100).astype(np.float32)\n",
    "    return (image - np.mean(image)) / np.std(image)"
   ]
  },
  {
   "cell_type": "code",
   "execution_count": 21,
   "metadata": {
    "collapsed": false
   },
   "outputs": [],
   "source": [
    "model.save_weights('tmp.h5')"
   ]
  },
  {
   "cell_type": "code",
   "execution_count": 27,
   "metadata": {
    "collapsed": false
   },
   "outputs": [],
   "source": [
    "model2 = model3d((64,64,64), do_features=True)"
   ]
  },
  {
   "cell_type": "code",
   "execution_count": 28,
   "metadata": {
    "collapsed": false
   },
   "outputs": [],
   "source": [
    "# NOTE loading by_name=True fails, because the auto-generated layer names are counting up in keras for each layer class globally\n",
    "# NOTE on the other hand plain loading works, since the missing top two layers don't have weights\n",
    "model2.load_weights('tmp.h5')"
   ]
  },
  {
   "cell_type": "code",
   "execution_count": 29,
   "metadata": {
    "collapsed": false
   },
   "outputs": [
    {
     "name": "stdout",
     "output_type": "stream",
     "text": [
      "____________________________________________________________________________________________________\n",
      "Layer (type)                     Output Shape          Param #     Connected to                     \n",
      "====================================================================================================\n",
      "input_2 (InputLayer)             (None, 64, 64, 64, 1) 0                                            \n",
      "____________________________________________________________________________________________________\n",
      "convolution3d_11 (Convolution3D) (None, 62, 62, 62, 48 1344        input_2[0][0]                    \n",
      "____________________________________________________________________________________________________\n",
      "batchnormalization_10 (BatchNorm (None, 62, 62, 62, 48 192         convolution3d_11[0][0]           \n",
      "____________________________________________________________________________________________________\n",
      "convolution3d_12 (Convolution3D) (None, 60, 60, 60, 72 93384       batchnormalization_10[0][0]      \n",
      "____________________________________________________________________________________________________\n",
      "batchnormalization_11 (BatchNorm (None, 60, 60, 60, 72 288         convolution3d_12[0][0]           \n",
      "____________________________________________________________________________________________________\n",
      "convolution3d_13 (Convolution3D) (None, 58, 58, 58, 72 140040      batchnormalization_11[0][0]      \n",
      "____________________________________________________________________________________________________\n",
      "batchnormalization_12 (BatchNorm (None, 58, 58, 58, 72 288         convolution3d_13[0][0]           \n",
      "____________________________________________________________________________________________________\n",
      "convolution3d_14 (Convolution3D) (None, 56, 56, 56, 10 210060      batchnormalization_12[0][0]      \n",
      "____________________________________________________________________________________________________\n",
      "batchnormalization_13 (BatchNorm (None, 56, 56, 56, 10 432         convolution3d_14[0][0]           \n",
      "____________________________________________________________________________________________________\n",
      "convolution3d_15 (Convolution3D) (None, 54, 54, 54, 10 315036      batchnormalization_13[0][0]      \n",
      "____________________________________________________________________________________________________\n",
      "batchnormalization_14 (BatchNorm (None, 54, 54, 54, 10 432         convolution3d_15[0][0]           \n",
      "____________________________________________________________________________________________________\n",
      "convolution3d_16 (Convolution3D) (None, 52, 52, 52, 16 472554      batchnormalization_14[0][0]      \n",
      "____________________________________________________________________________________________________\n",
      "batchnormalization_15 (BatchNorm (None, 52, 52, 52, 16 648         convolution3d_16[0][0]           \n",
      "____________________________________________________________________________________________________\n",
      "convolution3d_17 (Convolution3D) (None, 50, 50, 50, 16 708750      batchnormalization_15[0][0]      \n",
      "____________________________________________________________________________________________________\n",
      "batchnormalization_16 (BatchNorm (None, 50, 50, 50, 16 648         convolution3d_17[0][0]           \n",
      "____________________________________________________________________________________________________\n",
      "convolution3d_18 (Convolution3D) (None, 49, 49, 49, 24 315171      batchnormalization_16[0][0]      \n",
      "____________________________________________________________________________________________________\n",
      "batchnormalization_17 (BatchNorm (None, 49, 49, 49, 24 972         convolution3d_18[0][0]           \n",
      "____________________________________________________________________________________________________\n",
      "convolution3d_19 (Convolution3D) (None, 49, 49, 49, 24 59292       batchnormalization_17[0][0]      \n",
      "____________________________________________________________________________________________________\n",
      "batchnormalization_18 (BatchNorm (None, 49, 49, 49, 24 972         convolution3d_19[0][0]           \n",
      "____________________________________________________________________________________________________\n",
      "convolution3d_20 (Convolution3D) (None, 49, 49, 49, 2) 488         batchnormalization_18[0][0]      \n",
      "====================================================================================================\n",
      "Total params: 2,320,991\n",
      "Trainable params: 2,318,555\n",
      "Non-trainable params: 2,436\n",
      "____________________________________________________________________________________________________\n"
     ]
    }
   ],
   "source": [
    "model2.summary()"
   ]
  },
  {
   "cell_type": "code",
   "execution_count": 33,
   "metadata": {
    "collapsed": true
   },
   "outputs": [],
   "source": [
    "def softmax(x):\n",
    "    return np.exp(x - np.max(x)) / np.sum(np.exp(x - np.max(x)))"
   ]
  },
  {
   "cell_type": "code",
   "execution_count": 50,
   "metadata": {
    "collapsed": true
   },
   "outputs": [],
   "source": [
    "#pid = data.luna16_get_patient_ids()[0]\n",
    "pid = df_nodes.iloc[0][\"pid\"]"
   ]
  },
  {
   "cell_type": "code",
   "execution_count": 52,
   "metadata": {
    "collapsed": false
   },
   "outputs": [],
   "source": [
    "image = data.luna16_get_image(pid)\n",
    "image = preprocess(image)"
   ]
  },
  {
   "cell_type": "code",
   "execution_count": 53,
   "metadata": {
    "collapsed": false
   },
   "outputs": [],
   "source": [
    "import scipy.ndimage.interpolation\n",
    "image_h = scipy.ndimage.interpolation.zoom(image, (0.5, 0.5, 0.5), order=1)"
   ]
  },
  {
   "cell_type": "code",
   "execution_count": 54,
   "metadata": {
    "collapsed": false
   },
   "outputs": [
    {
     "data": {
      "text/plain": [
       "(160, 142, 142)"
      ]
     },
     "execution_count": 54,
     "metadata": {},
     "output_type": "execute_result"
    }
   ],
   "source": [
    "image_h.shape"
   ]
  },
  {
   "cell_type": "code",
   "execution_count": 55,
   "metadata": {
    "collapsed": false
   },
   "outputs": [],
   "source": [
    "def softmax_activations(x):\n",
    "    r = x.reshape((-1,2))\n",
    "    r_max = np.max(r, axis=-1)\n",
    "    r_max = r_max[...,None]\n",
    "    r_sum = np.sum(np.exp(r - r_max), axis=-1)\n",
    "    r_sum = r_sum[...,None]\n",
    "    p = np.exp(r - r_max) / r_sum\n",
    "    p = p.reshape(x.shape)\n",
    "    return p"
   ]
  },
  {
   "cell_type": "code",
   "execution_count": 81,
   "metadata": {
    "collapsed": false
   },
   "outputs": [],
   "source": [
    "def make_full_result(image):\n",
    "    full_result = np.zeros((image.shape[0]+64, image.shape[1]+64, image.shape[2]+64, 2))\n",
    "    s = 49\n",
    "    d = 64\n",
    "    for i in range(0, int(np.ceil(image.shape[0]/s))):\n",
    "        for j in range(0, int(np.ceil(image.shape[1]/s))):\n",
    "            for k in range(0, int(np.ceil(image.shape[2]/s))):\n",
    "                input_ = image[i*s:i*s+d,j*s:j*s+d,k*s:k*s+d]\n",
    "                if input_.shape != (d,d,d):\n",
    "                    input_ = np.pad(input_, ((0, d-input_.shape[0]), (0, d-input_.shape[1]), (0, d-input_.shape[2])), 'constant')\n",
    "                result = model2.predict(input_.reshape((1,d,d,d,1)), batch_size=1)\n",
    "                full_result[i*s:(i+1)*s, j*s:(j+1)*s, k*s:(k+1)*s,:] = result\n",
    "    return full_result"
   ]
  },
  {
   "cell_type": "code",
   "execution_count": 82,
   "metadata": {
    "collapsed": false
   },
   "outputs": [],
   "source": [
    "full_result = make_full_result(image_h)"
   ]
  },
  {
   "cell_type": "code",
   "execution_count": 83,
   "metadata": {
    "collapsed": false
   },
   "outputs": [],
   "source": [
    "full_result_p = softmax_activations(full_result)"
   ]
  },
  {
   "cell_type": "code",
   "execution_count": 27,
   "metadata": {
    "collapsed": true
   },
   "outputs": [],
   "source": [
    "from pylab import *\n",
    "%matplotlib inline"
   ]
  },
  {
   "cell_type": "code",
   "execution_count": 99,
   "metadata": {
    "collapsed": false
   },
   "outputs": [
    {
     "data": {
      "text/plain": [
       "<matplotlib.colorbar.Colorbar at 0x7fccfefdeb00>"
      ]
     },
     "execution_count": 99,
     "metadata": {},
     "output_type": "execute_result"
    },
    {
     "data": {
      "image/png": "[encoded data removed]",
      "text/plain": [
       "<matplotlib.figure.Figure at 0x7fccff0f4cc0>"
      ]
     },
     "metadata": {},
     "output_type": "display_data"
    }
   ],
   "source": [
    "figure(figsize=(10,10))\n",
    "imshow(full_result_p[65,:,:,1], vmax=0.01)\n",
    "colorbar()"
   ]
  },
  {
   "cell_type": "code",
   "execution_count": 94,
   "metadata": {
    "collapsed": false
   },
   "outputs": [
    {
     "data": {
      "text/plain": [
       "<matplotlib.colorbar.Colorbar at 0x7fccff5a7e80>"
      ]
     },
     "execution_count": 94,
     "metadata": {},
     "output_type": "execute_result"
    },
    {
     "data": {
      "image/png": "[encoded data removed]",
      "text/plain": [
       "<matplotlib.figure.Figure at 0x7fccff6be6a0>"
      ]
     },
     "metadata": {},
     "output_type": "display_data"
    }
   ],
   "source": [
    "figure(figsize=(10,10))\n",
    "imshow(np.log(full_result_p[65,:,:,1]), vmax=-1, vmin=-15)\n",
    "colorbar()"
   ]
  },
  {
   "cell_type": "code",
   "execution_count": 62,
   "metadata": {
    "collapsed": false
   },
   "outputs": [
    {
     "data": {
      "text/plain": [
       "<matplotlib.colorbar.Colorbar at 0x7fccfc9d5c88>"
      ]
     },
     "execution_count": 62,
     "metadata": {},
     "output_type": "execute_result"
    },
    {
     "data": {
      "image/png": "[encoded data removed]",
      "text/plain": [
       "<matplotlib.figure.Figure at 0x7fccfcae6be0>"
      ]
     },
     "metadata": {},
     "output_type": "display_data"
    }
   ],
   "source": [
    "figure(figsize=(10,10))\n",
    "imshow(image_h[65+8])\n",
    "colorbar()"
   ]
  },
  {
   "cell_type": "code",
   "execution_count": null,
   "metadata": {
    "collapsed": true
   },
   "outputs": [],
   "source": [
    "patient_ids = data.luna16_get_patient_ids()\n",
    "pid = [ x for x in patient_ids if in '5b41250' ][0]"
   ]
  },
  {
   "cell_type": "code",
   "execution_count": 59,
   "metadata": {
    "collapsed": true
   },
   "outputs": [],
   "source": [
    "image = np.load('5b412509bc40a3aeb3b5efef1fdfcfc9.npy', mmap_mode='r')\n",
    "image = preprocess(image)"
   ]
  },
  {
   "cell_type": "code",
   "execution_count": 58,
   "metadata": {
    "collapsed": false
   },
   "outputs": [
    {
     "data": {
      "text/plain": [
       "(302, 360, 360)"
      ]
     },
     "execution_count": 58,
     "metadata": {},
     "output_type": "execute_result"
    }
   ],
   "source": [
    "image.shape"
   ]
  },
  {
   "cell_type": "code",
   "execution_count": 34,
   "metadata": {
    "collapsed": false
   },
   "outputs": [
    {
     "data": {
      "image/png": "[encoded data removed]",
      "text/plain": [
       "<matplotlib.figure.Figure at 0x7f8cbd2429e8>"
      ]
     },
     "metadata": {},
     "output_type": "display_data"
    }
   ],
   "source": [
    "h = hist(image_h.ravel(), bins=100)"
   ]
  },
  {
   "cell_type": "code",
   "execution_count": 35,
   "metadata": {
    "collapsed": false
   },
   "outputs": [
    {
     "data": {
      "text/plain": [
       "12"
      ]
     },
     "execution_count": 35,
     "metadata": {},
     "output_type": "execute_result"
    }
   ],
   "source": [
    "128 // 10"
   ]
  },
  {
   "cell_type": "code",
   "execution_count": 39,
   "metadata": {
    "collapsed": false
   },
   "outputs": [
    {
     "data": {
      "text/html": [
       "<div>\n",
       "<table border=\"1\" class=\"dataframe\">\n",
       "  <thead>\n",
       "    <tr style=\"text-align: right;\">\n",
       "      <th></th>\n",
       "      <th>seriesuid</th>\n",
       "      <th>coordX</th>\n",
       "      <th>coordY</th>\n",
       "      <th>coordZ</th>\n",
       "      <th>diameter_mm</th>\n",
       "      <th>pid</th>\n",
       "    </tr>\n",
       "  </thead>\n",
       "  <tbody>\n",
       "    <tr>\n",
       "      <th>4</th>\n",
       "      <td>1.3.6.1.4.1.14519.5.2.1.6279.6001.100621383016...</td>\n",
       "      <td>2.441547</td>\n",
       "      <td>172.464881</td>\n",
       "      <td>-405.493732</td>\n",
       "      <td>18.545150</td>\n",
       "      <td>1.3.6.1.4.1.14519.5.2.1.6279.6001.100621383016...</td>\n",
       "    </tr>\n",
       "    <tr>\n",
       "      <th>5</th>\n",
       "      <td>1.3.6.1.4.1.14519.5.2.1.6279.6001.100621383016...</td>\n",
       "      <td>90.931713</td>\n",
       "      <td>149.027266</td>\n",
       "      <td>-426.544715</td>\n",
       "      <td>18.208570</td>\n",
       "      <td>1.3.6.1.4.1.14519.5.2.1.6279.6001.100621383016...</td>\n",
       "    </tr>\n",
       "    <tr>\n",
       "      <th>6</th>\n",
       "      <td>1.3.6.1.4.1.14519.5.2.1.6279.6001.100621383016...</td>\n",
       "      <td>89.540769</td>\n",
       "      <td>196.405159</td>\n",
       "      <td>-515.073322</td>\n",
       "      <td>16.381276</td>\n",
       "      <td>1.3.6.1.4.1.14519.5.2.1.6279.6001.100621383016...</td>\n",
       "    </tr>\n",
       "    <tr>\n",
       "      <th>7</th>\n",
       "      <td>1.3.6.1.4.1.14519.5.2.1.6279.6001.100953483028...</td>\n",
       "      <td>81.509646</td>\n",
       "      <td>54.957219</td>\n",
       "      <td>-150.346423</td>\n",
       "      <td>10.362321</td>\n",
       "      <td>1.3.6.1.4.1.14519.5.2.1.6279.6001.100953483028...</td>\n",
       "    </tr>\n",
       "    <tr>\n",
       "      <th>8</th>\n",
       "      <td>1.3.6.1.4.1.14519.5.2.1.6279.6001.102681962408...</td>\n",
       "      <td>105.055792</td>\n",
       "      <td>19.825260</td>\n",
       "      <td>-91.247251</td>\n",
       "      <td>21.089619</td>\n",
       "      <td>1.3.6.1.4.1.14519.5.2.1.6279.6001.102681962408...</td>\n",
       "    </tr>\n",
       "    <tr>\n",
       "      <th>9</th>\n",
       "      <td>1.3.6.1.4.1.14519.5.2.1.6279.6001.104562737760...</td>\n",
       "      <td>-124.834262</td>\n",
       "      <td>127.247155</td>\n",
       "      <td>-473.064479</td>\n",
       "      <td>10.465854</td>\n",
       "      <td>1.3.6.1.4.1.14519.5.2.1.6279.6001.104562737760...</td>\n",
       "    </tr>\n",
       "    <tr>\n",
       "      <th>15</th>\n",
       "      <td>1.3.6.1.4.1.14519.5.2.1.6279.6001.106719103982...</td>\n",
       "      <td>-57.087180</td>\n",
       "      <td>74.259266</td>\n",
       "      <td>1790.494057</td>\n",
       "      <td>13.693566</td>\n",
       "      <td>1.3.6.1.4.1.14519.5.2.1.6279.6001.106719103982...</td>\n",
       "    </tr>\n",
       "    <tr>\n",
       "      <th>16</th>\n",
       "      <td>1.3.6.1.4.1.14519.5.2.1.6279.6001.107109359065...</td>\n",
       "      <td>-98.135977</td>\n",
       "      <td>-72.867792</td>\n",
       "      <td>-221.822772</td>\n",
       "      <td>18.127908</td>\n",
       "      <td>1.3.6.1.4.1.14519.5.2.1.6279.6001.107109359065...</td>\n",
       "    </tr>\n",
       "    <tr>\n",
       "      <th>25</th>\n",
       "      <td>1.3.6.1.4.1.14519.5.2.1.6279.6001.109002525524...</td>\n",
       "      <td>46.188539</td>\n",
       "      <td>48.402806</td>\n",
       "      <td>-108.578632</td>\n",
       "      <td>13.596471</td>\n",
       "      <td>1.3.6.1.4.1.14519.5.2.1.6279.6001.109002525524...</td>\n",
       "    </tr>\n",
       "    <tr>\n",
       "      <th>27</th>\n",
       "      <td>1.3.6.1.4.1.14519.5.2.1.6279.6001.110678335949...</td>\n",
       "      <td>-38.096020</td>\n",
       "      <td>-106.705434</td>\n",
       "      <td>-139.548467</td>\n",
       "      <td>13.683746</td>\n",
       "      <td>1.3.6.1.4.1.14519.5.2.1.6279.6001.110678335949...</td>\n",
       "    </tr>\n",
       "    <tr>\n",
       "      <th>34</th>\n",
       "      <td>1.3.6.1.4.1.14519.5.2.1.6279.6001.112740418331...</td>\n",
       "      <td>47.671057</td>\n",
       "      <td>37.642520</td>\n",
       "      <td>-99.890394</td>\n",
       "      <td>30.610406</td>\n",
       "      <td>1.3.6.1.4.1.14519.5.2.1.6279.6001.112740418331...</td>\n",
       "    </tr>\n",
       "    <tr>\n",
       "      <th>35</th>\n",
       "      <td>1.3.6.1.4.1.14519.5.2.1.6279.6001.112740418331...</td>\n",
       "      <td>-60.764136</td>\n",
       "      <td>-66.435170</td>\n",
       "      <td>-100.205037</td>\n",
       "      <td>16.882905</td>\n",
       "      <td>1.3.6.1.4.1.14519.5.2.1.6279.6001.112740418331...</td>\n",
       "    </tr>\n",
       "    <tr>\n",
       "      <th>56</th>\n",
       "      <td>1.3.6.1.4.1.14519.5.2.1.6279.6001.115386642382...</td>\n",
       "      <td>86.402873</td>\n",
       "      <td>50.875109</td>\n",
       "      <td>-81.386882</td>\n",
       "      <td>12.733581</td>\n",
       "      <td>1.3.6.1.4.1.14519.5.2.1.6279.6001.115386642382...</td>\n",
       "    </tr>\n",
       "    <tr>\n",
       "      <th>60</th>\n",
       "      <td>1.3.6.1.4.1.14519.5.2.1.6279.6001.117040183261...</td>\n",
       "      <td>55.714466</td>\n",
       "      <td>190.760397</td>\n",
       "      <td>-579.654296</td>\n",
       "      <td>10.888738</td>\n",
       "      <td>1.3.6.1.4.1.14519.5.2.1.6279.6001.117040183261...</td>\n",
       "    </tr>\n",
       "    <tr>\n",
       "      <th>62</th>\n",
       "      <td>1.3.6.1.4.1.14519.5.2.1.6279.6001.118140393257...</td>\n",
       "      <td>-63.097606</td>\n",
       "      <td>-56.555032</td>\n",
       "      <td>-332.977834</td>\n",
       "      <td>10.333188</td>\n",
       "      <td>1.3.6.1.4.1.14519.5.2.1.6279.6001.118140393257...</td>\n",
       "    </tr>\n",
       "    <tr>\n",
       "      <th>67</th>\n",
       "      <td>1.3.6.1.4.1.14519.5.2.1.6279.6001.119304665257...</td>\n",
       "      <td>-117.722135</td>\n",
       "      <td>160.494125</td>\n",
       "      <td>-688.285165</td>\n",
       "      <td>15.343154</td>\n",
       "      <td>1.3.6.1.4.1.14519.5.2.1.6279.6001.119304665257...</td>\n",
       "    </tr>\n",
       "    <tr>\n",
       "      <th>71</th>\n",
       "      <td>1.3.6.1.4.1.14519.5.2.1.6279.6001.121391737347...</td>\n",
       "      <td>49.312936</td>\n",
       "      <td>-63.215210</td>\n",
       "      <td>-118.799562</td>\n",
       "      <td>22.133220</td>\n",
       "      <td>1.3.6.1.4.1.14519.5.2.1.6279.6001.121391737347...</td>\n",
       "    </tr>\n",
       "    <tr>\n",
       "      <th>74</th>\n",
       "      <td>1.3.6.1.4.1.14519.5.2.1.6279.6001.121993590721...</td>\n",
       "      <td>-94.292468</td>\n",
       "      <td>60.225615</td>\n",
       "      <td>-261.212776</td>\n",
       "      <td>14.198331</td>\n",
       "      <td>1.3.6.1.4.1.14519.5.2.1.6279.6001.121993590721...</td>\n",
       "    </tr>\n",
       "    <tr>\n",
       "      <th>75</th>\n",
       "      <td>1.3.6.1.4.1.14519.5.2.1.6279.6001.121993590721...</td>\n",
       "      <td>-54.617632</td>\n",
       "      <td>59.352387</td>\n",
       "      <td>-236.074781</td>\n",
       "      <td>13.932326</td>\n",
       "      <td>1.3.6.1.4.1.14519.5.2.1.6279.6001.121993590721...</td>\n",
       "    </tr>\n",
       "    <tr>\n",
       "      <th>76</th>\n",
       "      <td>1.3.6.1.4.1.14519.5.2.1.6279.6001.122621219961...</td>\n",
       "      <td>-58.386356</td>\n",
       "      <td>0.082105</td>\n",
       "      <td>-247.767961</td>\n",
       "      <td>14.163963</td>\n",
       "      <td>1.3.6.1.4.1.14519.5.2.1.6279.6001.122621219961...</td>\n",
       "    </tr>\n",
       "    <tr>\n",
       "      <th>85</th>\n",
       "      <td>1.3.6.1.4.1.14519.5.2.1.6279.6001.123697637451...</td>\n",
       "      <td>-129.054725</td>\n",
       "      <td>-12.238555</td>\n",
       "      <td>-79.497885</td>\n",
       "      <td>21.827953</td>\n",
       "      <td>1.3.6.1.4.1.14519.5.2.1.6279.6001.123697637451...</td>\n",
       "    </tr>\n",
       "    <tr>\n",
       "      <th>88</th>\n",
       "      <td>1.3.6.1.4.1.14519.5.2.1.6279.6001.124663713663...</td>\n",
       "      <td>78.939809</td>\n",
       "      <td>15.800574</td>\n",
       "      <td>-95.356233</td>\n",
       "      <td>14.952799</td>\n",
       "      <td>1.3.6.1.4.1.14519.5.2.1.6279.6001.124663713663...</td>\n",
       "    </tr>\n",
       "    <tr>\n",
       "      <th>97</th>\n",
       "      <td>1.3.6.1.4.1.14519.5.2.1.6279.6001.125124219978...</td>\n",
       "      <td>-70.165274</td>\n",
       "      <td>-144.937975</td>\n",
       "      <td>-86.549477</td>\n",
       "      <td>10.967380</td>\n",
       "      <td>1.3.6.1.4.1.14519.5.2.1.6279.6001.125124219978...</td>\n",
       "    </tr>\n",
       "    <tr>\n",
       "      <th>100</th>\n",
       "      <td>1.3.6.1.4.1.14519.5.2.1.6279.6001.126631670596...</td>\n",
       "      <td>-96.960220</td>\n",
       "      <td>48.935850</td>\n",
       "      <td>-68.038429</td>\n",
       "      <td>16.977557</td>\n",
       "      <td>1.3.6.1.4.1.14519.5.2.1.6279.6001.126631670596...</td>\n",
       "    </tr>\n",
       "    <tr>\n",
       "      <th>103</th>\n",
       "      <td>1.3.6.1.4.1.14519.5.2.1.6279.6001.128023902651...</td>\n",
       "      <td>33.832826</td>\n",
       "      <td>88.411590</td>\n",
       "      <td>-101.780481</td>\n",
       "      <td>10.462608</td>\n",
       "      <td>1.3.6.1.4.1.14519.5.2.1.6279.6001.128023902651...</td>\n",
       "    </tr>\n",
       "    <tr>\n",
       "      <th>106</th>\n",
       "      <td>1.3.6.1.4.1.14519.5.2.1.6279.6001.128881800399...</td>\n",
       "      <td>-99.858522</td>\n",
       "      <td>37.434051</td>\n",
       "      <td>-170.456609</td>\n",
       "      <td>12.319236</td>\n",
       "      <td>1.3.6.1.4.1.14519.5.2.1.6279.6001.128881800399...</td>\n",
       "    </tr>\n",
       "    <tr>\n",
       "      <th>107</th>\n",
       "      <td>1.3.6.1.4.1.14519.5.2.1.6279.6001.128881800399...</td>\n",
       "      <td>-78.667136</td>\n",
       "      <td>66.422159</td>\n",
       "      <td>-168.871678</td>\n",
       "      <td>13.025142</td>\n",
       "      <td>1.3.6.1.4.1.14519.5.2.1.6279.6001.128881800399...</td>\n",
       "    </tr>\n",
       "    <tr>\n",
       "      <th>120</th>\n",
       "      <td>1.3.6.1.4.1.14519.5.2.1.6279.6001.131939324905...</td>\n",
       "      <td>-91.919366</td>\n",
       "      <td>87.003927</td>\n",
       "      <td>1453.777585</td>\n",
       "      <td>14.439679</td>\n",
       "      <td>1.3.6.1.4.1.14519.5.2.1.6279.6001.131939324905...</td>\n",
       "    </tr>\n",
       "    <tr>\n",
       "      <th>123</th>\n",
       "      <td>1.3.6.1.4.1.14519.5.2.1.6279.6001.133378195429...</td>\n",
       "      <td>-33.325849</td>\n",
       "      <td>50.440597</td>\n",
       "      <td>-253.802972</td>\n",
       "      <td>11.344799</td>\n",
       "      <td>1.3.6.1.4.1.14519.5.2.1.6279.6001.133378195429...</td>\n",
       "    </tr>\n",
       "    <tr>\n",
       "      <th>124</th>\n",
       "      <td>1.3.6.1.4.1.14519.5.2.1.6279.6001.133378195429...</td>\n",
       "      <td>-57.185923</td>\n",
       "      <td>78.725139</td>\n",
       "      <td>-133.624139</td>\n",
       "      <td>13.651818</td>\n",
       "      <td>1.3.6.1.4.1.14519.5.2.1.6279.6001.133378195429...</td>\n",
       "    </tr>\n",
       "    <tr>\n",
       "      <th>...</th>\n",
       "      <td>...</td>\n",
       "      <td>...</td>\n",
       "      <td>...</td>\n",
       "      <td>...</td>\n",
       "      <td>...</td>\n",
       "      <td>...</td>\n",
       "    </tr>\n",
       "    <tr>\n",
       "      <th>1084</th>\n",
       "      <td>1.3.6.1.4.1.14519.5.2.1.6279.6001.752756872840...</td>\n",
       "      <td>56.393154</td>\n",
       "      <td>67.680087</td>\n",
       "      <td>-64.674453</td>\n",
       "      <td>19.653877</td>\n",
       "      <td>1.3.6.1.4.1.14519.5.2.1.6279.6001.752756872840...</td>\n",
       "    </tr>\n",
       "    <tr>\n",
       "      <th>1088</th>\n",
       "      <td>1.3.6.1.4.1.14519.5.2.1.6279.6001.765930210026...</td>\n",
       "      <td>-68.685367</td>\n",
       "      <td>206.197529</td>\n",
       "      <td>-685.874003</td>\n",
       "      <td>17.156135</td>\n",
       "      <td>1.3.6.1.4.1.14519.5.2.1.6279.6001.765930210026...</td>\n",
       "    </tr>\n",
       "    <tr>\n",
       "      <th>1092</th>\n",
       "      <td>1.3.6.1.4.1.14519.5.2.1.6279.6001.771831598853...</td>\n",
       "      <td>37.946228</td>\n",
       "      <td>32.755750</td>\n",
       "      <td>-37.169497</td>\n",
       "      <td>17.141662</td>\n",
       "      <td>1.3.6.1.4.1.14519.5.2.1.6279.6001.771831598853...</td>\n",
       "    </tr>\n",
       "    <tr>\n",
       "      <th>1096</th>\n",
       "      <td>1.3.6.1.4.1.14519.5.2.1.6279.6001.779493719385...</td>\n",
       "      <td>-71.666421</td>\n",
       "      <td>-60.408901</td>\n",
       "      <td>-135.732601</td>\n",
       "      <td>13.050979</td>\n",
       "      <td>1.3.6.1.4.1.14519.5.2.1.6279.6001.779493719385...</td>\n",
       "    </tr>\n",
       "    <tr>\n",
       "      <th>1097</th>\n",
       "      <td>1.3.6.1.4.1.14519.5.2.1.6279.6001.779493719385...</td>\n",
       "      <td>92.053871</td>\n",
       "      <td>-11.909295</td>\n",
       "      <td>-96.798515</td>\n",
       "      <td>12.973155</td>\n",
       "      <td>1.3.6.1.4.1.14519.5.2.1.6279.6001.779493719385...</td>\n",
       "    </tr>\n",
       "    <tr>\n",
       "      <th>1098</th>\n",
       "      <td>1.3.6.1.4.1.14519.5.2.1.6279.6001.780558315515...</td>\n",
       "      <td>-107.320153</td>\n",
       "      <td>-96.369956</td>\n",
       "      <td>-211.971240</td>\n",
       "      <td>15.353919</td>\n",
       "      <td>1.3.6.1.4.1.14519.5.2.1.6279.6001.780558315515...</td>\n",
       "    </tr>\n",
       "    <tr>\n",
       "      <th>1099</th>\n",
       "      <td>1.3.6.1.4.1.14519.5.2.1.6279.6001.792381786708...</td>\n",
       "      <td>98.702480</td>\n",
       "      <td>160.553193</td>\n",
       "      <td>-418.737811</td>\n",
       "      <td>13.343404</td>\n",
       "      <td>1.3.6.1.4.1.14519.5.2.1.6279.6001.792381786708...</td>\n",
       "    </tr>\n",
       "    <tr>\n",
       "      <th>1103</th>\n",
       "      <td>1.3.6.1.4.1.14519.5.2.1.6279.6001.801945620899...</td>\n",
       "      <td>-75.742638</td>\n",
       "      <td>37.460976</td>\n",
       "      <td>-158.687537</td>\n",
       "      <td>17.232079</td>\n",
       "      <td>1.3.6.1.4.1.14519.5.2.1.6279.6001.801945620899...</td>\n",
       "    </tr>\n",
       "    <tr>\n",
       "      <th>1106</th>\n",
       "      <td>1.3.6.1.4.1.14519.5.2.1.6279.6001.805925269324...</td>\n",
       "      <td>-66.693135</td>\n",
       "      <td>97.045220</td>\n",
       "      <td>-267.309005</td>\n",
       "      <td>17.336250</td>\n",
       "      <td>1.3.6.1.4.1.14519.5.2.1.6279.6001.805925269324...</td>\n",
       "    </tr>\n",
       "    <tr>\n",
       "      <th>1111</th>\n",
       "      <td>1.3.6.1.4.1.14519.5.2.1.6279.6001.826829446346...</td>\n",
       "      <td>45.605566</td>\n",
       "      <td>-33.228936</td>\n",
       "      <td>-141.745830</td>\n",
       "      <td>12.032759</td>\n",
       "      <td>1.3.6.1.4.1.14519.5.2.1.6279.6001.826829446346...</td>\n",
       "    </tr>\n",
       "    <tr>\n",
       "      <th>1112</th>\n",
       "      <td>1.3.6.1.4.1.14519.5.2.1.6279.6001.826829446346...</td>\n",
       "      <td>56.740743</td>\n",
       "      <td>-38.923208</td>\n",
       "      <td>-214.436647</td>\n",
       "      <td>17.603976</td>\n",
       "      <td>1.3.6.1.4.1.14519.5.2.1.6279.6001.826829446346...</td>\n",
       "    </tr>\n",
       "    <tr>\n",
       "      <th>1114</th>\n",
       "      <td>1.3.6.1.4.1.14519.5.2.1.6279.6001.826829446346...</td>\n",
       "      <td>23.622861</td>\n",
       "      <td>78.542013</td>\n",
       "      <td>-240.774121</td>\n",
       "      <td>11.884224</td>\n",
       "      <td>1.3.6.1.4.1.14519.5.2.1.6279.6001.826829446346...</td>\n",
       "    </tr>\n",
       "    <tr>\n",
       "      <th>1120</th>\n",
       "      <td>1.3.6.1.4.1.14519.5.2.1.6279.6001.850739282072...</td>\n",
       "      <td>-47.537263</td>\n",
       "      <td>-35.796815</td>\n",
       "      <td>-137.332547</td>\n",
       "      <td>13.641520</td>\n",
       "      <td>1.3.6.1.4.1.14519.5.2.1.6279.6001.850739282072...</td>\n",
       "    </tr>\n",
       "    <tr>\n",
       "      <th>1128</th>\n",
       "      <td>1.3.6.1.4.1.14519.5.2.1.6279.6001.882070241245...</td>\n",
       "      <td>132.719044</td>\n",
       "      <td>16.664718</td>\n",
       "      <td>-130.308718</td>\n",
       "      <td>10.438279</td>\n",
       "      <td>1.3.6.1.4.1.14519.5.2.1.6279.6001.882070241245...</td>\n",
       "    </tr>\n",
       "    <tr>\n",
       "      <th>1130</th>\n",
       "      <td>1.3.6.1.4.1.14519.5.2.1.6279.6001.882070241245...</td>\n",
       "      <td>83.223318</td>\n",
       "      <td>36.044730</td>\n",
       "      <td>-47.980245</td>\n",
       "      <td>16.945394</td>\n",
       "      <td>1.3.6.1.4.1.14519.5.2.1.6279.6001.882070241245...</td>\n",
       "    </tr>\n",
       "    <tr>\n",
       "      <th>1131</th>\n",
       "      <td>1.3.6.1.4.1.14519.5.2.1.6279.6001.892375496445...</td>\n",
       "      <td>59.088216</td>\n",
       "      <td>14.434067</td>\n",
       "      <td>-83.775921</td>\n",
       "      <td>17.411464</td>\n",
       "      <td>1.3.6.1.4.1.14519.5.2.1.6279.6001.892375496445...</td>\n",
       "    </tr>\n",
       "    <tr>\n",
       "      <th>1132</th>\n",
       "      <td>1.3.6.1.4.1.14519.5.2.1.6279.6001.897684031374...</td>\n",
       "      <td>-106.773314</td>\n",
       "      <td>143.134135</td>\n",
       "      <td>-711.111666</td>\n",
       "      <td>15.130803</td>\n",
       "      <td>1.3.6.1.4.1.14519.5.2.1.6279.6001.897684031374...</td>\n",
       "    </tr>\n",
       "    <tr>\n",
       "      <th>1133</th>\n",
       "      <td>1.3.6.1.4.1.14519.5.2.1.6279.6001.897684031374...</td>\n",
       "      <td>-98.293820</td>\n",
       "      <td>97.914859</td>\n",
       "      <td>-707.308942</td>\n",
       "      <td>10.157828</td>\n",
       "      <td>1.3.6.1.4.1.14519.5.2.1.6279.6001.897684031374...</td>\n",
       "    </tr>\n",
       "    <tr>\n",
       "      <th>1134</th>\n",
       "      <td>1.3.6.1.4.1.14519.5.2.1.6279.6001.897684031374...</td>\n",
       "      <td>47.750900</td>\n",
       "      <td>187.952852</td>\n",
       "      <td>-731.359144</td>\n",
       "      <td>18.156234</td>\n",
       "      <td>1.3.6.1.4.1.14519.5.2.1.6279.6001.897684031374...</td>\n",
       "    </tr>\n",
       "    <tr>\n",
       "      <th>1141</th>\n",
       "      <td>1.3.6.1.4.1.14519.5.2.1.6279.6001.905371958588...</td>\n",
       "      <td>109.116637</td>\n",
       "      <td>48.589511</td>\n",
       "      <td>-120.892058</td>\n",
       "      <td>21.583112</td>\n",
       "      <td>1.3.6.1.4.1.14519.5.2.1.6279.6001.905371958588...</td>\n",
       "    </tr>\n",
       "    <tr>\n",
       "      <th>1149</th>\n",
       "      <td>1.3.6.1.4.1.14519.5.2.1.6279.6001.910435939545...</td>\n",
       "      <td>30.715582</td>\n",
       "      <td>-22.257266</td>\n",
       "      <td>-151.398632</td>\n",
       "      <td>14.220657</td>\n",
       "      <td>1.3.6.1.4.1.14519.5.2.1.6279.6001.910435939545...</td>\n",
       "    </tr>\n",
       "    <tr>\n",
       "      <th>1153</th>\n",
       "      <td>1.3.6.1.4.1.14519.5.2.1.6279.6001.922852847124...</td>\n",
       "      <td>-115.274939</td>\n",
       "      <td>49.698375</td>\n",
       "      <td>-162.618770</td>\n",
       "      <td>11.806104</td>\n",
       "      <td>1.3.6.1.4.1.14519.5.2.1.6279.6001.922852847124...</td>\n",
       "    </tr>\n",
       "    <tr>\n",
       "      <th>1160</th>\n",
       "      <td>1.3.6.1.4.1.14519.5.2.1.6279.6001.943403138251...</td>\n",
       "      <td>-46.949664</td>\n",
       "      <td>72.636454</td>\n",
       "      <td>-95.644521</td>\n",
       "      <td>27.442423</td>\n",
       "      <td>1.3.6.1.4.1.14519.5.2.1.6279.6001.943403138251...</td>\n",
       "    </tr>\n",
       "    <tr>\n",
       "      <th>1163</th>\n",
       "      <td>1.3.6.1.4.1.14519.5.2.1.6279.6001.948414623428...</td>\n",
       "      <td>-84.151846</td>\n",
       "      <td>21.816344</td>\n",
       "      <td>-184.785716</td>\n",
       "      <td>18.980045</td>\n",
       "      <td>1.3.6.1.4.1.14519.5.2.1.6279.6001.948414623428...</td>\n",
       "    </tr>\n",
       "    <tr>\n",
       "      <th>1164</th>\n",
       "      <td>1.3.6.1.4.1.14519.5.2.1.6279.6001.948414623428...</td>\n",
       "      <td>-42.465222</td>\n",
       "      <td>-36.854507</td>\n",
       "      <td>-123.875975</td>\n",
       "      <td>19.927264</td>\n",
       "      <td>1.3.6.1.4.1.14519.5.2.1.6279.6001.948414623428...</td>\n",
       "    </tr>\n",
       "    <tr>\n",
       "      <th>1168</th>\n",
       "      <td>1.3.6.1.4.1.14519.5.2.1.6279.6001.955688628308...</td>\n",
       "      <td>87.076660</td>\n",
       "      <td>222.250598</td>\n",
       "      <td>-465.356205</td>\n",
       "      <td>12.116476</td>\n",
       "      <td>1.3.6.1.4.1.14519.5.2.1.6279.6001.955688628308...</td>\n",
       "    </tr>\n",
       "    <tr>\n",
       "      <th>1173</th>\n",
       "      <td>1.3.6.1.4.1.14519.5.2.1.6279.6001.964952370561...</td>\n",
       "      <td>56.350667</td>\n",
       "      <td>52.951631</td>\n",
       "      <td>-83.782231</td>\n",
       "      <td>14.914744</td>\n",
       "      <td>1.3.6.1.4.1.14519.5.2.1.6279.6001.964952370561...</td>\n",
       "    </tr>\n",
       "    <tr>\n",
       "      <th>1177</th>\n",
       "      <td>1.3.6.1.4.1.14519.5.2.1.6279.6001.970428941353...</td>\n",
       "      <td>-114.213070</td>\n",
       "      <td>67.589785</td>\n",
       "      <td>-136.793614</td>\n",
       "      <td>18.675526</td>\n",
       "      <td>1.3.6.1.4.1.14519.5.2.1.6279.6001.970428941353...</td>\n",
       "    </tr>\n",
       "    <tr>\n",
       "      <th>1178</th>\n",
       "      <td>1.3.6.1.4.1.14519.5.2.1.6279.6001.970428941353...</td>\n",
       "      <td>-116.037038</td>\n",
       "      <td>-8.478867</td>\n",
       "      <td>-126.293550</td>\n",
       "      <td>11.532082</td>\n",
       "      <td>1.3.6.1.4.1.14519.5.2.1.6279.6001.970428941353...</td>\n",
       "    </tr>\n",
       "    <tr>\n",
       "      <th>1185</th>\n",
       "      <td>1.3.6.1.4.1.14519.5.2.1.6279.6001.997611074084...</td>\n",
       "      <td>-21.958478</td>\n",
       "      <td>33.486096</td>\n",
       "      <td>-155.292026</td>\n",
       "      <td>23.802913</td>\n",
       "      <td>1.3.6.1.4.1.14519.5.2.1.6279.6001.997611074084...</td>\n",
       "    </tr>\n",
       "  </tbody>\n",
       "</table>\n",
       "<p>281 rows × 6 columns</p>\n",
       "</div>"
      ],
      "text/plain": [
       "                                              seriesuid      coordX  \\\n",
       "4     1.3.6.1.4.1.14519.5.2.1.6279.6001.100621383016...    2.441547   \n",
       "5     1.3.6.1.4.1.14519.5.2.1.6279.6001.100621383016...   90.931713   \n",
       "6     1.3.6.1.4.1.14519.5.2.1.6279.6001.100621383016...   89.540769   \n",
       "7     1.3.6.1.4.1.14519.5.2.1.6279.6001.100953483028...   81.509646   \n",
       "8     1.3.6.1.4.1.14519.5.2.1.6279.6001.102681962408...  105.055792   \n",
       "9     1.3.6.1.4.1.14519.5.2.1.6279.6001.104562737760... -124.834262   \n",
       "15    1.3.6.1.4.1.14519.5.2.1.6279.6001.106719103982...  -57.087180   \n",
       "16    1.3.6.1.4.1.14519.5.2.1.6279.6001.107109359065...  -98.135977   \n",
       "25    1.3.6.1.4.1.14519.5.2.1.6279.6001.109002525524...   46.188539   \n",
       "27    1.3.6.1.4.1.14519.5.2.1.6279.6001.110678335949...  -38.096020   \n",
       "34    1.3.6.1.4.1.14519.5.2.1.6279.6001.112740418331...   47.671057   \n",
       "35    1.3.6.1.4.1.14519.5.2.1.6279.6001.112740418331...  -60.764136   \n",
       "56    1.3.6.1.4.1.14519.5.2.1.6279.6001.115386642382...   86.402873   \n",
       "60    1.3.6.1.4.1.14519.5.2.1.6279.6001.117040183261...   55.714466   \n",
       "62    1.3.6.1.4.1.14519.5.2.1.6279.6001.118140393257...  -63.097606   \n",
       "67    1.3.6.1.4.1.14519.5.2.1.6279.6001.119304665257... -117.722135   \n",
       "71    1.3.6.1.4.1.14519.5.2.1.6279.6001.121391737347...   49.312936   \n",
       "74    1.3.6.1.4.1.14519.5.2.1.6279.6001.121993590721...  -94.292468   \n",
       "75    1.3.6.1.4.1.14519.5.2.1.6279.6001.121993590721...  -54.617632   \n",
       "76    1.3.6.1.4.1.14519.5.2.1.6279.6001.122621219961...  -58.386356   \n",
       "85    1.3.6.1.4.1.14519.5.2.1.6279.6001.123697637451... -129.054725   \n",
       "88    1.3.6.1.4.1.14519.5.2.1.6279.6001.124663713663...   78.939809   \n",
       "97    1.3.6.1.4.1.14519.5.2.1.6279.6001.125124219978...  -70.165274   \n",
       "100   1.3.6.1.4.1.14519.5.2.1.6279.6001.126631670596...  -96.960220   \n",
       "103   1.3.6.1.4.1.14519.5.2.1.6279.6001.128023902651...   33.832826   \n",
       "106   1.3.6.1.4.1.14519.5.2.1.6279.6001.128881800399...  -99.858522   \n",
       "107   1.3.6.1.4.1.14519.5.2.1.6279.6001.128881800399...  -78.667136   \n",
       "120   1.3.6.1.4.1.14519.5.2.1.6279.6001.131939324905...  -91.919366   \n",
       "123   1.3.6.1.4.1.14519.5.2.1.6279.6001.133378195429...  -33.325849   \n",
       "124   1.3.6.1.4.1.14519.5.2.1.6279.6001.133378195429...  -57.185923   \n",
       "...                                                 ...         ...   \n",
       "1084  1.3.6.1.4.1.14519.5.2.1.6279.6001.752756872840...   56.393154   \n",
       "1088  1.3.6.1.4.1.14519.5.2.1.6279.6001.765930210026...  -68.685367   \n",
       "1092  1.3.6.1.4.1.14519.5.2.1.6279.6001.771831598853...   37.946228   \n",
       "1096  1.3.6.1.4.1.14519.5.2.1.6279.6001.779493719385...  -71.666421   \n",
       "1097  1.3.6.1.4.1.14519.5.2.1.6279.6001.779493719385...   92.053871   \n",
       "1098  1.3.6.1.4.1.14519.5.2.1.6279.6001.780558315515... -107.320153   \n",
       "1099  1.3.6.1.4.1.14519.5.2.1.6279.6001.792381786708...   98.702480   \n",
       "1103  1.3.6.1.4.1.14519.5.2.1.6279.6001.801945620899...  -75.742638   \n",
       "1106  1.3.6.1.4.1.14519.5.2.1.6279.6001.805925269324...  -66.693135   \n",
       "1111  1.3.6.1.4.1.14519.5.2.1.6279.6001.826829446346...   45.605566   \n",
       "1112  1.3.6.1.4.1.14519.5.2.1.6279.6001.826829446346...   56.740743   \n",
       "1114  1.3.6.1.4.1.14519.5.2.1.6279.6001.826829446346...   23.622861   \n",
       "1120  1.3.6.1.4.1.14519.5.2.1.6279.6001.850739282072...  -47.537263   \n",
       "1128  1.3.6.1.4.1.14519.5.2.1.6279.6001.882070241245...  132.719044   \n",
       "1130  1.3.6.1.4.1.14519.5.2.1.6279.6001.882070241245...   83.223318   \n",
       "1131  1.3.6.1.4.1.14519.5.2.1.6279.6001.892375496445...   59.088216   \n",
       "1132  1.3.6.1.4.1.14519.5.2.1.6279.6001.897684031374... -106.773314   \n",
       "1133  1.3.6.1.4.1.14519.5.2.1.6279.6001.897684031374...  -98.293820   \n",
       "1134  1.3.6.1.4.1.14519.5.2.1.6279.6001.897684031374...   47.750900   \n",
       "1141  1.3.6.1.4.1.14519.5.2.1.6279.6001.905371958588...  109.116637   \n",
       "1149  1.3.6.1.4.1.14519.5.2.1.6279.6001.910435939545...   30.715582   \n",
       "1153  1.3.6.1.4.1.14519.5.2.1.6279.6001.922852847124... -115.274939   \n",
       "1160  1.3.6.1.4.1.14519.5.2.1.6279.6001.943403138251...  -46.949664   \n",
       "1163  1.3.6.1.4.1.14519.5.2.1.6279.6001.948414623428...  -84.151846   \n",
       "1164  1.3.6.1.4.1.14519.5.2.1.6279.6001.948414623428...  -42.465222   \n",
       "1168  1.3.6.1.4.1.14519.5.2.1.6279.6001.955688628308...   87.076660   \n",
       "1173  1.3.6.1.4.1.14519.5.2.1.6279.6001.964952370561...   56.350667   \n",
       "1177  1.3.6.1.4.1.14519.5.2.1.6279.6001.970428941353... -114.213070   \n",
       "1178  1.3.6.1.4.1.14519.5.2.1.6279.6001.970428941353... -116.037038   \n",
       "1185  1.3.6.1.4.1.14519.5.2.1.6279.6001.997611074084...  -21.958478   \n",
       "\n",
       "          coordY       coordZ  diameter_mm  \\\n",
       "4     172.464881  -405.493732    18.545150   \n",
       "5     149.027266  -426.544715    18.208570   \n",
       "6     196.405159  -515.073322    16.381276   \n",
       "7      54.957219  -150.346423    10.362321   \n",
       "8      19.825260   -91.247251    21.089619   \n",
       "9     127.247155  -473.064479    10.465854   \n",
       "15     74.259266  1790.494057    13.693566   \n",
       "16    -72.867792  -221.822772    18.127908   \n",
       "25     48.402806  -108.578632    13.596471   \n",
       "27   -106.705434  -139.548467    13.683746   \n",
       "34     37.642520   -99.890394    30.610406   \n",
       "35    -66.435170  -100.205037    16.882905   \n",
       "56     50.875109   -81.386882    12.733581   \n",
       "60    190.760397  -579.654296    10.888738   \n",
       "62    -56.555032  -332.977834    10.333188   \n",
       "67    160.494125  -688.285165    15.343154   \n",
       "71    -63.215210  -118.799562    22.133220   \n",
       "74     60.225615  -261.212776    14.198331   \n",
       "75     59.352387  -236.074781    13.932326   \n",
       "76      0.082105  -247.767961    14.163963   \n",
       "85    -12.238555   -79.497885    21.827953   \n",
       "88     15.800574   -95.356233    14.952799   \n",
       "97   -144.937975   -86.549477    10.967380   \n",
       "100    48.935850   -68.038429    16.977557   \n",
       "103    88.411590  -101.780481    10.462608   \n",
       "106    37.434051  -170.456609    12.319236   \n",
       "107    66.422159  -168.871678    13.025142   \n",
       "120    87.003927  1453.777585    14.439679   \n",
       "123    50.440597  -253.802972    11.344799   \n",
       "124    78.725139  -133.624139    13.651818   \n",
       "...          ...          ...          ...   \n",
       "1084   67.680087   -64.674453    19.653877   \n",
       "1088  206.197529  -685.874003    17.156135   \n",
       "1092   32.755750   -37.169497    17.141662   \n",
       "1096  -60.408901  -135.732601    13.050979   \n",
       "1097  -11.909295   -96.798515    12.973155   \n",
       "1098  -96.369956  -211.971240    15.353919   \n",
       "1099  160.553193  -418.737811    13.343404   \n",
       "1103   37.460976  -158.687537    17.232079   \n",
       "1106   97.045220  -267.309005    17.336250   \n",
       "1111  -33.228936  -141.745830    12.032759   \n",
       "1112  -38.923208  -214.436647    17.603976   \n",
       "1114   78.542013  -240.774121    11.884224   \n",
       "1120  -35.796815  -137.332547    13.641520   \n",
       "1128   16.664718  -130.308718    10.438279   \n",
       "1130   36.044730   -47.980245    16.945394   \n",
       "1131   14.434067   -83.775921    17.411464   \n",
       "1132  143.134135  -711.111666    15.130803   \n",
       "1133   97.914859  -707.308942    10.157828   \n",
       "1134  187.952852  -731.359144    18.156234   \n",
       "1141   48.589511  -120.892058    21.583112   \n",
       "1149  -22.257266  -151.398632    14.220657   \n",
       "1153   49.698375  -162.618770    11.806104   \n",
       "1160   72.636454   -95.644521    27.442423   \n",
       "1163   21.816344  -184.785716    18.980045   \n",
       "1164  -36.854507  -123.875975    19.927264   \n",
       "1168  222.250598  -465.356205    12.116476   \n",
       "1173   52.951631   -83.782231    14.914744   \n",
       "1177   67.589785  -136.793614    18.675526   \n",
       "1178   -8.478867  -126.293550    11.532082   \n",
       "1185   33.486096  -155.292026    23.802913   \n",
       "\n",
       "                                                    pid  \n",
       "4     1.3.6.1.4.1.14519.5.2.1.6279.6001.100621383016...  \n",
       "5     1.3.6.1.4.1.14519.5.2.1.6279.6001.100621383016...  \n",
       "6     1.3.6.1.4.1.14519.5.2.1.6279.6001.100621383016...  \n",
       "7     1.3.6.1.4.1.14519.5.2.1.6279.6001.100953483028...  \n",
       "8     1.3.6.1.4.1.14519.5.2.1.6279.6001.102681962408...  \n",
       "9     1.3.6.1.4.1.14519.5.2.1.6279.6001.104562737760...  \n",
       "15    1.3.6.1.4.1.14519.5.2.1.6279.6001.106719103982...  \n",
       "16    1.3.6.1.4.1.14519.5.2.1.6279.6001.107109359065...  \n",
       "25    1.3.6.1.4.1.14519.5.2.1.6279.6001.109002525524...  \n",
       "27    1.3.6.1.4.1.14519.5.2.1.6279.6001.110678335949...  \n",
       "34    1.3.6.1.4.1.14519.5.2.1.6279.6001.112740418331...  \n",
       "35    1.3.6.1.4.1.14519.5.2.1.6279.6001.112740418331...  \n",
       "56    1.3.6.1.4.1.14519.5.2.1.6279.6001.115386642382...  \n",
       "60    1.3.6.1.4.1.14519.5.2.1.6279.6001.117040183261...  \n",
       "62    1.3.6.1.4.1.14519.5.2.1.6279.6001.118140393257...  \n",
       "67    1.3.6.1.4.1.14519.5.2.1.6279.6001.119304665257...  \n",
       "71    1.3.6.1.4.1.14519.5.2.1.6279.6001.121391737347...  \n",
       "74    1.3.6.1.4.1.14519.5.2.1.6279.6001.121993590721...  \n",
       "75    1.3.6.1.4.1.14519.5.2.1.6279.6001.121993590721...  \n",
       "76    1.3.6.1.4.1.14519.5.2.1.6279.6001.122621219961...  \n",
       "85    1.3.6.1.4.1.14519.5.2.1.6279.6001.123697637451...  \n",
       "88    1.3.6.1.4.1.14519.5.2.1.6279.6001.124663713663...  \n",
       "97    1.3.6.1.4.1.14519.5.2.1.6279.6001.125124219978...  \n",
       "100   1.3.6.1.4.1.14519.5.2.1.6279.6001.126631670596...  \n",
       "103   1.3.6.1.4.1.14519.5.2.1.6279.6001.128023902651...  \n",
       "106   1.3.6.1.4.1.14519.5.2.1.6279.6001.128881800399...  \n",
       "107   1.3.6.1.4.1.14519.5.2.1.6279.6001.128881800399...  \n",
       "120   1.3.6.1.4.1.14519.5.2.1.6279.6001.131939324905...  \n",
       "123   1.3.6.1.4.1.14519.5.2.1.6279.6001.133378195429...  \n",
       "124   1.3.6.1.4.1.14519.5.2.1.6279.6001.133378195429...  \n",
       "...                                                 ...  \n",
       "1084  1.3.6.1.4.1.14519.5.2.1.6279.6001.752756872840...  \n",
       "1088  1.3.6.1.4.1.14519.5.2.1.6279.6001.765930210026...  \n",
       "1092  1.3.6.1.4.1.14519.5.2.1.6279.6001.771831598853...  \n",
       "1096  1.3.6.1.4.1.14519.5.2.1.6279.6001.779493719385...  \n",
       "1097  1.3.6.1.4.1.14519.5.2.1.6279.6001.779493719385...  \n",
       "1098  1.3.6.1.4.1.14519.5.2.1.6279.6001.780558315515...  \n",
       "1099  1.3.6.1.4.1.14519.5.2.1.6279.6001.792381786708...  \n",
       "1103  1.3.6.1.4.1.14519.5.2.1.6279.6001.801945620899...  \n",
       "1106  1.3.6.1.4.1.14519.5.2.1.6279.6001.805925269324...  \n",
       "1111  1.3.6.1.4.1.14519.5.2.1.6279.6001.826829446346...  \n",
       "1112  1.3.6.1.4.1.14519.5.2.1.6279.6001.826829446346...  \n",
       "1114  1.3.6.1.4.1.14519.5.2.1.6279.6001.826829446346...  \n",
       "1120  1.3.6.1.4.1.14519.5.2.1.6279.6001.850739282072...  \n",
       "1128  1.3.6.1.4.1.14519.5.2.1.6279.6001.882070241245...  \n",
       "1130  1.3.6.1.4.1.14519.5.2.1.6279.6001.882070241245...  \n",
       "1131  1.3.6.1.4.1.14519.5.2.1.6279.6001.892375496445...  \n",
       "1132  1.3.6.1.4.1.14519.5.2.1.6279.6001.897684031374...  \n",
       "1133  1.3.6.1.4.1.14519.5.2.1.6279.6001.897684031374...  \n",
       "1134  1.3.6.1.4.1.14519.5.2.1.6279.6001.897684031374...  \n",
       "1141  1.3.6.1.4.1.14519.5.2.1.6279.6001.905371958588...  \n",
       "1149  1.3.6.1.4.1.14519.5.2.1.6279.6001.910435939545...  \n",
       "1153  1.3.6.1.4.1.14519.5.2.1.6279.6001.922852847124...  \n",
       "1160  1.3.6.1.4.1.14519.5.2.1.6279.6001.943403138251...  \n",
       "1163  1.3.6.1.4.1.14519.5.2.1.6279.6001.948414623428...  \n",
       "1164  1.3.6.1.4.1.14519.5.2.1.6279.6001.948414623428...  \n",
       "1168  1.3.6.1.4.1.14519.5.2.1.6279.6001.955688628308...  \n",
       "1173  1.3.6.1.4.1.14519.5.2.1.6279.6001.964952370561...  \n",
       "1177  1.3.6.1.4.1.14519.5.2.1.6279.6001.970428941353...  \n",
       "1178  1.3.6.1.4.1.14519.5.2.1.6279.6001.970428941353...  \n",
       "1185  1.3.6.1.4.1.14519.5.2.1.6279.6001.997611074084...  \n",
       "\n",
       "[281 rows x 6 columns]"
      ]
     },
     "execution_count": 39,
     "metadata": {},
     "output_type": "execute_result"
    }
   ],
   "source": [
    "df_nodes"
   ]
  },
  {
   "cell_type": "code",
   "execution_count": 49,
   "metadata": {
    "collapsed": false
   },
   "outputs": [],
   "source": [
    "for n in range(1000):\n",
    "    "
   ]
  },
  {
   "cell_type": "code",
   "execution_count": 101,
   "metadata": {
    "collapsed": false
   },
   "outputs": [
    {
     "name": "stderr",
     "output_type": "stream",
     "text": [
      "/home/alex/anaconda3/lib/python3.6/site-packages/scipy/ndimage/interpolation.py:571: RuntimeWarning: invalid value encountered in true_divide\n",
      "  zoom = (numpy.array(input.shape) - 1) / zoom_div\n"
     ]
    }
   ],
   "source": [
    "tmp = np.stack(X_nodules)[...,None]\n",
    "tmp = preprocess(tmp)\n",
    "tmp = scipy.ndimage.interpolation.zoom(tmp, (1, 0.5, 0.5, 0.5, 1), order=1)\n",
    "\n",
    "p = model.predict(tmp)"
   ]
  },
  {
   "cell_type": "code",
   "execution_count": 106,
   "metadata": {
    "collapsed": false
   },
   "outputs": [
    {
     "data": {
      "text/plain": [
       "0.8683274021352313"
      ]
     },
     "execution_count": 106,
     "metadata": {},
     "output_type": "execute_result"
    }
   ],
   "source": [
    "np.count_nonzero(p[:,1]>0.90) / len(p[:,1])"
   ]
  },
  {
   "cell_type": "code",
   "execution_count": null,
   "metadata": {
    "collapsed": true
   },
   "outputs": [],
   "source": []
  }
 ],
 "metadata": {
  "kernelspec": {
   "display_name": "Python 3",
   "language": "python",
   "name": "python3"
  },
  "language_info": {
   "codemirror_mode": {
    "name": "ipython",
    "version": 3
   },
   "file_extension": ".py",
   "mimetype": "text/x-python",
   "name": "python",
   "nbconvert_exporter": "python",
   "pygments_lexer": "ipython3",
   "version": "3.6.0"
  }
 },
 "nbformat": 4,
 "nbformat_minor": 2
}
