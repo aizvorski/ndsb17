{
 "cells": [
  {
   "cell_type": "code",
   "execution_count": 6,
   "metadata": {
    "collapsed": false
   },
   "outputs": [],
   "source": [
    "import pandas as pd\n",
    "import numpy as np\n",
    "import SimpleITK as sitk\n",
    "import scipy.ndimage.interpolation\n",
    "import skimage.transform\n",
    "\n",
    "luna_path = \"/mnt/data/luna16/\"\n",
    "\n",
    "# read metadata\n",
    "\n",
    "from glob import glob\n",
    "\n",
    "def get_df_node():\n",
    "    global file_list\n",
    "    \n",
    "    df_node = pd.read_csv(luna_path+\"original/CSVFILES/annotations.csv\")\n",
    "\n",
    "#     file_list=glob(luna_path+\"unpacked/*.mhd\")\n",
    "\n",
    "#     def get_filename(case):\n",
    "#         global file_list\n",
    "#         for f in file_list:\n",
    "#             if case in f:\n",
    "#                 return(f)\n",
    "\n",
    "#     df_node[\"file\"] = df_node[\"seriesuid\"].apply(get_filename)\n",
    "    return df_node\n",
    "\n",
    "def read_nodes(img_file, df_node, sz=32):\n",
    "    # img_file = \"luna16_unpack/subset2/1.3.6.1.4.1.14519.5.2.1.6279.6001.100621383016233746780170740405.mhd\"\n",
    "    itk_img = sitk.ReadImage(img_file)\n",
    "    img_array = sitk.GetArrayFromImage(itk_img)\n",
    "\n",
    "    origin = np.array(itk_img.GetOrigin()) #x,y,z  Origin in world coordinates (mm)\n",
    "    spacing = np.array(itk_img.GetSpacing())# spacing of voxels in world coor. (mm)\n",
    "\n",
    "    z_scale = spacing[2]/spacing[1]\n",
    "    img_iso = scipy.ndimage.interpolation.zoom(img_array, zoom=(z_scale, 1,1), order=1)\n",
    "\n",
    "    img_nodes = []\n",
    "    diams = []\n",
    "\n",
    "    mini_df = df_node[df_node[\"file\"]==img_file]\n",
    "    for idx in range(len(mini_df)):\n",
    "        node_x = mini_df[\"coordX\"].values[idx]\n",
    "        node_y = mini_df[\"coordY\"].values[idx]\n",
    "        node_z = mini_df[\"coordZ\"].values[idx]\n",
    "        diam = mini_df[\"diameter_mm\"].values[idx]\n",
    "\n",
    "        center = np.array([node_x,node_y,node_z])  #nodule center\n",
    "        v_center =np.rint((center-origin)/spacing)  # nodule center in voxel space\n",
    "        c = v_center.astype(np.int)\n",
    "\n",
    "        img_node = img_iso[int(z_scale*c[2]-sz):int(z_scale*c[2]+sz), c[1]-sz:c[1]+sz, c[0]-sz:c[0]+sz]\n",
    "\n",
    "        img_nodes.append(img_node)\n",
    "        diams.append(diam / spacing[0])\n",
    "        # TODO return spacing here as well\n",
    "\n",
    "    return img_nodes, diams\n",
    "\n",
    "def get_node_sections(img_node, diam):\n",
    "    return\n"
   ]
  },
  {
   "cell_type": "code",
   "execution_count": 2,
   "metadata": {
    "collapsed": true
   },
   "outputs": [],
   "source": [
    "def load_scans_luna16(img_file):\n",
    "    itk_img = sitk.ReadImage(img_file)\n",
    "    img_array = sitk.GetArrayFromImage(itk_img)\n",
    "\n",
    "    origin = np.array(itk_img.GetOrigin()) #x,y,z  Origin in world coordinates (mm)\n",
    "    spacing = np.array(itk_img.GetSpacing())# spacing of voxels in world coor. (mm)\n",
    "\n",
    "    return itk_img, spacing, origin\n",
    "\n",
    "def resample_luna16(image, spacing, new_spacing):\n",
    "    resize_factor = spacing / new_spacing\n",
    "    new_real_shape = image.shape * resize_factor\n",
    "    new_shape = np.round(new_real_shape)\n",
    "    real_resize_factor = new_shape / image.shape\n",
    "    new_spacing = spacing / real_resize_factor\n",
    "    \n",
    "    image = scipy.ndimage.interpolation.zoom(image, real_resize_factor, order=1)\n",
    "    \n",
    "    return image, new_spacing\n",
    "\n"
   ]
  },
  {
   "cell_type": "code",
   "execution_count": 12,
   "metadata": {
    "collapsed": true
   },
   "outputs": [],
   "source": [
    "import json\n",
    "\n",
    "INPUT_FOLDER = '/mnt/data/luna16/unpacked/'\n",
    "OUTPUT_FOLDER = '/mnt/data/luna16/processed/'\n",
    "\n",
    "def process_series(pid):\n",
    "    print(pid)\n",
    "    # input_file = glob(INPUT_FOLDER+\"*/\" +pid+  \".mhd\")[0]\n",
    "    image, spacing, origin = load_scans_luna16(INPUT_FOLDER+pid+  \".mhd\")\n",
    "    np.save(OUTPUT_FOLDER + 'original_resolution/' + pid + '.npy', image)\n",
    "\n",
    "    with open(OUTPUT_FOLDER + 'original_resolution/' + pid + '.info.json', 'w') as f:\n",
    "        json.dump({'spacing': list(spacing), 'origin':list(origin)}, f)\n",
    "\n",
    "    image_1mm, _ = resample(image, scans, [1,1,1])\n",
    "    np.save(OUTPUT_FOLDER + '1mm/' + pid + '.npy', image_1mm)\n",
    "\n",
    "    #     image_iso, _ = resample(image, scans, [spacing[1], spacing[1], spacing[2]])\n",
    "    #     np.save(OUTPUT_FOLDER + 'iso/' + pid + '.npy', image_iso)\n",
    "\n",
    "    segmented_lungs_fill = segment_lung_mask(image, True)\n",
    "    np.save(OUTPUT_FOLDER + 'segmented_lungs/' + pid + '.npy', segmented_lungs_fill)\n",
    "\n"
   ]
  },
  {
   "cell_type": "code",
   "execution_count": 9,
   "metadata": {
    "collapsed": false
   },
   "outputs": [],
   "source": [
    "df_node = get_df_node()\n",
    "patient_ids = list(set(df_node[\"seriesuid\"]))"
   ]
  },
  {
   "cell_type": "code",
   "execution_count": null,
   "metadata": {
    "collapsed": false
   },
   "outputs": [
    {
     "name": "stdout",
     "output_type": "stream",
     "text": [
      "1.3.6.1.4.1.14519.5.2.1.6279.6001.100398138793540579077826395208\n"
     ]
    }
   ],
   "source": [
    "for pid in df_node[\"seriesuid\"][2:10]:\n",
    "    process_series(pid)\n"
   ]
  },
  {
   "cell_type": "code",
   "execution_count": 14,
   "metadata": {
    "collapsed": false
   },
   "outputs": [
    {
     "data": {
      "text/plain": [
       "601"
      ]
     },
     "execution_count": 14,
     "metadata": {},
     "output_type": "execute_result"
    }
   ],
   "source": [
    "len(patient_ids)"
   ]
  },
  {
   "cell_type": "code",
   "execution_count": null,
   "metadata": {
    "collapsed": true
   },
   "outputs": [],
   "source": []
  }
 ],
 "metadata": {
  "kernelspec": {
   "display_name": "Python 2",
   "language": "python",
   "name": "python2"
  },
  "language_info": {
   "codemirror_mode": {
    "name": "ipython",
    "version": 2
   },
   "file_extension": ".py",
   "mimetype": "text/x-python",
   "name": "python",
   "nbconvert_exporter": "python",
   "pygments_lexer": "ipython2",
   "version": "2.7.13"
  }
 },
 "nbformat": 4,
 "nbformat_minor": 2
}
