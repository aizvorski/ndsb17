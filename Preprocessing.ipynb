{
 "cells": [
  {
   "cell_type": "markdown",
   "metadata": {
    "_cell_guid": "a07f5103-d036-968f-40d7-57649bbb4864"
   },
   "source": [
    "## Introduction\n",
    "\n",
    "Working with these files can be a challenge, especially given their heterogeneous nature. Some preprocessing is required before they are ready for consumption by your CNN.\n",
    "\n",
    "Fortunately, I participated in the LUNA16 competition as part of a university course on computer aided diagnosis, so I have some experience working with these files. At this moment we top the leaderboard there :)\n",
    "\n",
    "**This tutorial aims to provide a comprehensive overview of useful steps to take before the data hits your ConvNet/other ML method.**\n",
    "\n",
    "What we will cover:  \n",
    "\n",
    "* **Loading the DICOM files**, and adding missing metadata  \n",
    "* **Converting the pixel values to *Hounsfield Units (HU)***, and what tissue these unit values correspond to\n",
    "* **Resampling** to an isomorphic resolution to remove variance in scanner resolution.\n",
    "* **3D plotting**, visualization is very useful to see what we are doing.\n",
    "* **Lung segmentation**\n",
    "* **Normalization** that makes sense.\n",
    "* **Zero centering** the scans.\n",
    "\n",
    "\n",
    "---\n",
    "\n",
    "Before we start, let's import some packages and determine the available patients."
   ]
  },
  {
   "cell_type": "code",
   "execution_count": 1,
   "metadata": {
    "_cell_guid": "1d12eab6-3340-fa57-84a1-91fe13886996",
    "collapsed": false
   },
   "outputs": [
    {
     "name": "stderr",
     "output_type": "stream",
     "text": [
      "/home/ubuntu/anaconda2/lib/python2.7/site-packages/dicom/__init__.py:53: UserWarning: \n",
      "This code is using an older version of pydicom, which is no longer \n",
      "maintained as of Jan 2017.  You can access the new pydicom features and API \n",
      "by installing `pydicom` from PyPI.\n",
      "See 'Transitioning to pydicom 1.x' section at pydicom.readthedocs.org \n",
      "for more information.\n",
      "\n",
      "  warnings.warn(msg)\n"
     ]
    }
   ],
   "source": [
    "%matplotlib inline\n",
    "\n",
    "import numpy as np # linear algebra\n",
    "import pandas as pd # data processing, CSV file I/O (e.g. pd.read_csv)\n",
    "import dicom\n",
    "import os\n",
    "import scipy.ndimage\n",
    "import matplotlib.pyplot as plt\n",
    "\n",
    "from skimage import measure, morphology\n",
    "from mpl_toolkits.mplot3d.art3d import Poly3DCollection\n",
    "\n",
    "# Some constants \n",
    "INPUT_FOLDER = '/mnt/data/ndsb17/unpacked/'\n",
    "patient_ids = os.listdir(INPUT_FOLDER + 'stage1/')\n",
    "patient_ids.sort()"
   ]
  },
  {
   "cell_type": "markdown",
   "metadata": {
    "_cell_guid": "56147dd5-3127-8844-644d-0b1565c9dac3"
   },
   "source": [
    "# Loading the files\n",
    "Dicom is the de-facto file standard in medical imaging. This is my first time working with it, but it seems to be fairly straight-forward.  These files contain a lot of metadata (such as the pixel size, so how long one pixel is in every dimension in the real world). \n",
    "\n",
    "This pixel size/coarseness of the scan differs from scan to scan (e.g. the distance between slices may differ), which can hurt performance of CNN approaches. We can deal with this by isomorphic resampling, which we will do later.\n",
    "\n",
    "Below is code to load a scan, which consists of multiple slices, which we simply save in a Python list. Every folder in the dataset is one scan (so one patient). One metadata field is missing, the pixel size in the Z direction, which is the slice thickness. Fortunately we can infer this, and we add this to the metadata."
   ]
  },
  {
   "cell_type": "code",
   "execution_count": 2,
   "metadata": {
    "_cell_guid": "4f50e5b1-c1e8-14a8-591b-eb466e5adc0d",
    "collapsed": true
   },
   "outputs": [],
   "source": [
    "# Load the scans in given folder path\n",
    "def load_scans(path):\n",
    "    slices = [dicom.read_file(path + '/' + s) for s in os.listdir(path)]\n",
    "    # slices.sort(key = lambda x: int(x.InstanceNumber))\n",
    "    slices.sort(key = lambda x: float(x.ImagePositionPatient[2]))\n",
    "    try:\n",
    "        slice_thickness = np.abs(slices[0].ImagePositionPatient[2] - slices[1].ImagePositionPatient[2])\n",
    "    except:\n",
    "        slice_thickness = np.abs(slices[0].SliceLocation - slices[1].SliceLocation)\n",
    "        \n",
    "    for s in slices:\n",
    "        s.SliceThickness = slice_thickness\n",
    "        \n",
    "    return slices"
   ]
  },
  {
   "cell_type": "markdown",
   "metadata": {
    "_cell_guid": "79a91d86-1009-ac6d-14d4-a1c117f3dd64"
   },
   "source": [
    "The unit of measurement in CT scans is the **Hounsfield Unit (HU)**, which is a measure of radiodensity. CT scanners are carefully calibrated to accurately measure this.  From Wikipedia:\n",
    "\n",
    "![HU examples][1]\n",
    "\n",
    "By default however, the returned values are not in this unit. Let's fix this.\n",
    "\n",
    "Some scanners have cylindrical scanning bounds, but the output image is square. The pixels that fall outside of these bounds get the fixed value -2000. The first step is setting these values to 0, which currently corresponds to air. Next, let's go back to HU units, by multiplying with the rescale slope and adding the intercept (which are conveniently stored in the metadata of the scans!).\n",
    "\n",
    "  [1]: http://i.imgur.com/4rlyReh.png"
   ]
  },
  {
   "cell_type": "code",
   "execution_count": null,
   "metadata": {
    "_cell_guid": "e60f402c-0cd9-f0d2-0c3d-3e7af98f9845",
    "collapsed": true
   },
   "outputs": [],
   "source": [
    "# def get_pixels_hu(scans):\n",
    "#     image = np.stack([s.pixel_array for s in scans])\n",
    "#     # Convert to int16 (from sometimes int16), \n",
    "#     # should be possible as values should always be low enough (<32k)\n",
    "#     image = image.astype(np.int16)\n",
    "\n",
    "#     # Set outside-of-scan pixels to 0\n",
    "#     # The intercept is usually -1024, so air is approximately 0\n",
    "#     image[image == -2000] = 0\n",
    "    \n",
    "#     # Convert to Hounsfield units (HU)\n",
    "#     intercept = scans[0].RescaleIntercept\n",
    "#     slope = scans[0].RescaleSlope\n",
    "    \n",
    "#     if slope != 1:\n",
    "#         image = slope * image.astype(np.float64)\n",
    "#         image = image.astype(np.int16)\n",
    "        \n",
    "#     image += np.int16(intercept)\n",
    "    \n",
    "#     return np.array(image, dtype=np.int16)"
   ]
  },
  {
   "cell_type": "code",
   "execution_count": 3,
   "metadata": {
    "collapsed": true
   },
   "outputs": [],
   "source": [
    "def get_pixels_hu(scans):\n",
    "    image = np.stack([s.pixel_array.astype(np.float32) * s.RescaleSlope + s.RescaleIntercept for s in scans])\n",
    "    image = image.astype(np.int16)\n",
    "   \n",
    "    return image"
   ]
  },
  {
   "cell_type": "markdown",
   "metadata": {
    "_cell_guid": "9a64cb22-2b5d-425c-7ced-0e977ca04fa7"
   },
   "source": [
    "Let's take a look at one of the patients."
   ]
  },
  {
   "cell_type": "code",
   "execution_count": 6,
   "metadata": {
    "_cell_guid": "b0012bd3-50f6-278b-de58-a2a39361f1bb",
    "collapsed": false
   },
   "outputs": [
    {
     "data": {
      "image/png": "[encoded data removed]",
      "text/plain": [
       "<matplotlib.figure.Figure at 0x7fe91b7aa990>"
      ]
     },
     "metadata": {},
     "output_type": "display_data"
    },
    {
     "data": {
      "image/png": "[encoded data removed]",
      "text/plain": [
       "<matplotlib.figure.Figure at 0x7fe95fa131d0>"
      ]
     },
     "metadata": {},
     "output_type": "display_data"
    }
   ],
   "source": [
    "scans = load_scans(INPUT_FOLDER + 'stage1/' + patient_ids[0])\n",
    "image = get_pixels_hu(scans)\n",
    "plt.hist(image.flatten(), bins=80, color='c')\n",
    "plt.xlabel(\"Hounsfield Units (HU)\")\n",
    "plt.ylabel(\"Frequency\")\n",
    "plt.show()\n",
    "\n",
    "# Show some slice in the middle\n",
    "plt.imshow(image[80], cmap=plt.cm.gray)\n",
    "plt.show()"
   ]
  },
  {
   "cell_type": "markdown",
   "metadata": {
    "_cell_guid": "894982a5-844c-ebb2-a48c-62a057cf5ec9"
   },
   "source": [
    "Looking at the table from Wikipedia and this histogram, we can clearly see which pixels are air and which are tissue. We will use this for lung segmentation in a bit :)\n",
    "\n",
    "\n",
    "----------"
   ]
  },
  {
   "cell_type": "markdown",
   "metadata": {
    "_cell_guid": "ae70ecba-82a6-099b-ac6a-c2f69c055929"
   },
   "source": [
    "# Resampling\n",
    "A scan may have a pixel spacing of `[2.5, 0.5, 0.5]`, which means that the distance between slices is `2.5` millimeters. For a different scan this may be `[1.5, 0.725, 0.725]`, this can be problematic for automatic analysis (e.g. using ConvNets)! \n",
    "\n",
    "A common method of dealing with this is resampling the full dataset to a certain isotropic resolution. If we choose to resample everything to 1mm*1mm*1mm pixels we can use 3D convnets without worrying about learning zoom/slice thickness invariance. \n",
    "\n",
    "Whilst this may seem like a very simple step, it has quite some edge cases due to rounding. Also, it takes quite a while.\n",
    "\n",
    "Below code worked well for us (and deals with the edge cases):"
   ]
  },
  {
   "cell_type": "code",
   "execution_count": 4,
   "metadata": {
    "_cell_guid": "59c11a48-c6d0-8522-f5cd-b03d8ee812f6",
    "collapsed": true
   },
   "outputs": [],
   "source": [
    "def resample(image, scans, new_spacing=[1,1,1]):\n",
    "    # Determine current pixel spacing\n",
    "    spacing = map(float, ([scans[0].SliceThickness] + scans[0].PixelSpacing))\n",
    "    spacing = np.array(list(spacing))\n",
    "\n",
    "    resize_factor = spacing / new_spacing\n",
    "    new_real_shape = image.shape * resize_factor\n",
    "    new_shape = np.round(new_real_shape)\n",
    "    real_resize_factor = new_shape / image.shape\n",
    "    new_spacing = spacing / real_resize_factor\n",
    "    \n",
    "    image = scipy.ndimage.interpolation.zoom(image, real_resize_factor, order=1)\n",
    "    \n",
    "    return image, new_spacing"
   ]
  },
  {
   "cell_type": "markdown",
   "metadata": {
    "_cell_guid": "04b36366-5dd1-90b1-ad19-065127fe4720"
   },
   "source": [
    "Please note that when you apply this, to save the new spacing! Due to rounding this may be slightly off from the desired spacing (above script picks the best possible spacing with rounding).\n",
    "\n",
    "Let's resample our patient's pixels to an isomorphic resolution of 1 by 1 by 1 mm."
   ]
  },
  {
   "cell_type": "code",
   "execution_count": null,
   "metadata": {
    "_cell_guid": "53acb2e7-1edc-8212-3b6d-30eb16d75025",
    "collapsed": false
   },
   "outputs": [],
   "source": [
    "pix_resampled, spacing = resample(image, scans, [1,1,1])\n",
    "print(\"Shape before resampling\\t\", image.shape)\n",
    "print(\"Shape after resampling\\t\", pix_resampled.shape)"
   ]
  },
  {
   "cell_type": "markdown",
   "metadata": {
    "_cell_guid": "405beab9-b95f-9ea6-6f51-235943c1d5dc"
   },
   "source": [
    "# 3D plotting the scan\n",
    "For visualization it is useful to be able to show a 3D image of the scan. Unfortunately, the packages available in this Kaggle docker image is very limited in this sense, so we will use marching cubes to create an approximate mesh for our 3D object, and plot this with matplotlib. Quite slow and ugly, but the best we can do."
   ]
  },
  {
   "cell_type": "code",
   "execution_count": null,
   "metadata": {
    "_cell_guid": "05a89e78-9a12-c019-8693-efb4030172bd",
    "collapsed": true
   },
   "outputs": [],
   "source": [
    "def plot_3d(image, threshold=-300):\n",
    "    \n",
    "    # Position the scan upright, \n",
    "    # so the head of the patient would be at the top facing the camera\n",
    "    p = image.transpose(2,1,0)\n",
    "    p = p[:,:,::-1]\n",
    "    \n",
    "    verts, faces = measure.marching_cubes(p, threshold)\n",
    "\n",
    "    fig = plt.figure(figsize=(10, 10))\n",
    "    ax = fig.add_subplot(111, projection='3d')\n",
    "\n",
    "    # Fancy indexing: `verts[faces]` to generate a collection of triangles\n",
    "    mesh = Poly3DCollection(verts[faces], alpha=0.1)\n",
    "    face_color = [0.5, 0.5, 1]\n",
    "    mesh.set_facecolor(face_color)\n",
    "    ax.add_collection3d(mesh)\n",
    "\n",
    "    ax.set_xlim(0, p.shape[0])\n",
    "    ax.set_ylim(0, p.shape[1])\n",
    "    ax.set_zlim(0, p.shape[2])\n",
    "\n",
    "    plt.show()"
   ]
  },
  {
   "cell_type": "markdown",
   "metadata": {
    "_cell_guid": "60f79f87-44cc-620e-259c-d18d2e085bd6"
   },
   "source": [
    "Our plot function takes a threshold argument which we can use to plot certain structures, such as all tissue or only the bones. 400 is a good threshold for showing the bones only (see Hounsfield unit table above). Let's do this!"
   ]
  },
  {
   "cell_type": "code",
   "execution_count": null,
   "metadata": {
    "_cell_guid": "8373d7cb-c307-b8a3-c9a4-6d3daec2cee5",
    "collapsed": false
   },
   "outputs": [],
   "source": [
    "plot_3d(pix_resampled, 400)"
   ]
  },
  {
   "cell_type": "markdown",
   "metadata": {
    "_cell_guid": "375b567c-90eb-dee2-6fc6-e6463833640e"
   },
   "source": [
    "Spooky!\n",
    "\n",
    "# Lung segmentation\n",
    "In order to reduce the problem space, we can segment the lungs (and usually some tissue around it). The method that me and my student colleagues developed was quite effective. \n",
    "\n",
    "It involves quite a few smart steps. It consists of a series of applications of region growing and morphological operations. In this case, we will use only connected component analysis.\n",
    "\n",
    "The steps:  \n",
    "\n",
    "* Threshold the image (-320 HU is a good threshold, but it doesn't matter much for this approach)\n",
    "* Do connected components, determine label of air around person, fill this with 1s in the binary image\n",
    "* Optionally: For every axial slice in the scan, determine the largest solid connected component (the body+air around the person), and set others to 0. This fills the structures in the lungs in the mask.\n",
    "* Keep only the largest air pocket (the human body has other pockets of air here and there)."
   ]
  },
  {
   "cell_type": "code",
   "execution_count": 5,
   "metadata": {
    "_cell_guid": "436e766a-6f93-862a-4f8c-4b384cdd9e82",
    "collapsed": true
   },
   "outputs": [],
   "source": [
    "def largest_label_volume(im, bg=-1):\n",
    "    vals, counts = np.unique(im, return_counts=True)\n",
    "\n",
    "    counts = counts[vals != bg]\n",
    "    vals = vals[vals != bg]\n",
    "\n",
    "    if len(counts) > 0:\n",
    "        return vals[np.argmax(counts)]\n",
    "    else:\n",
    "        return None\n",
    "\n",
    "def segment_lung_mask(image, fill_lung_structures=True):\n",
    "    \n",
    "    binary_image = np.array(image > -320, dtype=np.int8)\n",
    "    binary_image = scipy.ndimage.morphology.binary_dilation(binary_image, border_value=0, iterations=2).astype(np.int8)\n",
    "    # HACK deal with trays\n",
    "    binary_image[-1,:,0] = 0\n",
    "    binary_image[-1,:,-1] = 0\n",
    "    # not actually binary, but 1 and 2. \n",
    "    # 0 is treated as background, which we do not want\n",
    "    binary_image += 1\n",
    "    labels = measure.label(binary_image)\n",
    "    \n",
    "    # Pick the pixel in the very corner to determine which label is air.\n",
    "    #   Improvement: Pick multiple background labels from around the patient\n",
    "    #   More resistant to \"trays\" on which the patient lays cutting the air \n",
    "    #   around the person in half\n",
    "    background_label = labels[0,0,0]\n",
    "    \n",
    "    #Fill the air around the person\n",
    "    binary_image[background_label == labels] = 2\n",
    "    \n",
    "    \n",
    "    # Method of filling the lung structures (that is superior to something like \n",
    "    # morphological closing)\n",
    "    if fill_lung_structures:\n",
    "        # For every slice we determine the largest solid structure\n",
    "        for i, axial_slice in enumerate(binary_image):\n",
    "            axial_slice = axial_slice - 1\n",
    "            labeling = measure.label(axial_slice)\n",
    "            l_max = largest_label_volume(labeling, bg=0)\n",
    "            \n",
    "            if l_max is not None: #This slice contains some lung\n",
    "                binary_image[i][labeling != l_max] = 1\n",
    "\n",
    "    \n",
    "    binary_image -= 1 #Make the image actual binary\n",
    "    binary_image = 1-binary_image # Invert it, lungs are now 1\n",
    "    \n",
    "    # Remove other air pockets insided body\n",
    "    labels = measure.label(binary_image, background=0)\n",
    "    l_max = largest_label_volume(labels, bg=0)\n",
    "    if l_max is not None: # There are air pockets\n",
    "        binary_image[labels != l_max] = 0\n",
    " \n",
    "    return binary_image"
   ]
  },
  {
   "cell_type": "code",
   "execution_count": null,
   "metadata": {
    "_cell_guid": "0601c7e8-f67a-2178-225a-a23474d54cae",
    "collapsed": true
   },
   "outputs": [],
   "source": [
    "segmented_lungs = segment_lung_mask(pix_resampled, False)\n",
    "segmented_lungs_fill = segment_lung_mask(pix_resampled, True)"
   ]
  },
  {
   "cell_type": "code",
   "execution_count": null,
   "metadata": {
    "_cell_guid": "0a632d49-cc04-15da-f743-addb07504055",
    "collapsed": false
   },
   "outputs": [],
   "source": [
    "plot_3d(segmented_lungs, 0)"
   ]
  },
  {
   "cell_type": "markdown",
   "metadata": {
    "_cell_guid": "45a40c3f-919c-0ba0-fe87-f66b3817e1ab"
   },
   "source": [
    "Beautiful! \n",
    "\n",
    "But there's one thing we can fix, it is probably a good idea to include structures within the lung (as the nodules are solid), we do not only want to air in the lungs. "
   ]
  },
  {
   "cell_type": "code",
   "execution_count": null,
   "metadata": {
    "_cell_guid": "10d5d6fd-1994-d263-1ec3-be09d1f40c00",
    "collapsed": false
   },
   "outputs": [],
   "source": [
    "plot_3d(segmented_lungs_fill, 0)"
   ]
  },
  {
   "cell_type": "markdown",
   "metadata": {
    "_cell_guid": "96bdffec-ca48-b503-84ab-e119fbd68bfe"
   },
   "source": [
    "That's better. Let's also visualize the difference between the two."
   ]
  },
  {
   "cell_type": "code",
   "execution_count": null,
   "metadata": {
    "_cell_guid": "764cb248-ee97-f98c-3860-7df87b13bc1b",
    "collapsed": false
   },
   "outputs": [],
   "source": [
    "plot_3d(segmented_lungs_fill - segmented_lungs, 0)"
   ]
  },
  {
   "cell_type": "markdown",
   "metadata": {
    "_cell_guid": "756185c7-1833-66b8-572d-30d480533ad0"
   },
   "source": [
    "Pretty cool, no? \n",
    "\n",
    "Anyway, when you want to use this mask, **remember to first apply a dilation morphological operation** on it (i.e. with a circular kernel).  This expands the mask in all directions. The air + structures in the lung alone will not contain all nodules, in particular it will miss those that are stuck to the side of the lung, where they often appear! So expand the mask a little :)\n",
    "\n",
    "**This segmentation may fail for some edge cases**. It relies on the fact that the air outside the patient is not connected to the air in the lungs. If the patient has a [tracheostomy](https://en.wikipedia.org/wiki/Tracheotomy), this will not be the case, I do not know whether this is present in the dataset. Also, particulary noisy images (for instance due to a pacemaker in the image below) this method may also fail. Instead, the second largest air pocket in the body will be segmented. You can recognize this by checking the fraction of image that the mask corresponds to, which will be very small for this case. You can then first apply a morphological closing operation with a kernel a few mm in size to close these holes, after which it should work (or more simply, do not use the mask for this image). \n",
    "\n",
    "![pacemaker example][1]\n",
    "\n",
    "# Normalization\n",
    "Our values currently range from -1024 to around 2000. Anything above 400 is not interesting to us, as these are simply bones with different radiodensity.  A commonly used set of thresholds in the LUNA16 competition to normalize between are -1000 and 400. Here's some code you can use:\n",
    "\n",
    "\n",
    "  [1]: http://i.imgur.com/po0eX1L.png"
   ]
  },
  {
   "cell_type": "code",
   "execution_count": null,
   "metadata": {
    "_cell_guid": "b65e2226-a7a5-777d-5e4c-2e87e2f708a9",
    "collapsed": true
   },
   "outputs": [],
   "source": [
    "MIN_BOUND = -1000.0\n",
    "MAX_BOUND = 400.0\n",
    "    \n",
    "def normalize(image):\n",
    "    image = (image - MIN_BOUND) / (MAX_BOUND - MIN_BOUND)\n",
    "    image[image>1] = 1.\n",
    "    image[image<0] = 0.\n",
    "    return image"
   ]
  },
  {
   "cell_type": "markdown",
   "metadata": {
    "_cell_guid": "f2f3eacf-3a41-a36d-ecb5-9354d926e6f4"
   },
   "source": [
    "# Zero centering\n",
    "\n",
    "As a final preprocessing step, it is advisory to zero center your data so that your mean value is 0. To do this you simply subtract the mean pixel value from all pixels. \n",
    "\n",
    "To determine this mean you simply average all images in the whole dataset.  If that sounds like a lot of work, we found this to be around 0.25 in the LUNA16 competition. \n",
    "\n",
    "**Warning: Do not zero center with the mean per image (like is done in some kernels on here). The CT scanners are calibrated to return accurate HU measurements. There is no such thing as an image with lower contrast or brightness like in normal pictures.**"
   ]
  },
  {
   "cell_type": "code",
   "execution_count": null,
   "metadata": {
    "_cell_guid": "3570abfa-b13a-bd5b-06f3-9fd9a4329b1d",
    "collapsed": true
   },
   "outputs": [],
   "source": [
    "PIXEL_MEAN = 0.25\n",
    "\n",
    "def zero_center(image):\n",
    "    image = image - PIXEL_MEAN\n",
    "    return image"
   ]
  },
  {
   "cell_type": "markdown",
   "metadata": {
    "_cell_guid": "17e813c3-6388-1956-47a2-24bb54376142"
   },
   "source": [
    "# What's next? \n",
    "\n",
    "With these steps your images are ready for consumption by your CNN or other ML method :). You can do all these steps offline (one time and save the result), and I would advise you to do so and let it run overnight as it may take a long time. \n",
    "\n",
    "**Tip:** To save storage space, don't do normalization and zero centering beforehand, but do this online (during training, just after loading). If you don't do this yet, your image are int16's, which are smaller than float32s and easier to compress as well.\n",
    "\n",
    "**If this tutorial helped you at all, please upvote it and leave a comment :)**"
   ]
  },
  {
   "cell_type": "code",
   "execution_count": 7,
   "metadata": {
    "collapsed": false
   },
   "outputs": [
    {
     "data": {
      "text/plain": [
       "(0008, 0000) Group Length                        UL: 358\n",
       "(0008, 0005) Specific Character Set              CS: 'ISO_IR 100'\n",
       "(0008, 0016) SOP Class UID                       UI: CT Image Storage\n",
       "(0008, 0018) SOP Instance UID                    UI: 1.3.6.1.4.1.14519.5.2.1.7009.9004.321555830121981826540353244716\n",
       "(0008, 0060) Modality                            CS: 'CT'\n",
       "(0008, 103e) Series Description                  LO: 'Axial'\n",
       "(0010, 0000) Group Length                        UL: 64\n",
       "(0010, 0010) Patient's Name                      PN: '0015ceb851d7251b8f399e39779d1e7d'\n",
       "(0010, 0020) Patient ID                          LO: '0015ceb851d7251b8f399e39779d1e7d'\n",
       "(0010, 0030) Patient's Birth Date                DA: '19000101'\n",
       "(0018, 0050) Slice Thickness                     DS: '2.0'\n",
       "(0018, 0060) KVP                                 DS: ''\n",
       "(0020, 0000) Group Length                        UL: 390\n",
       "(0020, 000d) Study Instance UID                  UI: 2.25.51820907428519808061667399603379702974102486079290552633235\n",
       "(0020, 000e) Series Instance UID                 UI: 2.25.80077681474898947928901837852399466259680906162240840687333\n",
       "(0020, 0011) Series Number                       IS: '2'\n",
       "(0020, 0012) Acquisition Number                  IS: '1'\n",
       "(0020, 0013) Instance Number                     IS: '1'\n",
       "(0020, 0032) Image Position (Patient)            DS: ['-177.500000', '-177.500000', '-384.109985']\n",
       "(0020, 0037) Image Orientation (Patient)         DS: ['1.000000', '0.000000', '0.000000', '0.000000', '1.000000', '0.000000']\n",
       "(0020, 0052) Frame of Reference UID              UI: 2.25.39085688508687805643860350141257111202569461626559365918180\n",
       "(0020, 1040) Position Reference Indicator        LO: 'SN'\n",
       "(0020, 1041) Slice Location                      DS: '-384.109985'\n",
       "(0028, 0000) Group Length                        UL: 200\n",
       "(0028, 0002) Samples per Pixel                   US: 1\n",
       "(0028, 0004) Photometric Interpretation          CS: 'MONOCHROME2'\n",
       "(0028, 0010) Rows                                US: 512\n",
       "(0028, 0011) Columns                             US: 512\n",
       "(0028, 0030) Pixel Spacing                       DS: ['0.693359', '0.693359']\n",
       "(0028, 0100) Bits Allocated                      US: 16\n",
       "(0028, 0101) Bits Stored                         US: 16\n",
       "(0028, 0102) High Bit                            US: 15\n",
       "(0028, 0103) Pixel Representation                US: 1\n",
       "(0028, 0120) Pixel Padding Value                 US or SS: '0\\xf8'\n",
       "(0028, 0301) Burned In Annotation                CS: 'NO'\n",
       "(0028, 0303) Longitudinal Temporal Information M CS: 'MODIFIED'\n",
       "(0028, 1050) Window Center                       DS: '-600'\n",
       "(0028, 1051) Window Width                        DS: '1500'\n",
       "(0028, 1052) Rescale Intercept                   DS: '-1024'\n",
       "(0028, 1053) Rescale Slope                       DS: '1'\n",
       "(7fe0, 0010) Pixel Data                          OB or OW: Array of 524288 bytes"
      ]
     },
     "execution_count": 7,
     "metadata": {},
     "output_type": "execute_result"
    }
   ],
   "source": [
    "scans[0]"
   ]
  },
  {
   "cell_type": "code",
   "execution_count": null,
   "metadata": {
    "collapsed": false
   },
   "outputs": [],
   "source": [
    "scans[0].PixelSpacing"
   ]
  },
  {
   "cell_type": "code",
   "execution_count": null,
   "metadata": {
    "collapsed": false
   },
   "outputs": [],
   "source": [
    "scans[0].SliceThickness"
   ]
  },
  {
   "cell_type": "code",
   "execution_count": 9,
   "metadata": {
    "collapsed": false
   },
   "outputs": [],
   "source": [
    "import json\n",
    "\n",
    "INPUT_FOLDER = '/mnt/data/ndsb17/unpacked/'\n",
    "OUTPUT_FOLDER = '/mnt/data/ndsb17/processed/'\n",
    "\n",
    "def process_series(pid):\n",
    "    print(pid)\n",
    "    scans = load_scans(INPUT_FOLDER + 'stage1/' + pid)\n",
    "    image = get_pixels_hu(scans)\n",
    "    np.save(OUTPUT_FOLDER + 'images_native/' + pid + '.npy', image)\n",
    "\n",
    "    spacing = [ float(x) for x in ([scans[0].SliceThickness] + scans[0].PixelSpacing) ]\n",
    "\n",
    "    image_1mm, spacing_1mm = resample(image, scans, [1,1,1])\n",
    "    np.save(OUTPUT_FOLDER + 'images_1mm/' + pid + '.npy', image_1mm)\n",
    "\n",
    "    with open(OUTPUT_FOLDER + 'infos/' + pid + '.info.json', 'w') as f:\n",
    "        info = {'spacing': list(spacing), 'spacing_1mm':list(spacing_1mm)} # 'origin':list(origin)\n",
    "        json.dump(info, f)\n",
    "\n",
    "    #segmented_lungs_fill = segment_lung_mask(image, True)\n",
    "    #np.save(OUTPUT_FOLDER + 'segmented_native/' + pid + '.npy', segmented_lungs_fill)\n",
    "\n",
    "    segmented_lungs_1mm = segment_lung_mask(image_1mm, True)\n",
    "    np.save(OUTPUT_FOLDER + 'segmented_1mm/' + pid + '.npy', segmented_lungs_1mm)\n",
    "\n"
   ]
  },
  {
   "cell_type": "code",
   "execution_count": null,
   "metadata": {
    "collapsed": false
   },
   "outputs": [],
   "source": [
    "from multiprocessing import Pool\n",
    "pool = Pool(processes=32)\n",
    "pool.map(process_series, patient_ids)"
   ]
  },
  {
   "cell_type": "code",
   "execution_count": 10,
   "metadata": {
    "collapsed": false
   },
   "outputs": [
    {
     "name": "stdout",
     "output_type": "stream",
     "text": [
      "0015ceb851d7251b8f399e39779d1e7d\n"
     ]
    }
   ],
   "source": [
    "process_series(patient_ids[0])"
   ]
  },
  {
   "cell_type": "code",
   "execution_count": null,
   "metadata": {
    "collapsed": false
   },
   "outputs": [],
   "source": [
    "segmented_lungs_fill.dtype"
   ]
  },
  {
   "cell_type": "code",
   "execution_count": null,
   "metadata": {
    "collapsed": false
   },
   "outputs": [],
   "source": [
    "\n",
    "image.dtype"
   ]
  },
  {
   "cell_type": "code",
   "execution_count": null,
   "metadata": {
    "collapsed": false
   },
   "outputs": [],
   "source": [
    "len(patient_ids)"
   ]
  },
  {
   "cell_type": "code",
   "execution_count": null,
   "metadata": {
    "collapsed": false
   },
   "outputs": [],
   "source": [
    "p = image.transpose(2,1,0)\n",
    "p = p[:,:,::-1]\n",
    "plt.imshow(p[:,256,:])"
   ]
  },
  {
   "cell_type": "code",
   "execution_count": null,
   "metadata": {
    "collapsed": true
   },
   "outputs": [],
   "source": [
    "import random\n",
    "import scipy.ndimage.morphology"
   ]
  },
  {
   "cell_type": "code",
   "execution_count": null,
   "metadata": {
    "collapsed": false,
    "scrolled": false
   },
   "outputs": [],
   "source": [
    "for pid in range(100): # bad_pids:\n",
    "    pid = random.choice(patient_ids)\n",
    "    print(pid)\n",
    "    image = np.load(OUTPUT_FOLDER + 'segmented_lungs/' + pid + '.npy')\n",
    "    \n",
    "    # reprocess here\n",
    "#     image = np.load(OUTPUT_FOLDER + 'original_resolution/' + pid + '.npy')\n",
    "#     binary_image = np.array(image > -320, dtype=np.int8)\n",
    "#     binary_image = scipy.ndimage.morphology.binary_dilation(binary_image, border_value=0, iterations=2).astype(np.int8)\n",
    "#     # HACK deal with trays\n",
    "#     binary_image[-1,:,0] = 0\n",
    "#     binary_image[-1,:,-1] = 0\n",
    "#     binary_image += 1\n",
    "#     labels = measure.label(binary_image)\n",
    "#     plt.imshow(labels[:,:,128] == labels[0,0,0])\n",
    "\n",
    "    plt.imshow(image[:,256,:])\n",
    "    #plt.imshow(image[int(image.shape[0]//2),:,:])\n",
    "    plt.show()"
   ]
  },
  {
   "cell_type": "code",
   "execution_count": null,
   "metadata": {
    "collapsed": true
   },
   "outputs": [],
   "source": [
    "bad_ids = ['09b1c678fc1009d84a038cd879be4198',\n",
    "'0acbebb8d463b4b9ca88cf38431aac69',\n",
    "'11f10c2a0bfd231deeec98d69e4d0767',\n",
    "'2a2300103f80aadbfac57516d9a95365',\n",
    "'39c3a2d2ca67bc7a1a22240ea571d50c',\n",
    "'40c044145f5c87c12bd8c725924add3c',\n",
    "'50cdacec399071cf70d8badd2511d0b3',\n",
    "'5c0d992d01e6383d5684b8ac5d7143b1',\n",
    "'718f43ecf121c79899caba1e528bd43e',\n",
    "'78459ff46c9f3b3fa26be2a467515c7e',\n",
    "'820245d8b211808bd18e78ff5be16fdb',\n",
    "'95a27273c11db8bfb9fc27b1e64de6bd',\n",
    "'a2d9e657a673798f9ebdfec1b361f93a',\n",
    "'b7ef0e864365220b8c8bfb153012d09a',\n",
    "'b8276dbece0182602d2ae0c825dfa1b4',\n",
    "'c3b05094939cc128a4593736f05eadec',\n",
    "'c5f73cf44d785e5ac2e7f0a8897f683c',\n",
    "'cbf5f53f3648de7d1324257caa40bb90',\n",
    "'cca8f8cc51b58df2a4804a7aee8eef8c',\n",
    "'cf0a772e90a14d77d664ce9baedf0e5c',\n",
    "'d1a20ef45bb03f93a407b492066f6d88',\n",
    "'d8a0ebe575539c2357c2365cdf0229a0',\n",
    "'f7cdd95c94818875ece1175561025038',\n",
    "'fcfab3eddbdf0421c39f71d651cc5c56']\n"
   ]
  },
  {
   "cell_type": "code",
   "execution_count": null,
   "metadata": {
    "collapsed": false
   },
   "outputs": [],
   "source": [
    "bad_pids = []\n",
    "for pid in patient_ids:\n",
    "#     print(pid)\n",
    "    image = np.load(OUTPUT_FOLDER + 'segmented_lungs/' + pid + '.npy')\n",
    "    if np.amax(image[:,256,:]) == 0:\n",
    "        print(\"bad \" + pid)\n",
    "        bad_pids.append(pid)"
   ]
  },
  {
   "cell_type": "code",
   "execution_count": null,
   "metadata": {
    "collapsed": false
   },
   "outputs": [],
   "source": [
    "len(bad_pids)"
   ]
  },
  {
   "cell_type": "code",
   "execution_count": null,
   "metadata": {
    "collapsed": true
   },
   "outputs": [],
   "source": [
    "z_sizes = []\n",
    "for pid in patient_ids:\n",
    "    image = np.load(OUTPUT_FOLDER + 'segmented_lungs/' + pid + '.npy')\n",
    "    z_sizes.append(image.shape[0])"
   ]
  },
  {
   "cell_type": "code",
   "execution_count": null,
   "metadata": {
    "collapsed": false
   },
   "outputs": [],
   "source": [
    "plt.hist(z_sizes, bins=80, color='c')\n"
   ]
  },
  {
   "cell_type": "code",
   "execution_count": null,
   "metadata": {
    "collapsed": false
   },
   "outputs": [],
   "source": [
    "xy_spacing = []\n",
    "for pid in patient_ids:\n",
    "    with open(OUTPUT_FOLDER + 'original_resolution/' + pid + '.info.json', 'r') as f:\n",
    "        j = json.load(f)\n",
    "        xy_spacing.append(j[\"spacing\"][1])\n",
    "plt.hist(xy_spacing, bins=20, color='c')\n",
    "plt.show()"
   ]
  },
  {
   "cell_type": "code",
   "execution_count": null,
   "metadata": {
    "collapsed": true
   },
   "outputs": [],
   "source": []
  }
 ],
 "metadata": {
  "_change_revision": 7,
  "_is_fork": false,
  "kernelspec": {
   "display_name": "Python 2",
   "language": "python",
   "name": "python2"
  },
  "language_info": {
   "codemirror_mode": {
    "name": "ipython",
    "version": 2
   },
   "file_extension": ".py",
   "mimetype": "text/x-python",
   "name": "python",
   "nbconvert_exporter": "python",
   "pygments_lexer": "ipython2",
   "version": "2.7.13"
  }
 },
 "nbformat": 4,
 "nbformat_minor": 0
}
