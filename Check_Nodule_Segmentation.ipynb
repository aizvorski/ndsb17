{
 "cells": [
  {
   "cell_type": "code",
   "execution_count": 1,
   "metadata": {
    "collapsed": true
   },
   "outputs": [],
   "source": [
    "import numpy as np\n",
    "import random\n",
    "from pylab import *\n",
    "%matplotlib inline"
   ]
  },
  {
   "cell_type": "code",
   "execution_count": 2,
   "metadata": {
    "collapsed": false
   },
   "outputs": [
    {
     "name": "stderr",
     "output_type": "stream",
     "text": [
      "/home/alex/anaconda3/lib/python3.6/site-packages/dicom/__init__.py:53: UserWarning: \n",
      "This code is using an older version of pydicom, which is no longer \n",
      "maintained as of Jan 2017.  You can access the new pydicom features and API \n",
      "by installing `pydicom` from PyPI.\n",
      "See 'Transitioning to pydicom 1.x' section at pydicom.readthedocs.org \n",
      "for more information.\n",
      "\n",
      "  warnings.warn(msg)\n"
     ]
    }
   ],
   "source": [
    "import data"
   ]
  },
  {
   "cell_type": "code",
   "execution_count": 23,
   "metadata": {
    "collapsed": true
   },
   "outputs": [],
   "source": [
    "df_nodes = data.luna16_get_df_nodes() \n",
    "df_nodes = df_nodes[(df_nodes[\"diameter_mm\"]>6)]\n",
    "patient_ids = data.luna16_get_patient_ids()\n",
    "vsize = np.asarray([32,32,32])"
   ]
  },
  {
   "cell_type": "code",
   "execution_count": 24,
   "metadata": {
    "collapsed": false
   },
   "outputs": [],
   "source": [
    "segmentation_results = [] \n",
    "\n",
    "df = df_nodes\n",
    "for idx in range(len(df_nodes)):\n",
    "    #print(idx)\n",
    "    pid = df_nodes.iloc[idx][\"pid\"]\n",
    "    image = data.luna16_get_image(pid)\n",
    "    segmented_image = data.luna16_get_segmented_image(pid)\n",
    "    info = data.luna16_get_info(pid)\n",
    "\n",
    "    node_x = df[\"coordX\"].values[idx]\n",
    "    node_y = df[\"coordY\"].values[idx]\n",
    "    node_z = df[\"coordZ\"].values[idx]\n",
    "    diam = df[\"diameter_mm\"].values[idx]\n",
    "\n",
    "    center = np.array([node_z,node_y,node_x])  #nodule center\n",
    "    origin = np.array(info[\"origin\"]) #x,y,z  Origin in world coordinates (mm)\n",
    "    spacing = np.array(info[\"spacing_1mm\"])# spacing of voxels in world coor. (mm)\n",
    "    # c =np.rint((center-origin)/spacing)  # nodule center in voxel space\n",
    "    # c = c.astype(np.int)\n",
    "    pos = ((center-origin)/spacing - vsize/2)\n",
    "    pos = np.rint(pos).astype(np.int)\n",
    "\n",
    "    s = (slice(pos[0], pos[0]+vsize[0]), slice(pos[1], pos[1]+vsize[1]), slice(pos[2], pos[2]+vsize[2]))\n",
    "    volume = image[s]\n",
    "    segmented_volume = segmented_image[s]\n",
    "    \n",
    "    if volume.shape != (32,32,32):\n",
    "        continue\n",
    "    mask = data.compose_make_mask(vsize, diam=diam+2, sigma=1)\n",
    "    segmentation_results.append( np.sum(segmented_volume*mask) / np.sum(mask) )"
   ]
  },
  {
   "cell_type": "markdown",
   "metadata": {},
   "source": [
    "## Diameter > 6mm"
   ]
  },
  {
   "cell_type": "code",
   "execution_count": 26,
   "metadata": {
    "collapsed": false
   },
   "outputs": [
    {
     "data": {
      "image/png": "[encoded data removed]",
      "text/plain": [
       "<matplotlib.figure.Figure at 0x7f48fba61d68>"
      ]
     },
     "metadata": {},
     "output_type": "display_data"
    }
   ],
   "source": [
    "h = hist(segmentation_results, bins=6)"
   ]
  },
  {
   "cell_type": "markdown",
   "metadata": {},
   "source": [
    "## Diameter > 12mm"
   ]
  },
  {
   "cell_type": "code",
   "execution_count": 22,
   "metadata": {
    "collapsed": false
   },
   "outputs": [
    {
     "data": {
      "image/png": "[encoded data removed]",
      "text/plain": [
       "<matplotlib.figure.Figure at 0x7f48fb8dcf28>"
      ]
     },
     "metadata": {},
     "output_type": "display_data"
    }
   ],
   "source": [
    "h = hist(segmentation_results, bins=6)"
   ]
  },
  {
   "cell_type": "code",
   "execution_count": null,
   "metadata": {
    "collapsed": true
   },
   "outputs": [],
   "source": []
  }
 ],
 "metadata": {
  "kernelspec": {
   "display_name": "Python 3",
   "language": "python",
   "name": "python3"
  },
  "language_info": {
   "codemirror_mode": {
    "name": "ipython",
    "version": 3
   },
   "file_extension": ".py",
   "mimetype": "text/x-python",
   "name": "python",
   "nbconvert_exporter": "python",
   "pygments_lexer": "ipython3",
   "version": "3.6.0"
  }
 },
 "nbformat": 4,
 "nbformat_minor": 2
}
