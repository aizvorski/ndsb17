{
 "cells": [
  {
   "cell_type": "code",
   "execution_count": 23,
   "metadata": {
    "collapsed": true
   },
   "outputs": [],
   "source": [
    "from pylab import imshow, figure, plot, colorbar, show, hist\n",
    "%matplotlib inline"
   ]
  },
  {
   "cell_type": "code",
   "execution_count": 1,
   "metadata": {
    "collapsed": false
   },
   "outputs": [],
   "source": [
    "import os\n",
    "os.environ['CUDA_VISIBLE_DEVICES']='0'\n"
   ]
  },
  {
   "cell_type": "code",
   "execution_count": 9,
   "metadata": {
    "collapsed": true
   },
   "outputs": [],
   "source": [
    "import data\n",
    "import datagen\n",
    "import net\n",
    "import scipy.ndimage.interpolation\n",
    "import numpy as np\n",
    "import pandas as pd\n",
    "import pickle"
   ]
  },
  {
   "cell_type": "code",
   "execution_count": 5,
   "metadata": {
    "collapsed": true
   },
   "outputs": [],
   "source": [
    "def ndsb17_get_predicted_nodules_v2(vsize, patient_ids, min_activity=30):\n",
    "    X_predicted_nodules = []\n",
    "    for pid in patient_ids:\n",
    "        try:\n",
    "            with open('/mnt/data/ndsb17/predict/boxes/' + pid + '.pkl', 'rb') as fh:\n",
    "                label_boxes, label_sizes, label_activities_sum, label_activities_max = pickle.load( fh )\n",
    "        except FileNotFoundError as e:\n",
    "            print(pid, str(e))\n",
    "            X_predicted_nodules.append(None)\n",
    "            continue\n",
    "\n",
    "        idx = np.argsort(label_activities_sum)[::-1][:1]\n",
    "        box = label_boxes[idx]\n",
    "        if box is None:\n",
    "            print(pid, 'no areas')\n",
    "            X_predicted_nodules.append(None)\n",
    "            continue\n",
    "        if label_activities_sum[idx] < min_activity: # TODO soft threshold\n",
    "            print(pid, 'no areas with high enough activity', label_activities_sum[idx])\n",
    "            X_predicted_nodules.append(None)\n",
    "            continue\n",
    "        \n",
    "        center = 2*np.asarray([(box[0].start+box[0].stop)//2, (box[1].start+box[1].stop)//2, (box[2].start+box[2].stop)//2 ])\n",
    "        diam = 2*np.mean([(box[0].start-box[0].stop), (box[1].start-box[1].stop), (box[2].start-box[2].stop) ])\n",
    "\n",
    "        image = data.ndsb17_get_image(pid)\n",
    "        #segmented_image = ndsb17_get_segmented_image(pid)\n",
    "\n",
    "        pos = center - vsize//2\n",
    "        volume = image[pos[0]:pos[0]+vsize[0], pos[1]:pos[1]+vsize[1], pos[2]:pos[2]+vsize[2] ]\n",
    "        #segmented_volume = segmented_image[pos[0]:pos[0]+vsize[0], pos[1]:pos[1]+vsize[1], pos[2]:pos[2]+vsize[2] ]\n",
    "        if volume.shape != (64,64,64):\n",
    "            print(pid, 'shape mismatch')\n",
    "            X_predicted_nodules.append(None)\n",
    "            continue # TODO report something\n",
    "        #volume = (volume + 1000)*segmented_volume - 1000\n",
    "        X_predicted_nodules.append(volume)\n",
    "\n",
    "    return X_predicted_nodules\n"
   ]
  },
  {
   "cell_type": "code",
   "execution_count": 112,
   "metadata": {
    "collapsed": false,
    "scrolled": false
   },
   "outputs": [
    {
     "name": "stdout",
     "output_type": "stream",
     "text": [
      "06a90409e4fcea3e634748b967993531 no areas with high enough activity [ 8.77979207]\n",
      "0b20184e0cd497028bdd155d9fb42dc9 no areas with high enough activity [ 4.20381451]\n",
      "1753250dab5fc81bab8280df13309733 no areas with high enough activity [ 6.62632084]\n",
      "38bf066bba822584e14c0af65d4bb5e9 shape mismatch\n",
      "3ee1fd6a0f3f108c3558e6699fb011f2 no areas with high enough activity [ 6.37045431]\n",
      "4b28f147cb82baba3edcdbd34ca19085 no areas\n",
      "50cdacec399071cf70d8badd2511d0b3 no areas with high enough activity [ 2.34735084]\n",
      "519ad4ead3e61d2d71088ac8e46f25b6 shape mismatch\n",
      "70f4eb8201e3155cc3e399f0ff09c5ef shape mismatch\n",
      "80938b4f531fa2334c13d829339e1356 no areas with high enough activity [ 2.12381816]\n",
      "85d6fb4a08853d370935a75de7495a27 no areas with high enough activity [ 4.55358553]\n",
      "94df6d1ae21c5bfaebe6f8daf8fcd85b shape mismatch\n",
      "9cc74e673ec9807ee055973e1b185624 shape mismatch\n",
      "a334d15ac8d2d25bce76693b1b2a3ed7 shape mismatch\n",
      "ae2fdcd8daa3fede6ae23cc63a8d9a82 no areas with high enough activity [ 2.19259]\n",
      "aec5a58fea38b77b964007aa6975c049 no areas\n",
      "be3e35bf8395366d235b8bcfc71a05ee no areas with high enough activity [ 7.0536139]\n",
      "c3a9046fbe2b0f0a4e43a669c321e472 no areas with high enough activity [ 4.34995151]\n",
      "c87a713d17522698958de55c97654beb no areas\n",
      "cc1b7e34d9eba737c9fb91316463e8f7 shape mismatch\n",
      "cc4805e3ebe8621bc94a621b1714fc84 no areas with high enough activity [ 9.70991111]\n",
      "cd68d1a14cc504e3f7434d5cc324744d no areas with high enough activity [ 4.56360245]\n",
      "d5a0333be8795805fc39509f817780ee no areas with high enough activity [ 4.33020067]\n",
      "e3bc0a970a4af5d52826e06742f90e5b no areas\n",
      "f5ff7734997820b45dafa75dff60ece8 no areas with high enough activity [ 4.31851935]\n"
     ]
    },
    {
     "name": "stderr",
     "output_type": "stream",
     "text": [
      "/home/alex/anaconda3/lib/python3.6/site-packages/ipykernel/__main__.py:13: VisibleDeprecationWarning: converting an array with ndim > 0 to an index will result in an error in the future\n"
     ]
    }
   ],
   "source": [
    "import data\n",
    "import datagen\n",
    "import net\n",
    "import scipy.ndimage.interpolation\n",
    "import numpy as np\n",
    "import pandas as pd\n",
    "import pickle\n",
    "\n",
    "df = data.ndsb17_get_df_test_labels()\n",
    "\n",
    "vsize64 = np.asarray((64,64,64))\n",
    "\n",
    "patient_ids = df[\"id\"].tolist()\n",
    "\n",
    "X_nodules = ndsb17_get_predicted_nodules_v2(vsize64, patient_ids, min_activity=10)\n",
    "\n",
    "p_base = len(df[df[\"cancer\"]==1]) / len(df)\n",
    "\n",
    "y_true, y_pred = [], []\n",
    "for n in range(len(df)):\n",
    "    pid = df[\"id\"][n]\n",
    "    #print(pid, df[\"cancer\"][n])\n",
    "    y_true.append(df[\"cancer\"][n])\n",
    "\n",
    "y_true = np.asarray(y_true)"
   ]
  },
  {
   "cell_type": "code",
   "execution_count": 119,
   "metadata": {
    "collapsed": false
   },
   "outputs": [
    {
     "name": "stderr",
     "output_type": "stream",
     "text": [
      "/home/alex/anaconda3/lib/python3.6/site-packages/scipy/ndimage/interpolation.py:571: RuntimeWarning: invalid value encountered in true_divide\n",
      "  zoom = (numpy.array(input.shape) - 1) / zoom_div\n"
     ]
    }
   ],
   "source": [
    "for n in range(len(X_nodules)):\n",
    "    if X_nodules[n] is None:\n",
    "        X_nodules[n] = np.zeros((64,64,64)) - 1000\n",
    "\n",
    "X_nodules = np.stack(X_nodules)[:,16:16+32,16:16+32,16:16+32,None]\n",
    "X_nodules = datagen.preprocess(X_nodules)\n",
    "X_nodules = scipy.ndimage.interpolation.zoom(X_nodules, (1, 0.5, 0.5, 0.5, 1), order=1)\n"
   ]
  },
  {
   "cell_type": "code",
   "execution_count": 120,
   "metadata": {
    "collapsed": true
   },
   "outputs": [],
   "source": [
    "import importlib\n",
    "import net\n",
    "\n",
    "config_name = 'config_baseline2'\n",
    "config = importlib.import_module(config_name)\n",
    "model = net.model3d((16, 16, 16), sz=config.feature_sz, alpha=config.feature_alpha)\n",
    "model.load_weights('/mnt/data/snap/config_baseline2__20170401054549.0023.h5')"
   ]
  },
  {
   "cell_type": "code",
   "execution_count": 121,
   "metadata": {
    "collapsed": false
   },
   "outputs": [],
   "source": [
    "y_pred = model.predict(X_nodules, batch_size=1)[:,1]"
   ]
  },
  {
   "cell_type": "code",
   "execution_count": 122,
   "metadata": {
    "collapsed": true
   },
   "outputs": [],
   "source": [
    "c = [y_pred[n] for n in range(len(y_pred)) if y_true[n] == 1]\n",
    "nc = [y_pred[n] for n in range(len(y_pred)) if y_true[n] == 0]"
   ]
  },
  {
   "cell_type": "code",
   "execution_count": 123,
   "metadata": {
    "collapsed": false
   },
   "outputs": [
    {
     "data": {
      "image/png": "[encoded data removed]",
      "text/plain": [
       "<matplotlib.figure.Figure at 0x7f83574b04a8>"
      ]
     },
     "metadata": {},
     "output_type": "display_data"
    }
   ],
   "source": [
    "figure(figsize=(20,6))\n",
    "h = hist((c,nc), range=(0,1), bins=200, normed=True)"
   ]
  },
  {
   "cell_type": "code",
   "execution_count": null,
   "metadata": {
    "collapsed": true
   },
   "outputs": [],
   "source": [
    "for n in range(len(y_pred)):\n",
    "    if np.mean(X_nodules[n])"
   ]
  },
  {
   "cell_type": "code",
   "execution_count": 124,
   "metadata": {
    "collapsed": false
   },
   "outputs": [],
   "source": [
    "y_cal = np.zeros(y_true.shape)\n",
    "\n",
    "def oddsr(a, b):\n",
    "    return float(b) / (a+b)\n",
    "\n",
    "for k in range(len(y_pred)):\n",
    "    if y_pred[k] <= 0.005:\n",
    "        y_cal[k] = oddsr(21, 3.5)\n",
    "    elif y_pred[k] > 0.0475 and y_pred[k] < 0.0476:\n",
    "        y_cal[k] = oddsr(75, 28)\n",
    "    elif y_pred[k] > 0.95:\n",
    "        y_cal[k] = oddsr(8.5+3+3+1.4+1.4, 21+14+7+3+7+3+3+3+3)\n",
    "    else:\n",
    "        y_cal[k] = oddsr(1, 1)\n",
    "\n",
    "#y_cal *= p_base"
   ]
  },
  {
   "cell_type": "code",
   "execution_count": 76,
   "metadata": {
    "collapsed": true
   },
   "outputs": [],
   "source": [
    "# for k in range(len(y_pred)):\n",
    "#     if y_pred[k] > 0.0475 and y_pred[k] < 0.0476:\n",
    "#         y_pred[k] = 0\n"
   ]
  },
  {
   "cell_type": "code",
   "execution_count": 114,
   "metadata": {
    "collapsed": true
   },
   "outputs": [],
   "source": [
    "import sklearn.metrics"
   ]
  },
  {
   "cell_type": "code",
   "execution_count": 125,
   "metadata": {
    "collapsed": false
   },
   "outputs": [
    {
     "data": {
      "text/plain": [
       "0.62782446502744416"
      ]
     },
     "execution_count": 125,
     "metadata": {},
     "output_type": "execute_result"
    }
   ],
   "source": [
    "sklearn.metrics.log_loss(y_true, y_cal)"
   ]
  },
  {
   "cell_type": "code",
   "execution_count": 133,
   "metadata": {
    "collapsed": false
   },
   "outputs": [
    {
     "data": {
      "text/plain": [
       "[<matplotlib.lines.Line2D at 0x7f8203c207b8>]"
      ]
     },
     "execution_count": 133,
     "metadata": {},
     "output_type": "execute_result"
    },
    {
     "data": {
      "image/png": "[encoded data removed]",
      "text/plain": [
       "<matplotlib.figure.Figure at 0x7f8283d2dfd0>"
      ]
     },
     "metadata": {},
     "output_type": "display_data"
    }
   ],
   "source": [
    "# http://scikit-learn.org/stable/auto_examples/calibration/plot_calibration_curve.html\n",
    "from sklearn.naive_bayes import GaussianNB\n",
    "from sklearn.svm import LinearSVC\n",
    "from sklearn.linear_model import LogisticRegression\n",
    "from sklearn.calibration import CalibratedClassifierCV, calibration_curve\n",
    "\n",
    "fraction_of_positives, mean_predicted_value = calibration_curve(y_true, y_pred, n_bins=5)\n",
    "plot(mean_predicted_value, fraction_of_positives)"
   ]
  },
  {
   "cell_type": "code",
   "execution_count": 129,
   "metadata": {
    "collapsed": false
   },
   "outputs": [
    {
     "data": {
      "text/plain": [
       "[<matplotlib.lines.Line2D at 0x7f8203def128>]"
      ]
     },
     "execution_count": 129,
     "metadata": {},
     "output_type": "execute_result"
    },
    {
     "data": {
      "image/png": "[encoded data removed]",
      "text/plain": [
       "<matplotlib.figure.Figure at 0x7f8283d71710>"
      ]
     },
     "metadata": {},
     "output_type": "display_data"
    }
   ],
   "source": [
    "clf = LogisticRegression(C=1., solver='lbfgs')\n",
    "\n",
    "y_true = np.asarray(y_true)\n",
    "X = y_pred[:,None]\n",
    "clf.fit(X, y_true)\n",
    "y_cal = clf.predict_proba(X)[:, 1]\n",
    "\n",
    "fraction_of_positives, mean_predicted_value = calibration_curve(y_true, y_cal, n_bins=5)\n",
    "plot(mean_predicted_value, fraction_of_positives)"
   ]
  },
  {
   "cell_type": "code",
   "execution_count": 127,
   "metadata": {
    "collapsed": false
   },
   "outputs": [
    {
     "data": {
      "text/plain": [
       "0.56941491184575588"
      ]
     },
     "execution_count": 127,
     "metadata": {},
     "output_type": "execute_result"
    }
   ],
   "source": [
    "sklearn.metrics.log_loss(y_true, y_cal)"
   ]
  },
  {
   "cell_type": "code",
   "execution_count": null,
   "metadata": {
    "collapsed": true
   },
   "outputs": [],
   "source": []
  }
 ],
 "metadata": {
  "kernelspec": {
   "display_name": "Python 3",
   "language": "python",
   "name": "python3"
  },
  "language_info": {
   "codemirror_mode": {
    "name": "ipython",
    "version": 3
   },
   "file_extension": ".py",
   "mimetype": "text/x-python",
   "name": "python",
   "nbconvert_exporter": "python",
   "pygments_lexer": "ipython3",
   "version": "3.6.0"
  }
 },
 "nbformat": 4,
 "nbformat_minor": 2
}
